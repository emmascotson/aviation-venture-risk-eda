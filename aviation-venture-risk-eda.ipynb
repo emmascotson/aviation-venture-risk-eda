{
 "cells": [
  {
   "cell_type": "markdown",
   "metadata": {},
   "source": [
    "# Aviation Venture Risk EDA\n",
    "\n",
    "## Introduction\n",
    "\n",
    "ACME Co. is interested in purchasing and operating airplanes for commercial and private enterprises. This Exploratory Data Analysis (EDA) utilizes data from the National Transportation Safety Board to determine which aircraft have the lowest risk. The analysis contains actionable insights for the head of the new Aviation Division, Scott Fly.\n",
    "\n",
    "## Import Python Libraries"
   ]
  },
  {
   "cell_type": "code",
   "execution_count": 96,
   "metadata": {},
   "outputs": [],
   "source": [
    "#imports\n",
    "import pandas as pd\n",
    "import numpy as np\n",
    "import matplotlib.pyplot as plt\n",
    "%matplotlib inline"
   ]
  },
  {
   "cell_type": "markdown",
   "metadata": {},
   "source": [
    "# Load the Data"
   ]
  },
  {
   "cell_type": "code",
   "execution_count": 97,
   "metadata": {},
   "outputs": [
    {
     "name": "stdout",
     "output_type": "stream",
     "text": [
      "AviationData.csv  USState_Codes.csv\n"
     ]
    }
   ],
   "source": [
    "!ls data"
   ]
  },
  {
   "cell_type": "code",
   "execution_count": 98,
   "metadata": {},
   "outputs": [],
   "source": [
    "#load the CSV files for the rest of the project\n",
    "\n",
    "#pandas says columns 6, 7, and 28 have mixed data types.  For now we will set them to strings to avoid errors later\n",
    "'''\n",
    "Latitude and Longitude have two formats in the file.  One is degrees, minutes, seconds format \n",
    "with a suffix for hemisphere like N\n",
    "The other format is called decimal degrees and it is a float.\n",
    "'''\n",
    "\n",
    "#latin1 is required as utf-8 will not load\n",
    "#load 5 rows just for column names, a full load shows mixed data type warnings on columns 6, 7, 28\n",
    "#so we will tell pandas to load them as strings\n",
    "aviation_data = pd.read_csv(\"data/AviationData.csv\",encoding=\"latin1\", nrows=1)\n",
    "col_list = list(aviation_data.columns)\n",
    "dtype_spec = {\n",
    "    col_list[6]: 'str', #Latitude\n",
    "    col_list[7]: 'str', #Longitude\n",
    "    col_list[28]: 'str' #Broad.phase.of.flight\n",
    "}\n",
    "\n",
    "#now load it in full without warnings\n",
    "aviation_data = pd.read_csv(\"data/AviationData.csv\",encoding=\"latin1\", dtype=dtype_spec)\n",
    "uscode_data = pd.read_csv(\"data/USState_Codes.csv\")"
   ]
  },
  {
   "cell_type": "markdown",
   "metadata": {},
   "source": [
    "# Standardize Column Names"
   ]
  },
  {
   "cell_type": "code",
   "execution_count": 99,
   "metadata": {},
   "outputs": [
    {
     "name": "stderr",
     "output_type": "stream",
     "text": [
      "/tmp/ipykernel_76879/185406154.py:1: FutureWarning: The default value of regex will change from True to False in a future version. In addition, single character regular expressions will *not* be treated as literal strings when regex=True.\n",
      "  aviation_data.columns = aviation_data.columns.str.lower().str.replace(' ', '_').str.replace('.','_')\n"
     ]
    }
   ],
   "source": [
    "aviation_data.columns = aviation_data.columns.str.lower().str.replace(' ', '_').str.replace('.','_')"
   ]
  },
  {
   "cell_type": "code",
   "execution_count": 100,
   "metadata": {},
   "outputs": [
    {
     "name": "stdout",
     "output_type": "stream",
     "text": [
      "<class 'pandas.core.frame.DataFrame'>\n",
      "RangeIndex: 88889 entries, 0 to 88888\n",
      "Data columns (total 31 columns):\n",
      " #   Column                  Non-Null Count  Dtype  \n",
      "---  ------                  --------------  -----  \n",
      " 0   event_id                88889 non-null  object \n",
      " 1   investigation_type      88889 non-null  object \n",
      " 2   accident_number         88889 non-null  object \n",
      " 3   event_date              88889 non-null  object \n",
      " 4   location                88837 non-null  object \n",
      " 5   country                 88663 non-null  object \n",
      " 6   latitude                34382 non-null  object \n",
      " 7   longitude               34373 non-null  object \n",
      " 8   airport_code            50249 non-null  object \n",
      " 9   airport_name            52790 non-null  object \n",
      " 10  injury_severity         87889 non-null  object \n",
      " 11  aircraft_damage         85695 non-null  object \n",
      " 12  aircraft_category       32287 non-null  object \n",
      " 13  registration_number     87572 non-null  object \n",
      " 14  make                    88826 non-null  object \n",
      " 15  model                   88797 non-null  object \n",
      " 16  amateur_built           88787 non-null  object \n",
      " 17  number_of_engines       82805 non-null  float64\n",
      " 18  engine_type             81812 non-null  object \n",
      " 19  far_description         32023 non-null  object \n",
      " 20  schedule                12582 non-null  object \n",
      " 21  purpose_of_flight       82697 non-null  object \n",
      " 22  air_carrier             16648 non-null  object \n",
      " 23  total_fatal_injuries    77488 non-null  float64\n",
      " 24  total_serious_injuries  76379 non-null  float64\n",
      " 25  total_minor_injuries    76956 non-null  float64\n",
      " 26  total_uninjured         82977 non-null  float64\n",
      " 27  weather_condition       84397 non-null  object \n",
      " 28  broad_phase_of_flight   61724 non-null  object \n",
      " 29  report_status           82508 non-null  object \n",
      " 30  publication_date        75118 non-null  object \n",
      "dtypes: float64(5), object(26)\n",
      "memory usage: 21.0+ MB\n"
     ]
    }
   ],
   "source": [
    "#initial missing data check before cleaning/standardization\n",
    "aviation_data.info()"
   ]
  },
  {
   "cell_type": "markdown",
   "metadata": {},
   "source": [
    "### Mixed Data Type Issue with Longitude, Latitude\n",
    "\n",
    "For latitude and longitude they mix formats.  Some are in degrees, minutes and seconds format with a suffix like 'N' for direction.  Some are in decimal degrees, which are easier to work with mathematically."
   ]
  },
  {
   "cell_type": "code",
   "execution_count": 101,
   "metadata": {},
   "outputs": [
    {
     "data": {
      "text/plain": [
       "332739N      19\n",
       "335219N      18\n",
       "334118N      17\n",
       "32.815556    17\n",
       "324934N      16\n",
       "             ..\n",
       "039613N       1\n",
       "342034N       1\n",
       "433113N       1\n",
       "343255N       1\n",
       "373829N       1\n",
       "Name: latitude, Length: 25589, dtype: int64"
      ]
     },
     "execution_count": 101,
     "metadata": {},
     "output_type": "execute_result"
    }
   ],
   "source": [
    "#To know to pass str types for columns 6, 7 and 28 we had to know what is up with those columns\n",
    "#We do value_counts to see if one issue comes up a lot and inspect some initial values\n",
    "aviation_data['latitude'].value_counts()"
   ]
  },
  {
   "cell_type": "code",
   "execution_count": 102,
   "metadata": {},
   "outputs": [
    {
     "data": {
      "text/plain": [
       "0112457W       24\n",
       "1114342W       18\n",
       "1151140W       17\n",
       "-104.673056    17\n",
       "-112.0825      16\n",
       "               ..\n",
       "0843135W        1\n",
       "0101957W        1\n",
       "1064131W        1\n",
       "1114414W        1\n",
       "0121410W        1\n",
       "Name: longitude, Length: 27154, dtype: int64"
      ]
     },
     "execution_count": 102,
     "metadata": {},
     "output_type": "execute_result"
    }
   ],
   "source": [
    "aviation_data['longitude'].value_counts()"
   ]
  },
  {
   "cell_type": "markdown",
   "metadata": {},
   "source": [
    "### Mixed Data Type for Broad.phase.of.flight \n",
    "This is likely due to NaN, but needs more investigation"
   ]
  },
  {
   "cell_type": "code",
   "execution_count": 103,
   "metadata": {},
   "outputs": [
    {
     "data": {
      "text/plain": [
       "0      Cruise\n",
       "1     Unknown\n",
       "2      Cruise\n",
       "3      Cruise\n",
       "4    Approach\n",
       "Name: broad_phase_of_flight, dtype: object"
      ]
     },
     "execution_count": 103,
     "metadata": {},
     "output_type": "execute_result"
    }
   ],
   "source": [
    "aviation_data['broad_phase_of_flight'].head()"
   ]
  },
  {
   "cell_type": "code",
   "execution_count": 104,
   "metadata": {},
   "outputs": [
    {
     "data": {
      "text/plain": [
       "Landing        15428\n",
       "Takeoff        12493\n",
       "Cruise         10269\n",
       "Maneuvering     8144\n",
       "Approach        6546\n",
       "Climb           2034\n",
       "Taxi            1958\n",
       "Descent         1887\n",
       "Go-around       1353\n",
       "Standing         945\n",
       "Unknown          548\n",
       "Other            119\n",
       "Name: broad_phase_of_flight, dtype: int64"
      ]
     },
     "execution_count": 104,
     "metadata": {},
     "output_type": "execute_result"
    }
   ],
   "source": [
    "aviation_data['broad_phase_of_flight'].value_counts()"
   ]
  },
  {
   "cell_type": "code",
   "execution_count": 105,
   "metadata": {},
   "outputs": [
    {
     "data": {
      "text/plain": [
       "27165"
      ]
     },
     "execution_count": 105,
     "metadata": {},
     "output_type": "execute_result"
    }
   ],
   "source": [
    "aviation_data['broad_phase_of_flight'].isna().sum()"
   ]
  },
  {
   "cell_type": "code",
   "execution_count": 106,
   "metadata": {},
   "outputs": [
    {
     "data": {
      "text/plain": [
       "3030    NaN\n",
       "3550    NaN\n",
       "3637    NaN\n",
       "4032    NaN\n",
       "5505    NaN\n",
       "Name: broad_phase_of_flight, dtype: object"
      ]
     },
     "execution_count": 106,
     "metadata": {},
     "output_type": "execute_result"
    }
   ],
   "source": [
    "aviation_data[aviation_data['broad_phase_of_flight'].isna()]['broad_phase_of_flight'].head()"
   ]
  },
  {
   "cell_type": "markdown",
   "metadata": {},
   "source": [
    "# Standardize Data\n",
    "\n",
    "Lets attack getting rid of duplicate labels.  We checked ahead and there's a lot of labels duplicated for a lot of reasons.  This attempts to get rid of all of that."
   ]
  },
  {
   "cell_type": "code",
   "execution_count": 107,
   "metadata": {},
   "outputs": [
    {
     "data": {
      "text/html": [
       "<div>\n",
       "<style scoped>\n",
       "    .dataframe tbody tr th:only-of-type {\n",
       "        vertical-align: middle;\n",
       "    }\n",
       "\n",
       "    .dataframe tbody tr th {\n",
       "        vertical-align: top;\n",
       "    }\n",
       "\n",
       "    .dataframe thead th {\n",
       "        text-align: right;\n",
       "    }\n",
       "</style>\n",
       "<table border=\"1\" class=\"dataframe\">\n",
       "  <thead>\n",
       "    <tr style=\"text-align: right;\">\n",
       "      <th></th>\n",
       "      <th>event_id</th>\n",
       "      <th>investigation_type</th>\n",
       "      <th>accident_number</th>\n",
       "      <th>event_date</th>\n",
       "      <th>location</th>\n",
       "      <th>country</th>\n",
       "      <th>latitude</th>\n",
       "      <th>longitude</th>\n",
       "      <th>airport_code</th>\n",
       "      <th>airport_name</th>\n",
       "      <th>...</th>\n",
       "      <th>purpose_of_flight</th>\n",
       "      <th>air_carrier</th>\n",
       "      <th>total_fatal_injuries</th>\n",
       "      <th>total_serious_injuries</th>\n",
       "      <th>total_minor_injuries</th>\n",
       "      <th>total_uninjured</th>\n",
       "      <th>weather_condition</th>\n",
       "      <th>broad_phase_of_flight</th>\n",
       "      <th>report_status</th>\n",
       "      <th>publication_date</th>\n",
       "    </tr>\n",
       "  </thead>\n",
       "  <tbody>\n",
       "    <tr>\n",
       "      <th>0</th>\n",
       "      <td>20001218X45444</td>\n",
       "      <td>Accident</td>\n",
       "      <td>SEA87LA080</td>\n",
       "      <td>1948-10-24</td>\n",
       "      <td>MOOSE CREEK, ID</td>\n",
       "      <td>United States</td>\n",
       "      <td>NaN</td>\n",
       "      <td>NaN</td>\n",
       "      <td>NaN</td>\n",
       "      <td>NaN</td>\n",
       "      <td>...</td>\n",
       "      <td>Personal</td>\n",
       "      <td>NaN</td>\n",
       "      <td>2.0</td>\n",
       "      <td>0.0</td>\n",
       "      <td>0.0</td>\n",
       "      <td>0.0</td>\n",
       "      <td>UNK</td>\n",
       "      <td>Cruise</td>\n",
       "      <td>Probable Cause</td>\n",
       "      <td>NaN</td>\n",
       "    </tr>\n",
       "    <tr>\n",
       "      <th>1</th>\n",
       "      <td>20001218X45447</td>\n",
       "      <td>Accident</td>\n",
       "      <td>LAX94LA336</td>\n",
       "      <td>1962-07-19</td>\n",
       "      <td>BRIDGEPORT, CA</td>\n",
       "      <td>United States</td>\n",
       "      <td>NaN</td>\n",
       "      <td>NaN</td>\n",
       "      <td>NaN</td>\n",
       "      <td>NaN</td>\n",
       "      <td>...</td>\n",
       "      <td>Personal</td>\n",
       "      <td>NaN</td>\n",
       "      <td>4.0</td>\n",
       "      <td>0.0</td>\n",
       "      <td>0.0</td>\n",
       "      <td>0.0</td>\n",
       "      <td>UNK</td>\n",
       "      <td>Unknown</td>\n",
       "      <td>Probable Cause</td>\n",
       "      <td>19-09-1996</td>\n",
       "    </tr>\n",
       "    <tr>\n",
       "      <th>2</th>\n",
       "      <td>20061025X01555</td>\n",
       "      <td>Accident</td>\n",
       "      <td>NYC07LA005</td>\n",
       "      <td>1974-08-30</td>\n",
       "      <td>Saltville, VA</td>\n",
       "      <td>United States</td>\n",
       "      <td>36.922223</td>\n",
       "      <td>-81.878056</td>\n",
       "      <td>NaN</td>\n",
       "      <td>NaN</td>\n",
       "      <td>...</td>\n",
       "      <td>Personal</td>\n",
       "      <td>NaN</td>\n",
       "      <td>3.0</td>\n",
       "      <td>NaN</td>\n",
       "      <td>NaN</td>\n",
       "      <td>NaN</td>\n",
       "      <td>IMC</td>\n",
       "      <td>Cruise</td>\n",
       "      <td>Probable Cause</td>\n",
       "      <td>26-02-2007</td>\n",
       "    </tr>\n",
       "    <tr>\n",
       "      <th>3</th>\n",
       "      <td>20001218X45448</td>\n",
       "      <td>Accident</td>\n",
       "      <td>LAX96LA321</td>\n",
       "      <td>1977-06-19</td>\n",
       "      <td>EUREKA, CA</td>\n",
       "      <td>United States</td>\n",
       "      <td>NaN</td>\n",
       "      <td>NaN</td>\n",
       "      <td>NaN</td>\n",
       "      <td>NaN</td>\n",
       "      <td>...</td>\n",
       "      <td>Personal</td>\n",
       "      <td>NaN</td>\n",
       "      <td>2.0</td>\n",
       "      <td>0.0</td>\n",
       "      <td>0.0</td>\n",
       "      <td>0.0</td>\n",
       "      <td>IMC</td>\n",
       "      <td>Cruise</td>\n",
       "      <td>Probable Cause</td>\n",
       "      <td>12-09-2000</td>\n",
       "    </tr>\n",
       "    <tr>\n",
       "      <th>4</th>\n",
       "      <td>20041105X01764</td>\n",
       "      <td>Accident</td>\n",
       "      <td>CHI79FA064</td>\n",
       "      <td>1979-08-02</td>\n",
       "      <td>Canton, OH</td>\n",
       "      <td>United States</td>\n",
       "      <td>NaN</td>\n",
       "      <td>NaN</td>\n",
       "      <td>NaN</td>\n",
       "      <td>NaN</td>\n",
       "      <td>...</td>\n",
       "      <td>Personal</td>\n",
       "      <td>NaN</td>\n",
       "      <td>1.0</td>\n",
       "      <td>2.0</td>\n",
       "      <td>NaN</td>\n",
       "      <td>0.0</td>\n",
       "      <td>VMC</td>\n",
       "      <td>Approach</td>\n",
       "      <td>Probable Cause</td>\n",
       "      <td>16-04-1980</td>\n",
       "    </tr>\n",
       "  </tbody>\n",
       "</table>\n",
       "<p>5 rows × 31 columns</p>\n",
       "</div>"
      ],
      "text/plain": [
       "         event_id investigation_type accident_number  event_date  \\\n",
       "0  20001218X45444           Accident      SEA87LA080  1948-10-24   \n",
       "1  20001218X45447           Accident      LAX94LA336  1962-07-19   \n",
       "2  20061025X01555           Accident      NYC07LA005  1974-08-30   \n",
       "3  20001218X45448           Accident      LAX96LA321  1977-06-19   \n",
       "4  20041105X01764           Accident      CHI79FA064  1979-08-02   \n",
       "\n",
       "          location        country   latitude   longitude airport_code  \\\n",
       "0  MOOSE CREEK, ID  United States        NaN         NaN          NaN   \n",
       "1   BRIDGEPORT, CA  United States        NaN         NaN          NaN   \n",
       "2    Saltville, VA  United States  36.922223  -81.878056          NaN   \n",
       "3       EUREKA, CA  United States        NaN         NaN          NaN   \n",
       "4       Canton, OH  United States        NaN         NaN          NaN   \n",
       "\n",
       "  airport_name  ... purpose_of_flight air_carrier total_fatal_injuries  \\\n",
       "0          NaN  ...          Personal         NaN                  2.0   \n",
       "1          NaN  ...          Personal         NaN                  4.0   \n",
       "2          NaN  ...          Personal         NaN                  3.0   \n",
       "3          NaN  ...          Personal         NaN                  2.0   \n",
       "4          NaN  ...          Personal         NaN                  1.0   \n",
       "\n",
       "  total_serious_injuries total_minor_injuries total_uninjured  \\\n",
       "0                    0.0                  0.0             0.0   \n",
       "1                    0.0                  0.0             0.0   \n",
       "2                    NaN                  NaN             NaN   \n",
       "3                    0.0                  0.0             0.0   \n",
       "4                    2.0                  NaN             0.0   \n",
       "\n",
       "  weather_condition  broad_phase_of_flight   report_status publication_date  \n",
       "0               UNK                 Cruise  Probable Cause              NaN  \n",
       "1               UNK                Unknown  Probable Cause       19-09-1996  \n",
       "2               IMC                 Cruise  Probable Cause       26-02-2007  \n",
       "3               IMC                 Cruise  Probable Cause       12-09-2000  \n",
       "4               VMC               Approach  Probable Cause       16-04-1980  \n",
       "\n",
       "[5 rows x 31 columns]"
      ]
     },
     "metadata": {},
     "output_type": "display_data"
    },
    {
     "data": {
      "text/html": [
       "<div>\n",
       "<style scoped>\n",
       "    .dataframe tbody tr th:only-of-type {\n",
       "        vertical-align: middle;\n",
       "    }\n",
       "\n",
       "    .dataframe tbody tr th {\n",
       "        vertical-align: top;\n",
       "    }\n",
       "\n",
       "    .dataframe thead th {\n",
       "        text-align: right;\n",
       "    }\n",
       "</style>\n",
       "<table border=\"1\" class=\"dataframe\">\n",
       "  <thead>\n",
       "    <tr style=\"text-align: right;\">\n",
       "      <th></th>\n",
       "      <th>event_id</th>\n",
       "      <th>investigation_type</th>\n",
       "      <th>accident_number</th>\n",
       "      <th>event_date</th>\n",
       "      <th>location</th>\n",
       "      <th>country</th>\n",
       "      <th>latitude</th>\n",
       "      <th>longitude</th>\n",
       "      <th>airport_code</th>\n",
       "      <th>airport_name</th>\n",
       "      <th>...</th>\n",
       "      <th>purpose_of_flight</th>\n",
       "      <th>air_carrier</th>\n",
       "      <th>total_fatal_injuries</th>\n",
       "      <th>total_serious_injuries</th>\n",
       "      <th>total_minor_injuries</th>\n",
       "      <th>total_uninjured</th>\n",
       "      <th>weather_condition</th>\n",
       "      <th>broad_phase_of_flight</th>\n",
       "      <th>report_status</th>\n",
       "      <th>publication_date</th>\n",
       "    </tr>\n",
       "  </thead>\n",
       "  <tbody>\n",
       "    <tr>\n",
       "      <th>0</th>\n",
       "      <td>20001218x45444</td>\n",
       "      <td>accident</td>\n",
       "      <td>sea87la080</td>\n",
       "      <td>1948-10-24</td>\n",
       "      <td>moose creek, id</td>\n",
       "      <td>united states</td>\n",
       "      <td>NaN</td>\n",
       "      <td>NaN</td>\n",
       "      <td>NaN</td>\n",
       "      <td>NaN</td>\n",
       "      <td>...</td>\n",
       "      <td>personal</td>\n",
       "      <td>NaN</td>\n",
       "      <td>2.0</td>\n",
       "      <td>0.0</td>\n",
       "      <td>0.0</td>\n",
       "      <td>0.0</td>\n",
       "      <td>unk</td>\n",
       "      <td>cruise</td>\n",
       "      <td>probable cause</td>\n",
       "      <td>NaN</td>\n",
       "    </tr>\n",
       "    <tr>\n",
       "      <th>1</th>\n",
       "      <td>20001218x45447</td>\n",
       "      <td>accident</td>\n",
       "      <td>lax94la336</td>\n",
       "      <td>1962-07-19</td>\n",
       "      <td>bridgeport, ca</td>\n",
       "      <td>united states</td>\n",
       "      <td>NaN</td>\n",
       "      <td>NaN</td>\n",
       "      <td>NaN</td>\n",
       "      <td>NaN</td>\n",
       "      <td>...</td>\n",
       "      <td>personal</td>\n",
       "      <td>NaN</td>\n",
       "      <td>4.0</td>\n",
       "      <td>0.0</td>\n",
       "      <td>0.0</td>\n",
       "      <td>0.0</td>\n",
       "      <td>unk</td>\n",
       "      <td>unknown</td>\n",
       "      <td>probable cause</td>\n",
       "      <td>19-09-1996</td>\n",
       "    </tr>\n",
       "    <tr>\n",
       "      <th>2</th>\n",
       "      <td>20061025x01555</td>\n",
       "      <td>accident</td>\n",
       "      <td>nyc07la005</td>\n",
       "      <td>1974-08-30</td>\n",
       "      <td>saltville, va</td>\n",
       "      <td>united states</td>\n",
       "      <td>36.922223</td>\n",
       "      <td>-81.878056</td>\n",
       "      <td>NaN</td>\n",
       "      <td>NaN</td>\n",
       "      <td>...</td>\n",
       "      <td>personal</td>\n",
       "      <td>NaN</td>\n",
       "      <td>3.0</td>\n",
       "      <td>NaN</td>\n",
       "      <td>NaN</td>\n",
       "      <td>NaN</td>\n",
       "      <td>imc</td>\n",
       "      <td>cruise</td>\n",
       "      <td>probable cause</td>\n",
       "      <td>26-02-2007</td>\n",
       "    </tr>\n",
       "    <tr>\n",
       "      <th>3</th>\n",
       "      <td>20001218x45448</td>\n",
       "      <td>accident</td>\n",
       "      <td>lax96la321</td>\n",
       "      <td>1977-06-19</td>\n",
       "      <td>eureka, ca</td>\n",
       "      <td>united states</td>\n",
       "      <td>NaN</td>\n",
       "      <td>NaN</td>\n",
       "      <td>NaN</td>\n",
       "      <td>NaN</td>\n",
       "      <td>...</td>\n",
       "      <td>personal</td>\n",
       "      <td>NaN</td>\n",
       "      <td>2.0</td>\n",
       "      <td>0.0</td>\n",
       "      <td>0.0</td>\n",
       "      <td>0.0</td>\n",
       "      <td>imc</td>\n",
       "      <td>cruise</td>\n",
       "      <td>probable cause</td>\n",
       "      <td>12-09-2000</td>\n",
       "    </tr>\n",
       "    <tr>\n",
       "      <th>4</th>\n",
       "      <td>20041105x01764</td>\n",
       "      <td>accident</td>\n",
       "      <td>chi79fa064</td>\n",
       "      <td>1979-08-02</td>\n",
       "      <td>canton, oh</td>\n",
       "      <td>united states</td>\n",
       "      <td>NaN</td>\n",
       "      <td>NaN</td>\n",
       "      <td>NaN</td>\n",
       "      <td>NaN</td>\n",
       "      <td>...</td>\n",
       "      <td>personal</td>\n",
       "      <td>NaN</td>\n",
       "      <td>1.0</td>\n",
       "      <td>2.0</td>\n",
       "      <td>NaN</td>\n",
       "      <td>0.0</td>\n",
       "      <td>vmc</td>\n",
       "      <td>approach</td>\n",
       "      <td>probable cause</td>\n",
       "      <td>16-04-1980</td>\n",
       "    </tr>\n",
       "  </tbody>\n",
       "</table>\n",
       "<p>5 rows × 31 columns</p>\n",
       "</div>"
      ],
      "text/plain": [
       "         event_id investigation_type accident_number  event_date  \\\n",
       "0  20001218x45444           accident      sea87la080  1948-10-24   \n",
       "1  20001218x45447           accident      lax94la336  1962-07-19   \n",
       "2  20061025x01555           accident      nyc07la005  1974-08-30   \n",
       "3  20001218x45448           accident      lax96la321  1977-06-19   \n",
       "4  20041105x01764           accident      chi79fa064  1979-08-02   \n",
       "\n",
       "          location        country   latitude   longitude airport_code  \\\n",
       "0  moose creek, id  united states        NaN         NaN          NaN   \n",
       "1   bridgeport, ca  united states        NaN         NaN          NaN   \n",
       "2    saltville, va  united states  36.922223  -81.878056          NaN   \n",
       "3       eureka, ca  united states        NaN         NaN          NaN   \n",
       "4       canton, oh  united states        NaN         NaN          NaN   \n",
       "\n",
       "  airport_name  ... purpose_of_flight air_carrier total_fatal_injuries  \\\n",
       "0          NaN  ...          personal         NaN                  2.0   \n",
       "1          NaN  ...          personal         NaN                  4.0   \n",
       "2          NaN  ...          personal         NaN                  3.0   \n",
       "3          NaN  ...          personal         NaN                  2.0   \n",
       "4          NaN  ...          personal         NaN                  1.0   \n",
       "\n",
       "  total_serious_injuries total_minor_injuries total_uninjured  \\\n",
       "0                    0.0                  0.0             0.0   \n",
       "1                    0.0                  0.0             0.0   \n",
       "2                    NaN                  NaN             NaN   \n",
       "3                    0.0                  0.0             0.0   \n",
       "4                    2.0                  NaN             0.0   \n",
       "\n",
       "  weather_condition  broad_phase_of_flight   report_status publication_date  \n",
       "0               unk                 cruise  probable cause              NaN  \n",
       "1               unk                unknown  probable cause       19-09-1996  \n",
       "2               imc                 cruise  probable cause       26-02-2007  \n",
       "3               imc                 cruise  probable cause       12-09-2000  \n",
       "4               vmc               approach  probable cause       16-04-1980  \n",
       "\n",
       "[5 rows x 31 columns]"
      ]
     },
     "metadata": {},
     "output_type": "display_data"
    },
    {
     "data": {
      "text/plain": [
       "pvt     497\n",
       "apa     160\n",
       "ord     149\n",
       "mri     137\n",
       "den     115\n",
       "       ... \n",
       "78oh      1\n",
       "0v6       1\n",
       "8c3       1\n",
       "56m       1\n",
       "eikh      1\n",
       "Name: airport_code, Length: 10345, dtype: int64"
      ]
     },
     "execution_count": 107,
     "metadata": {},
     "output_type": "execute_result"
    }
   ],
   "source": [
    "#lowercase and stripe white space, this removes a lot of duplicate labels\n",
    "def standardize_string(s):\n",
    "    if pd.isna(s):\n",
    "        return s\n",
    "    if isinstance(s,str):\n",
    "        s = s.strip().lower()#.replace(' ','_')\n",
    "    return s\n",
    "\n",
    "#for some columns treating none as nan helps us do analysis\n",
    "def none_to_nan(s):\n",
    "    if s == 'none':\n",
    "        return np.nan\n",
    "    return s\n",
    "\n",
    "#for some columns treating unknown as nan helps us do analysis\n",
    "def unknown_to_nan(s):\n",
    "    if s == 'unknown':\n",
    "        return np.nan\n",
    "    return s\n",
    "\n",
    "#for some columns treating unknown as nan helps us do analysis\n",
    "def unk_to_nan(s):\n",
    "    if s == 'unk':\n",
    "        return np.nan\n",
    "    return s\n",
    "\n",
    "def replace_in_cols(cols,map):\n",
    "    aviation_data[cols] = aviation_data[cols].applymap(map)\n",
    "\n",
    "\n",
    "display(aviation_data.head())\n",
    "aviation_data = aviation_data.applymap(standardize_string)\n",
    "\n",
    "replace_in_cols(['airport_code','airport_name','registration_number'], none_to_nan)\n",
    "replace_in_cols(['aircraft_category','registration_number','engine_type','far_description'], unk_to_nan)\n",
    "replace_in_cols(['engine_type','aircraft_damage','registration_number'], unknown_to_nan)\n",
    "\n",
    "display(aviation_data.head())\n",
    "aviation_data['airport_code'].value_counts()"
   ]
  },
  {
   "cell_type": "code",
   "execution_count": 108,
   "metadata": {},
   "outputs": [
    {
     "name": "stdout",
     "output_type": "stream",
     "text": [
      "<class 'pandas.core.frame.DataFrame'>\n",
      "RangeIndex: 88889 entries, 0 to 88888\n",
      "Data columns (total 31 columns):\n",
      " #   Column                  Non-Null Count  Dtype  \n",
      "---  ------                  --------------  -----  \n",
      " 0   event_id                88889 non-null  object \n",
      " 1   investigation_type      88889 non-null  object \n",
      " 2   accident_number         88889 non-null  object \n",
      " 3   event_date              88889 non-null  object \n",
      " 4   location                88837 non-null  object \n",
      " 5   country                 88663 non-null  object \n",
      " 6   latitude                34382 non-null  object \n",
      " 7   longitude               34373 non-null  object \n",
      " 8   airport_code            48637 non-null  object \n",
      " 9   airport_name            52558 non-null  object \n",
      " 10  injury_severity         87889 non-null  object \n",
      " 11  aircraft_damage         85576 non-null  object \n",
      " 12  aircraft_category       32285 non-null  object \n",
      " 13  registration_number     87137 non-null  object \n",
      " 14  make                    88826 non-null  object \n",
      " 15  model                   88797 non-null  object \n",
      " 16  amateur_built           88787 non-null  object \n",
      " 17  number_of_engines       82805 non-null  float64\n",
      " 18  engine_type             79760 non-null  object \n",
      " 19  far_description         31652 non-null  object \n",
      " 20  schedule                12582 non-null  object \n",
      " 21  purpose_of_flight       82697 non-null  object \n",
      " 22  air_carrier             16648 non-null  object \n",
      " 23  total_fatal_injuries    77488 non-null  float64\n",
      " 24  total_serious_injuries  76379 non-null  float64\n",
      " 25  total_minor_injuries    76956 non-null  float64\n",
      " 26  total_uninjured         82977 non-null  float64\n",
      " 27  weather_condition       84397 non-null  object \n",
      " 28  broad_phase_of_flight   61724 non-null  object \n",
      " 29  report_status           82508 non-null  object \n",
      " 30  publication_date        75118 non-null  object \n",
      "dtypes: float64(5), object(26)\n",
      "memory usage: 21.0+ MB\n"
     ]
    }
   ],
   "source": [
    "#initial missing data check before cleaning/standardization\n",
    "aviation_data.info()"
   ]
  },
  {
   "cell_type": "markdown",
   "metadata": {},
   "source": [
    "# Checking for Missing Data\n",
    "First we will run some checks on the aviation_data to see what we're dealing with for missing data"
   ]
  },
  {
   "cell_type": "code",
   "execution_count": 109,
   "metadata": {},
   "outputs": [
    {
     "name": "stdout",
     "output_type": "stream",
     "text": [
      "<class 'pandas.core.frame.DataFrame'>\n",
      "RangeIndex: 88889 entries, 0 to 88888\n",
      "Data columns (total 31 columns):\n",
      " #   Column                  Non-Null Count  Dtype  \n",
      "---  ------                  --------------  -----  \n",
      " 0   event_id                88889 non-null  object \n",
      " 1   investigation_type      88889 non-null  object \n",
      " 2   accident_number         88889 non-null  object \n",
      " 3   event_date              88889 non-null  object \n",
      " 4   location                88837 non-null  object \n",
      " 5   country                 88663 non-null  object \n",
      " 6   latitude                34382 non-null  object \n",
      " 7   longitude               34373 non-null  object \n",
      " 8   airport_code            48637 non-null  object \n",
      " 9   airport_name            52558 non-null  object \n",
      " 10  injury_severity         87889 non-null  object \n",
      " 11  aircraft_damage         85576 non-null  object \n",
      " 12  aircraft_category       32285 non-null  object \n",
      " 13  registration_number     87137 non-null  object \n",
      " 14  make                    88826 non-null  object \n",
      " 15  model                   88797 non-null  object \n",
      " 16  amateur_built           88787 non-null  object \n",
      " 17  number_of_engines       82805 non-null  float64\n",
      " 18  engine_type             79760 non-null  object \n",
      " 19  far_description         31652 non-null  object \n",
      " 20  schedule                12582 non-null  object \n",
      " 21  purpose_of_flight       82697 non-null  object \n",
      " 22  air_carrier             16648 non-null  object \n",
      " 23  total_fatal_injuries    77488 non-null  float64\n",
      " 24  total_serious_injuries  76379 non-null  float64\n",
      " 25  total_minor_injuries    76956 non-null  float64\n",
      " 26  total_uninjured         82977 non-null  float64\n",
      " 27  weather_condition       84397 non-null  object \n",
      " 28  broad_phase_of_flight   61724 non-null  object \n",
      " 29  report_status           82508 non-null  object \n",
      " 30  publication_date        75118 non-null  object \n",
      "dtypes: float64(5), object(26)\n",
      "memory usage: 21.0+ MB\n"
     ]
    }
   ],
   "source": [
    "aviation_data.info()"
   ]
  },
  {
   "cell_type": "markdown",
   "metadata": {},
   "source": [
    "It seems we are missing a lot of data!  We will need to formulate plans on all of this.\n",
    "This next code block will let us see how much data is missing percent wise\n",
    "\n",
    "## Missing Percent"
   ]
  },
  {
   "cell_type": "code",
   "execution_count": 110,
   "metadata": {},
   "outputs": [
    {
     "data": {
      "text/plain": [
       "event_id                   0.000000\n",
       "investigation_type         0.000000\n",
       "accident_number            0.000000\n",
       "event_date                 0.000000\n",
       "location                   0.058500\n",
       "country                    0.254250\n",
       "latitude                  61.320298\n",
       "longitude                 61.330423\n",
       "airport_code              45.283443\n",
       "airport_name              40.872324\n",
       "injury_severity            1.124999\n",
       "aircraft_damage            3.727120\n",
       "aircraft_category         63.679420\n",
       "registration_number        1.970998\n",
       "make                       0.070875\n",
       "model                      0.103500\n",
       "amateur_built              0.114750\n",
       "number_of_engines          6.844491\n",
       "engine_type               10.270112\n",
       "far_description           64.391545\n",
       "schedule                  85.845268\n",
       "purpose_of_flight          6.965991\n",
       "air_carrier               81.271023\n",
       "total_fatal_injuries      12.826109\n",
       "total_serious_injuries    14.073732\n",
       "total_minor_injuries      13.424608\n",
       "total_uninjured            6.650992\n",
       "weather_condition          5.053494\n",
       "broad_phase_of_flight     30.560587\n",
       "report_status              7.178616\n",
       "publication_date          15.492356\n",
       "dtype: float64"
      ]
     },
     "execution_count": 110,
     "metadata": {},
     "output_type": "execute_result"
    }
   ],
   "source": [
    "# Calculate the percentage of missing values for each column\n",
    "missing_perc = aviation_data.isna().mean() * 100\n",
    "missing_perc"
   ]
  },
  {
   "cell_type": "markdown",
   "metadata": {},
   "source": [
    "Convention suggests dropping columns where over 50% of the data is missing, unless it is very important to your analysis.\n",
    "These are candidates to consider dropping:"
   ]
  },
  {
   "cell_type": "code",
   "execution_count": 111,
   "metadata": {},
   "outputs": [
    {
     "data": {
      "text/plain": [
       "latitude             61.320298\n",
       "longitude            61.330423\n",
       "aircraft_category    63.679420\n",
       "far_description      64.391545\n",
       "schedule             85.845268\n",
       "air_carrier          81.271023\n",
       "dtype: float64"
      ]
     },
     "execution_count": 111,
     "metadata": {},
     "output_type": "execute_result"
    }
   ],
   "source": [
    "missing_perc[missing_perc > 50]"
   ]
  },
  {
   "cell_type": "markdown",
   "metadata": {},
   "source": [
    "## location\n",
    "\n",
    "Lets see what Location has, maybe it will help us decide on what to do with Lat and Long"
   ]
  },
  {
   "cell_type": "code",
   "execution_count": 112,
   "metadata": {},
   "outputs": [
    {
     "data": {
      "text/plain": [
       "anchorage, ak       548\n",
       "miami, fl           275\n",
       "houston, tx         271\n",
       "albuquerque, nm     265\n",
       "chicago, il         256\n",
       "                   ... \n",
       "medina, mn            1\n",
       "circle pines, mn      1\n",
       "pine island, fl       1\n",
       "churchtown, oh        1\n",
       "brasnorte,            1\n",
       "Name: location, Length: 21977, dtype: int64"
      ]
     },
     "execution_count": 112,
     "metadata": {},
     "output_type": "execute_result"
    }
   ],
   "source": [
    "aviation_data['location'].value_counts()"
   ]
  },
  {
   "cell_type": "markdown",
   "metadata": {},
   "source": [
    "We have options now, we can drop Lat and Long or we can use some sort of API to get the Lat and Long filled based on the Locatoin when it is missing!  We don't have to decide now, lets let further exploration guide our choices."
   ]
  },
  {
   "cell_type": "markdown",
   "metadata": {},
   "source": [
    "# Exploring More Columns\n",
    "\n",
    "## investigation_type"
   ]
  },
  {
   "cell_type": "code",
   "execution_count": 113,
   "metadata": {},
   "outputs": [
    {
     "data": {
      "text/plain": [
       "accident    85015\n",
       "incident     3874\n",
       "Name: investigation_type, dtype: int64"
      ]
     },
     "execution_count": 113,
     "metadata": {},
     "output_type": "execute_result"
    }
   ],
   "source": [
    "aviation_data['investigation_type'].value_counts()"
   ]
  },
  {
   "cell_type": "markdown",
   "metadata": {},
   "source": [
    "Accident - caused personal injury, damage or damage\n",
    "Incident - could have potentially caused harm but didn't necessarily \n",
    "\n",
    "Weighting these differently is a good idea.\n",
    "\n",
    "## country"
   ]
  },
  {
   "cell_type": "code",
   "execution_count": 114,
   "metadata": {},
   "outputs": [
    {
     "data": {
      "text/plain": [
       "united states     82248\n",
       "brazil              374\n",
       "canada              359\n",
       "mexico              358\n",
       "united kingdom      344\n",
       "                  ...  \n",
       "chad                  1\n",
       "ivory coast           1\n",
       "cambodia              1\n",
       "yemen                 1\n",
       "benin                 1\n",
       "Name: country, Length: 215, dtype: int64"
      ]
     },
     "execution_count": 114,
     "metadata": {},
     "output_type": "execute_result"
    }
   ],
   "source": [
    "aviation_data['country'].value_counts()"
   ]
  },
  {
   "cell_type": "markdown",
   "metadata": {},
   "source": [
    "There is a strong bias to the United States so our data is only going to be the most reliable in the US due to uncontrolled factors like regulation differences between countries.\n",
    "\n",
    "## airport_code and airport_name"
   ]
  },
  {
   "cell_type": "code",
   "execution_count": 115,
   "metadata": {},
   "outputs": [
    {
     "data": {
      "text/plain": [
       "pvt     497\n",
       "apa     160\n",
       "ord     149\n",
       "mri     137\n",
       "den     115\n",
       "       ... \n",
       "78oh      1\n",
       "0v6       1\n",
       "8c3       1\n",
       "56m       1\n",
       "eikh      1\n",
       "Name: airport_code, Length: 10345, dtype: int64"
      ]
     },
     "execution_count": 115,
     "metadata": {},
     "output_type": "execute_result"
    }
   ],
   "source": [
    "aviation_data['airport_code'].value_counts()"
   ]
  },
  {
   "cell_type": "code",
   "execution_count": 116,
   "metadata": {},
   "outputs": [
    {
     "data": {
      "text/plain": [
       "private                           471\n",
       "private airstrip                  266\n",
       "private strip                     161\n",
       "merrill field                     109\n",
       "centennial                        102\n",
       "                                 ... \n",
       "lambert-st. louis int'l             1\n",
       "williamson mingo cty                1\n",
       "sanona creek airstrip               1\n",
       "penns cave                          1\n",
       "wichita dwight d eisenhower nt      1\n",
       "Name: airport_name, Length: 21565, dtype: int64"
      ]
     },
     "execution_count": 116,
     "metadata": {},
     "output_type": "execute_result"
    }
   ],
   "source": [
    "aviation_data['airport_name'].value_counts()"
   ]
  },
  {
   "cell_type": "markdown",
   "metadata": {},
   "source": [
    "We will have to clean the names quite a bit especially around private airports.\n",
    "The codes have a lot of missing data could that correlate with private airports not having codes?"
   ]
  },
  {
   "cell_type": "code",
   "execution_count": 117,
   "metadata": {},
   "outputs": [
    {
     "data": {
      "text/html": [
       "<div>\n",
       "<style scoped>\n",
       "    .dataframe tbody tr th:only-of-type {\n",
       "        vertical-align: middle;\n",
       "    }\n",
       "\n",
       "    .dataframe tbody tr th {\n",
       "        vertical-align: top;\n",
       "    }\n",
       "\n",
       "    .dataframe thead th {\n",
       "        text-align: right;\n",
       "    }\n",
       "</style>\n",
       "<table border=\"1\" class=\"dataframe\">\n",
       "  <thead>\n",
       "    <tr style=\"text-align: right;\">\n",
       "      <th></th>\n",
       "      <th>airport_name</th>\n",
       "      <th>airport_code</th>\n",
       "    </tr>\n",
       "  </thead>\n",
       "  <tbody>\n",
       "    <tr>\n",
       "      <th>974</th>\n",
       "      <td>private</td>\n",
       "      <td>NaN</td>\n",
       "    </tr>\n",
       "    <tr>\n",
       "      <th>1057</th>\n",
       "      <td>private</td>\n",
       "      <td>NaN</td>\n",
       "    </tr>\n",
       "    <tr>\n",
       "      <th>1076</th>\n",
       "      <td>private</td>\n",
       "      <td>NaN</td>\n",
       "    </tr>\n",
       "    <tr>\n",
       "      <th>1186</th>\n",
       "      <td>private</td>\n",
       "      <td>NaN</td>\n",
       "    </tr>\n",
       "    <tr>\n",
       "      <th>1658</th>\n",
       "      <td>private</td>\n",
       "      <td>NaN</td>\n",
       "    </tr>\n",
       "    <tr>\n",
       "      <th>...</th>\n",
       "      <td>...</td>\n",
       "      <td>...</td>\n",
       "    </tr>\n",
       "    <tr>\n",
       "      <th>85962</th>\n",
       "      <td>private</td>\n",
       "      <td>NaN</td>\n",
       "    </tr>\n",
       "    <tr>\n",
       "      <th>86046</th>\n",
       "      <td>private</td>\n",
       "      <td>NaN</td>\n",
       "    </tr>\n",
       "    <tr>\n",
       "      <th>86494</th>\n",
       "      <td>private</td>\n",
       "      <td>NaN</td>\n",
       "    </tr>\n",
       "    <tr>\n",
       "      <th>88425</th>\n",
       "      <td>private</td>\n",
       "      <td>NaN</td>\n",
       "    </tr>\n",
       "    <tr>\n",
       "      <th>88452</th>\n",
       "      <td>private</td>\n",
       "      <td>NaN</td>\n",
       "    </tr>\n",
       "  </tbody>\n",
       "</table>\n",
       "<p>337 rows × 2 columns</p>\n",
       "</div>"
      ],
      "text/plain": [
       "      airport_name airport_code\n",
       "974        private          NaN\n",
       "1057       private          NaN\n",
       "1076       private          NaN\n",
       "1186       private          NaN\n",
       "1658       private          NaN\n",
       "...            ...          ...\n",
       "85962      private          NaN\n",
       "86046      private          NaN\n",
       "86494      private          NaN\n",
       "88425      private          NaN\n",
       "88452      private          NaN\n",
       "\n",
       "[337 rows x 2 columns]"
      ]
     },
     "execution_count": 117,
     "metadata": {},
     "output_type": "execute_result"
    }
   ],
   "source": [
    "aviation_data[(aviation_data['airport_name']=='private') & (aviation_data['airport_code'].isna())][['airport_name','airport_code']]"
   ]
  },
  {
   "cell_type": "code",
   "execution_count": 118,
   "metadata": {},
   "outputs": [
    {
     "data": {
      "text/plain": [
       "airport_code\n",
       "pvt             120\n",
       "priv              5\n",
       "rla               2\n",
       "0co6              1\n",
       "172               1\n",
       "4nc5              1\n",
       "mm20              1\n",
       "my99              1\n",
       "unk               1\n",
       "xxx               1\n",
       "dtype: int64"
      ]
     },
     "execution_count": 118,
     "metadata": {},
     "output_type": "execute_result"
    }
   ],
   "source": [
    "aviation_data[(aviation_data['airport_name']=='private') & (aviation_data['airport_code'].notna())][['airport_code']].value_counts()"
   ]
  },
  {
   "cell_type": "code",
   "execution_count": 119,
   "metadata": {},
   "outputs": [
    {
     "data": {
      "text/plain": [
       "471"
      ]
     },
     "execution_count": 119,
     "metadata": {},
     "output_type": "execute_result"
    }
   ],
   "source": [
    "aviation_data[aviation_data['airport_name']=='private']['airport_name'].count()"
   ]
  },
  {
   "cell_type": "markdown",
   "metadata": {},
   "source": [
    "So 337/471 of them are NaN and private.  of the remaining ones morst are pvt but priv is the same thing so we can fix that.\n",
    "\n",
    "## injury_severity"
   ]
  },
  {
   "cell_type": "code",
   "execution_count": 120,
   "metadata": {},
   "outputs": [
    {
     "data": {
      "text/plain": [
       "non-fatal     67357\n",
       "fatal(1)       6167\n",
       "fatal          5262\n",
       "fatal(2)       3711\n",
       "incident       2219\n",
       "              ...  \n",
       "fatal(270)        1\n",
       "fatal(60)         1\n",
       "fatal(43)         1\n",
       "fatal(143)        1\n",
       "fatal(230)        1\n",
       "Name: injury_severity, Length: 109, dtype: int64"
      ]
     },
     "execution_count": 120,
     "metadata": {},
     "output_type": "execute_result"
    }
   ],
   "source": [
    "aviation_data['injury_severity'].value_counts()"
   ]
  },
  {
   "cell_type": "markdown",
   "metadata": {},
   "source": [
    "We will need to seperate fatal from the number to let it make more sense for our charts and analysis.\n",
    "\n",
    "## aircraft_damage"
   ]
  },
  {
   "cell_type": "code",
   "execution_count": 121,
   "metadata": {},
   "outputs": [
    {
     "data": {
      "text/plain": [
       "substantial    64148\n",
       "destroyed      18623\n",
       "minor           2805\n",
       "Name: aircraft_damage, dtype: int64"
      ]
     },
     "execution_count": 121,
     "metadata": {},
     "output_type": "execute_result"
    }
   ],
   "source": [
    "aviation_data['aircraft_damage'].value_counts()"
   ]
  },
  {
   "cell_type": "markdown",
   "metadata": {},
   "source": [
    "Finally a field that has little issues, just a few missing values.\n",
    "\n",
    "## Aircraft Specs\n",
    "Lets examine the group of fields that might let us identify features of the airplanes, some of the most important data\n",
    "\n",
    "### Aircraft.Category"
   ]
  },
  {
   "cell_type": "code",
   "execution_count": 122,
   "metadata": {},
   "outputs": [
    {
     "data": {
      "text/plain": [
       "airplane             27617\n",
       "helicopter            3440\n",
       "glider                 508\n",
       "balloon                231\n",
       "gyrocraft              173\n",
       "weight-shift           161\n",
       "powered parachute       91\n",
       "ultralight              30\n",
       "unknown                 14\n",
       "wsft                     9\n",
       "powered-lift             5\n",
       "blimp                    4\n",
       "rocket                   1\n",
       "ultr                     1\n",
       "Name: aircraft_category, dtype: int64"
      ]
     },
     "execution_count": 122,
     "metadata": {},
     "output_type": "execute_result"
    }
   ],
   "source": [
    "aviation_data['aircraft_category'].value_counts()"
   ]
  },
  {
   "cell_type": "markdown",
   "metadata": {},
   "source": [
    "We can get rid of all that aren't airplane, probably\n",
    "\n",
    "### registration_number"
   ]
  },
  {
   "cell_type": "code",
   "execution_count": 123,
   "metadata": {},
   "outputs": [
    {
     "data": {
      "text/plain": [
       "unreg     131\n",
       "usaf        9\n",
       "n20752      8\n",
       "n53893      6\n",
       "n11vh       6\n",
       "         ... \n",
       "n62951      1\n",
       "n1013e      1\n",
       "n8266r      1\n",
       "n65737      1\n",
       "n9026p      1\n",
       "Name: registration_number, Length: 79091, dtype: int64"
      ]
     },
     "execution_count": 123,
     "metadata": {},
     "output_type": "execute_result"
    }
   ],
   "source": [
    "aviation_data['registration_number'].value_counts()"
   ]
  },
  {
   "cell_type": "markdown",
   "metadata": {},
   "source": [
    "Lots of NONE might not be as useful a field.  However if some planes were just train wrecks and had lots of issues then they could be \n",
    "something worth keeping in mind when interpretting the data\n",
    "### make"
   ]
  },
  {
   "cell_type": "code",
   "execution_count": 124,
   "metadata": {},
   "outputs": [
    {
     "data": {
      "text/plain": [
       "cessna           27149\n",
       "piper            14870\n",
       "beech             5372\n",
       "boeing            2745\n",
       "bell              2722\n",
       "                 ...  \n",
       "cohen                1\n",
       "kitchens             1\n",
       "lutes                1\n",
       "izatt                1\n",
       "royse ralph l        1\n",
       "Name: make, Length: 7587, dtype: int64"
      ]
     },
     "execution_count": 124,
     "metadata": {},
     "output_type": "execute_result"
    }
   ],
   "source": [
    "aviation_data['make'].value_counts()"
   ]
  },
  {
   "cell_type": "markdown",
   "metadata": {},
   "source": [
    "We will need to clean this data for sure the Cessna for example is listed twice with diff capitilization\n",
    "### model"
   ]
  },
  {
   "cell_type": "code",
   "execution_count": 125,
   "metadata": {},
   "outputs": [
    {
     "data": {
      "text/plain": [
       "152                 2367\n",
       "172                 1756\n",
       "172n                1164\n",
       "pa-28-140            932\n",
       "150                  829\n",
       "                    ... \n",
       "e75nl                  1\n",
       "747-273c               1\n",
       "watcha-mccall-it       1\n",
       "md-520n                1\n",
       "m-8 eagle              1\n",
       "Name: model, Length: 11646, dtype: int64"
      ]
     },
     "execution_count": 125,
     "metadata": {},
     "output_type": "execute_result"
    }
   ],
   "source": [
    "aviation_data['model'].value_counts()"
   ]
  },
  {
   "cell_type": "markdown",
   "metadata": {},
   "source": [
    "Make and Model together can form unique strings to identify types of craft so this is nice.  (It is possible for a model to have the same name and diff makes, even if rare).  This pair will be used in a lot of finding the correlations in the data.\n",
    "## amateur_built"
   ]
  },
  {
   "cell_type": "code",
   "execution_count": 126,
   "metadata": {},
   "outputs": [
    {
     "data": {
      "text/plain": [
       "no     80312\n",
       "yes     8475\n",
       "Name: amateur_built, dtype: int64"
      ]
     },
     "execution_count": 126,
     "metadata": {},
     "output_type": "execute_result"
    }
   ],
   "source": [
    "aviation_data['amateur_built'].value_counts()"
   ]
  },
  {
   "cell_type": "markdown",
   "metadata": {},
   "source": [
    "Since we are a business we might just remove rows about amateur built aircraft.  However maybe some of the non business made ones have properties we'd be interested in?"
   ]
  },
  {
   "cell_type": "code",
   "execution_count": 79,
   "metadata": {},
   "outputs": [
    {
     "data": {
      "text/plain": [
       "1.0    69582\n",
       "2.0    11079\n",
       "0.0     1226\n",
       "3.0      483\n",
       "4.0      431\n",
       "8.0        3\n",
       "6.0        1\n",
       "Name: Number.of.Engines, dtype: int64"
      ]
     },
     "execution_count": 79,
     "metadata": {},
     "output_type": "execute_result"
    }
   ],
   "source": [
    "aviation_data['Number.of.Engines'].value_counts()"
   ]
  },
  {
   "cell_type": "markdown",
   "metadata": {},
   "source": [
    "I'm wondering what has zero engines, gliders perhaps?  Lets find out below"
   ]
  },
  {
   "cell_type": "code",
   "execution_count": 127,
   "metadata": {},
   "outputs": [
    {
     "data": {
      "text/plain": [
       "engine_type  \n",
       "none             10\n",
       "reciprocating     2\n",
       "dtype: int64"
      ]
     },
     "execution_count": 127,
     "metadata": {},
     "output_type": "execute_result"
    }
   ],
   "source": [
    "aviation_data[aviation_data['number_of_engines']==0][['engine_type']].value_counts()"
   ]
  },
  {
   "cell_type": "markdown",
   "metadata": {},
   "source": [
    "It seems it's mostly missing data.  Also our missing data is going to need standardized to one value."
   ]
  },
  {
   "cell_type": "code",
   "execution_count": 128,
   "metadata": {},
   "outputs": [
    {
     "data": {
      "text/plain": [
       "reciprocating      69530\n",
       "turbo shaft         3609\n",
       "turbo prop          3391\n",
       "turbo fan           2481\n",
       "turbo jet            703\n",
       "none                  21\n",
       "geared turbofan       12\n",
       "electric              10\n",
       "lr                     2\n",
       "hybrid rocket          1\n",
       "Name: engine_type, dtype: int64"
      ]
     },
     "execution_count": 128,
     "metadata": {},
     "output_type": "execute_result"
    }
   ],
   "source": [
    "aviation_data['engine_type'].value_counts()"
   ]
  },
  {
   "cell_type": "markdown",
   "metadata": {},
   "source": [
    "## far_description\n",
    "FAR stands for Federal Aviation Regulations. These regulations are a comprehensive set of rules and guidelines established by the Federal Aviation Administration (FAA) to ensure the safety and efficiency of civil aviation within the United States.\n",
    "\n",
    "Some examples:\n",
    "- Part 23: Airworthiness Standards for Normal, Utility, Acrobatic, and Commuter Category Airplanes\n",
    "- Part 61: Certification: Pilots, Flight Instructors, and Ground Instructors\n",
    "- Part 91: General Operating and Flight Rules\n",
    "- Part 121: Operating Requirements: Domestic, Flag, and Supplemental Operations"
   ]
  },
  {
   "cell_type": "code",
   "execution_count": 129,
   "metadata": {},
   "outputs": [
    {
     "data": {
      "text/plain": [
       "091                               18221\n",
       "part 91: general aviation          6486\n",
       "nusn                               1584\n",
       "nusc                               1013\n",
       "137                                1010\n",
       "135                                 746\n",
       "121                                 679\n",
       "part 137: agricultural              437\n",
       "part 135: air taxi & commuter       298\n",
       "pubu                                253\n",
       "129                                 246\n",
       "part 121: air carrier               165\n",
       "133                                 107\n",
       "part 129: foreign                   100\n",
       "non-u.s., non-commercial             97\n",
       "non-u.s., commercial                 93\n",
       "part 133: rotorcraft ext. load       32\n",
       "unknown                              22\n",
       "public use                           19\n",
       "091k                                 14\n",
       "armf                                  8\n",
       "part 125: 20+ pax,6000+ lbs           5\n",
       "125                                   5\n",
       "107                                   4\n",
       "public aircraft                       2\n",
       "103                                   2\n",
       "part 91 subpart k: fractional         1\n",
       "armed forces                          1\n",
       "part 91f: special flt ops.            1\n",
       "437                                   1\n",
       "Name: far_description, dtype: int64"
      ]
     },
     "execution_count": 129,
     "metadata": {},
     "output_type": "execute_result"
    }
   ],
   "source": [
    "aviation_data['far_description'].value_counts()"
   ]
  },
  {
   "cell_type": "markdown",
   "metadata": {},
   "source": [
    "The Data for this will need standardized as seen by the Part 91 and etc.  \n",
    "on part 91 and others\n",
    "https://pilotinstitute.com/part-91-vs-121-vs-135/\n",
    "\n",
    "NUSN: Non-U.S. National (incident or accident)\n",
    "\n",
    "\"NUSN\" is a code used to identify incidents or accidents involving aircraft that are not registered in the United States. This categorization helps in distinguishing between domestic and international incidents for regulatory and statistical purposes.\n",
    "NUSC: Non-U.S. Commercial (incident or accident)\n",
    "\n",
    "\"NUSC\" refers to incidents or accidents involving non-U.S. commercial aircraft. This code is specifically used for commercial operations, such as airlines and charter services, that are not registered in the United States.\n",
    "\n",
    "... Understanding all the codes is going to be important if we use this field\n",
    "\n",
    "## schedule"
   ]
  },
  {
   "cell_type": "code",
   "execution_count": 130,
   "metadata": {},
   "outputs": [
    {
     "data": {
      "text/plain": [
       "nsch    4474\n",
       "unk     4099\n",
       "schd    4009\n",
       "Name: schedule, dtype: int64"
      ]
     },
     "execution_count": 130,
     "metadata": {},
     "output_type": "execute_result"
    }
   ],
   "source": [
    "aviation_data['schedule'].value_counts()"
   ]
  },
  {
   "cell_type": "markdown",
   "metadata": {},
   "source": [
    "NSCH (Non-Scheduled): Refers to flights that do not operate on a regular schedule. These can include charter flights, air taxi operations, private flights, and other ad-hoc operations.\n",
    "\n",
    "UNK (Unknown): Indicates that the schedule type of the flight operation is unknown. This can occur when the information is not available or not recorded in the safety database.\n",
    "\n",
    "SCHD (Scheduled): Refers to flights that operate on a regular, published schedule. These are typically commercial airline flights that follow a fixed timetable.\n",
    "\n",
    "## purpose_of_flight"
   ]
  },
  {
   "cell_type": "code",
   "execution_count": 131,
   "metadata": {},
   "outputs": [
    {
     "data": {
      "text/plain": [
       "personal                     49448\n",
       "instructional                10601\n",
       "unknown                       6802\n",
       "aerial application            4712\n",
       "business                      4018\n",
       "positioning                   1646\n",
       "other work use                1264\n",
       "ferry                          812\n",
       "aerial observation             794\n",
       "public aircraft                720\n",
       "executive/corporate            553\n",
       "flight test                    405\n",
       "skydiving                      182\n",
       "external load                  123\n",
       "public aircraft - federal      105\n",
       "banner tow                     101\n",
       "air race show                   99\n",
       "public aircraft - local         74\n",
       "public aircraft - state         64\n",
       "air race/show                   59\n",
       "glider tow                      53\n",
       "firefighting                    40\n",
       "air drop                        11\n",
       "asho                             6\n",
       "pubs                             4\n",
       "publ                             1\n",
       "Name: purpose_of_flight, dtype: int64"
      ]
     },
     "execution_count": 131,
     "metadata": {},
     "output_type": "execute_result"
    }
   ],
   "source": [
    "aviation_data['purpose_of_flight'].value_counts()"
   ]
  },
  {
   "cell_type": "markdown",
   "metadata": {},
   "source": [
    "This is very informative as a field and it seems to have minimal issues with missing data.  Here is the Skydiving Joseph mentioned.\n",
    "\n",
    "## air_carrier"
   ]
  },
  {
   "cell_type": "code",
   "execution_count": 132,
   "metadata": {},
   "outputs": [
    {
     "data": {
      "text/plain": [
       "pilot                         258\n",
       "american airlines              90\n",
       "united airlines                89\n",
       "delta air lines                53\n",
       "delta air lines inc            44\n",
       "                             ... \n",
       "frank w. scooley                1\n",
       "richard l. mcglashan            1\n",
       "inflight pilot traning llc      1\n",
       "mills & daughters inc           1\n",
       "mc cessna 210n llc              1\n",
       "Name: air_carrier, Length: 13208, dtype: int64"
      ]
     },
     "execution_count": 132,
     "metadata": {},
     "output_type": "execute_result"
    }
   ],
   "source": [
    "aviation_data['air_carrier'].value_counts()"
   ]
  },
  {
   "cell_type": "markdown",
   "metadata": {},
   "source": [
    "It has a lot of missing rows but it could have a big impact on safety.\n",
    "\n",
    "## total_fatal_injuries"
   ]
  },
  {
   "cell_type": "code",
   "execution_count": 133,
   "metadata": {},
   "outputs": [
    {
     "data": {
      "text/plain": [
       "0.0      59675\n",
       "1.0       8883\n",
       "2.0       5173\n",
       "3.0       1589\n",
       "4.0       1103\n",
       "         ...  \n",
       "156.0        1\n",
       "68.0         1\n",
       "31.0         1\n",
       "115.0        1\n",
       "176.0        1\n",
       "Name: total_fatal_injuries, Length: 125, dtype: int64"
      ]
     },
     "execution_count": 133,
     "metadata": {},
     "output_type": "execute_result"
    }
   ],
   "source": [
    "aviation_data['total_fatal_injuries'].value_counts()"
   ]
  },
  {
   "cell_type": "markdown",
   "metadata": {},
   "source": [
    "it is in floats for some reason so we might make sure there's no \"partial fatal injuries\"\n",
    "\n",
    "## total_serious_injuries"
   ]
  },
  {
   "cell_type": "code",
   "execution_count": 134,
   "metadata": {},
   "outputs": [
    {
     "data": {
      "text/plain": [
       "0.0      63289\n",
       "1.0       9125\n",
       "2.0       2815\n",
       "3.0        629\n",
       "4.0        258\n",
       "5.0         78\n",
       "6.0         41\n",
       "7.0         27\n",
       "9.0         16\n",
       "10.0        13\n",
       "8.0         13\n",
       "13.0         9\n",
       "11.0         6\n",
       "26.0         5\n",
       "14.0         5\n",
       "12.0         5\n",
       "20.0         3\n",
       "25.0         3\n",
       "28.0         3\n",
       "21.0         2\n",
       "59.0         2\n",
       "50.0         2\n",
       "17.0         2\n",
       "47.0         2\n",
       "137.0        1\n",
       "19.0         1\n",
       "161.0        1\n",
       "27.0         1\n",
       "35.0         1\n",
       "67.0         1\n",
       "33.0         1\n",
       "88.0         1\n",
       "125.0        1\n",
       "53.0         1\n",
       "34.0         1\n",
       "41.0         1\n",
       "18.0         1\n",
       "63.0         1\n",
       "55.0         1\n",
       "23.0         1\n",
       "43.0         1\n",
       "39.0         1\n",
       "45.0         1\n",
       "44.0         1\n",
       "16.0         1\n",
       "60.0         1\n",
       "106.0        1\n",
       "81.0         1\n",
       "15.0         1\n",
       "22.0         1\n",
       "Name: total_serious_injuries, dtype: int64"
      ]
     },
     "execution_count": 134,
     "metadata": {},
     "output_type": "execute_result"
    }
   ],
   "source": [
    "aviation_data['total_serious_injuries'].value_counts()"
   ]
  },
  {
   "cell_type": "markdown",
   "metadata": {},
   "source": [
    "It is in floats again\n",
    "## total_minor_injuries"
   ]
  },
  {
   "cell_type": "code",
   "execution_count": 135,
   "metadata": {},
   "outputs": [
    {
     "data": {
      "text/plain": [
       "0.0      61454\n",
       "1.0      10320\n",
       "2.0       3576\n",
       "3.0        784\n",
       "4.0        372\n",
       "5.0        129\n",
       "6.0         67\n",
       "7.0         59\n",
       "9.0         22\n",
       "8.0         20\n",
       "13.0        14\n",
       "10.0        11\n",
       "12.0        11\n",
       "14.0        10\n",
       "11.0         9\n",
       "17.0         8\n",
       "19.0         6\n",
       "18.0         6\n",
       "24.0         5\n",
       "22.0         5\n",
       "25.0         4\n",
       "16.0         4\n",
       "15.0         4\n",
       "33.0         4\n",
       "20.0         3\n",
       "21.0         3\n",
       "26.0         3\n",
       "23.0         3\n",
       "32.0         3\n",
       "27.0         3\n",
       "50.0         2\n",
       "30.0         2\n",
       "36.0         2\n",
       "31.0         2\n",
       "28.0         2\n",
       "42.0         2\n",
       "38.0         2\n",
       "57.0         1\n",
       "65.0         1\n",
       "84.0         1\n",
       "43.0         1\n",
       "35.0         1\n",
       "380.0        1\n",
       "47.0         1\n",
       "68.0         1\n",
       "200.0        1\n",
       "71.0         1\n",
       "58.0         1\n",
       "171.0        1\n",
       "39.0         1\n",
       "96.0         1\n",
       "29.0         1\n",
       "69.0         1\n",
       "62.0         1\n",
       "45.0         1\n",
       "125.0        1\n",
       "40.0         1\n",
       "Name: total_minor_injuries, dtype: int64"
      ]
     },
     "execution_count": 135,
     "metadata": {},
     "output_type": "execute_result"
    }
   ],
   "source": [
    "aviation_data['total_minor_injuries'].value_counts()"
   ]
  },
  {
   "cell_type": "markdown",
   "metadata": {},
   "source": [
    "It is in floats again\n",
    "## total_uninjured"
   ]
  },
  {
   "cell_type": "code",
   "execution_count": 136,
   "metadata": {},
   "outputs": [
    {
     "data": {
      "text/plain": [
       "0.0      29879\n",
       "1.0      25101\n",
       "2.0      15988\n",
       "3.0       4313\n",
       "4.0       2662\n",
       "         ...  \n",
       "558.0        1\n",
       "412.0        1\n",
       "338.0        1\n",
       "401.0        1\n",
       "455.0        1\n",
       "Name: total_uninjured, Length: 379, dtype: int64"
      ]
     },
     "execution_count": 136,
     "metadata": {},
     "output_type": "execute_result"
    }
   ],
   "source": [
    "aviation_data['total_uninjured'].value_counts()"
   ]
  },
  {
   "cell_type": "markdown",
   "metadata": {},
   "source": [
    "also in floats\n",
    "## weather_condition"
   ]
  },
  {
   "cell_type": "code",
   "execution_count": 137,
   "metadata": {},
   "outputs": [
    {
     "data": {
      "text/plain": [
       "vmc    77303\n",
       "imc     5976\n",
       "unk     1118\n",
       "Name: weather_condition, dtype: int64"
      ]
     },
     "execution_count": 137,
     "metadata": {},
     "output_type": "execute_result"
    }
   ],
   "source": [
    "aviation_data['weather_condition'].value_counts()"
   ]
  },
  {
   "cell_type": "markdown",
   "metadata": {},
   "source": [
    "UNK and Unk are not standardized\n",
    "\n",
    "Conditions are codes:\n",
    "\n",
    "**VMC (Visual Meteorological Conditions):**\n",
    "\n",
    "VMC: Indicates weather conditions that allow for visual flight rules (VFR) operations. Pilots can navigate and control the aircraft using visual references outside the cockpit.\n",
    "\n",
    "**IMC (Instrument Meteorological Conditions):**\n",
    "\n",
    "IMC: Refers to weather conditions that require instrument flight rules (IFR) operations. Visibility and cloud cover are such that pilots must rely on cockpit instruments for navigation and control.\n",
    "\n",
    "**UNK (Unknown):**\n",
    "\n",
    "UNK: Indicates that the meteorological conditions at the time of the incident or data point are unknown or not recorded.\n",
    "\n",
    "\n",
    "## broad_phase_of_flight"
   ]
  },
  {
   "cell_type": "code",
   "execution_count": 138,
   "metadata": {},
   "outputs": [
    {
     "data": {
      "text/plain": [
       "landing        15428\n",
       "takeoff        12493\n",
       "cruise         10269\n",
       "maneuvering     8144\n",
       "approach        6546\n",
       "climb           2034\n",
       "taxi            1958\n",
       "descent         1887\n",
       "go-around       1353\n",
       "standing         945\n",
       "unknown          548\n",
       "other            119\n",
       "Name: broad_phase_of_flight, dtype: int64"
      ]
     },
     "execution_count": 138,
     "metadata": {},
     "output_type": "execute_result"
    }
   ],
   "source": [
    "aviation_data['broad_phase_of_flight'].value_counts()"
   ]
  },
  {
   "cell_type": "markdown",
   "metadata": {},
   "source": [
    "Landing is the most prone to incident or accident it seems like, especially since it is also relatively short in terms of phases.\n",
    "This data can help us find planes weak points and strong points as well as high risk areas.\n",
    "\n",
    "## report_status"
   ]
  },
  {
   "cell_type": "code",
   "execution_count": 139,
   "metadata": {},
   "outputs": [
    {
     "data": {
      "text/plain": [
       "probable cause                                                                                                                                                                                                                                      61754\n",
       "foreign                                                                                                                                                                                                                                              1999\n",
       "<br /><br />                                                                                                                                                                                                                                          167\n",
       "factual                                                                                                                                                                                                                                               145\n",
       "the pilot's failure to maintain directional control during the landing roll.                                                                                                                                                                           64\n",
       "                                                                                                                                                                                                                                                    ...  \n",
       "the passengers fall from the airplane during a normal egress.                                                                                                                                                                                          1\n",
       "the pilots disorientation during a night flight, which resulted in an off-airport landing, and his inadequate directional control during the landing roll. contributing to the accident was the loss of the airplanes electrical system power.        1\n",
       "the pilots failure to maintain control of the airplane during the landing and attempted go-around in a gusty crosswind.                                                                                                                                1\n",
       "the student pilot's inadequate directional control during takeoff.                                                                                                                                                                                      1\n",
       "the pilots loss of control due to a wind gust during landing.                                                                                                                                                                                          1\n",
       "Name: report_status, Length: 16766, dtype: int64"
      ]
     },
     "execution_count": 139,
     "metadata": {},
     "output_type": "execute_result"
    }
   ],
   "source": [
    "aviation_data['report_status'].value_counts()"
   ]
  },
  {
   "cell_type": "markdown",
   "metadata": {},
   "source": [
    "So it seems a lot of the values are probable cause\n",
    "\n",
    "**Probable Cause**: This term is used to describe the findings of an investigation that identify the factors or events that most likely led to the incident or accident. When a report reaches the \"probable cause\" status, the investigating authority, such as the National Transportation Safety Board (NTSB) in the United States, has completed its analysis and has determined the primary reasons behind the occurrence.\n",
    "\n",
    "\n",
    "## publication_date"
   ]
  },
  {
   "cell_type": "code",
   "execution_count": 140,
   "metadata": {},
   "outputs": [
    {
     "data": {
      "text/plain": [
       "25-09-2020    17019\n",
       "26-09-2020     1769\n",
       "03-11-2020     1155\n",
       "31-03-1993      452\n",
       "25-11-2003      396\n",
       "              ...  \n",
       "29-11-2004        1\n",
       "29-08-2001        1\n",
       "18-11-2004        1\n",
       "17-12-1996        1\n",
       "29-12-2022        1\n",
       "Name: publication_date, Length: 2924, dtype: int64"
      ]
     },
     "execution_count": 140,
     "metadata": {},
     "output_type": "execute_result"
    }
   ],
   "source": [
    "aviation_data['publication_date'].value_counts()"
   ]
  },
  {
   "cell_type": "markdown",
   "metadata": {},
   "source": [
    "I'm not sure why most the publication dates are 25-09-2020, maybe they batch the reports or something"
   ]
  }
 ],
 "metadata": {
  "kernelspec": {
   "display_name": "learn-env",
   "language": "python",
   "name": "python3"
  },
  "language_info": {
   "codemirror_mode": {
    "name": "ipython",
    "version": 3
   },
   "file_extension": ".py",
   "mimetype": "text/x-python",
   "name": "python",
   "nbconvert_exporter": "python",
   "pygments_lexer": "ipython3",
   "version": "3.8.13"
  }
 },
 "nbformat": 4,
 "nbformat_minor": 2
}
