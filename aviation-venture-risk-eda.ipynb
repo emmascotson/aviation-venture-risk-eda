{
 "cells": [
  {
   "cell_type": "markdown",
   "metadata": {},
   "source": [
    "# Aviation Venture Risk EDA\n",
    "\n",
    "## Introduction\n",
    "\n",
    "ACME Co. is interested in purchasing and operating airplanes for commercial and private enterprises. This Exploratory Data Analysis (EDA) utilizes data from the National Transportation Safety Board to determine which aircraft have the lowest risk. The analysis contains actionable insights for the head of the new Aviation Division, Scott Fly.\n",
    "\n",
    "## Import Python Libraries"
   ]
  },
  {
   "cell_type": "code",
   "execution_count": 2,
   "metadata": {},
   "outputs": [],
   "source": [
    "#imports\n",
    "import pandas as pd\n",
    "import numpy as np\n",
    "import matplotlib.pyplot as plt\n",
    "%matplotlib inline"
   ]
  },
  {
   "cell_type": "markdown",
   "metadata": {},
   "source": [
    "## Load the Data"
   ]
  },
  {
   "cell_type": "code",
   "execution_count": 3,
   "metadata": {},
   "outputs": [
    {
     "name": "stdout",
     "output_type": "stream",
     "text": [
      "AviationData.csv  USState_Codes.csv\n"
     ]
    }
   ],
   "source": [
    "!ls data"
   ]
  },
  {
   "cell_type": "code",
   "execution_count": 4,
   "metadata": {},
   "outputs": [],
   "source": [
    "#load the CSV files for the rest of the project\n",
    "\n",
    "#pandas says columns 6, 7, and 28 have mixed data types.  For now we will set them to strings to avoid errors later\n",
    "'''\n",
    "Latitude and Longitude have two formats in the file.  One is degrees, minutes, seconds format with a suffix for hemisphere like N\n",
    "The other format is called decimal degrees and it is a float.\n",
    "'''\n",
    "\n",
    "#latin1 is required as utf-8 will not load\n",
    "#load 5 rows just for column names, a full load shows mixed data type warnings on columns 6, 7, 28\n",
    "#so we will tell pandas to load them as strings\n",
    "aviation_data = pd.read_csv(\"data/AviationData.csv\",encoding=\"latin1\", nrows=1)\n",
    "col_list = list(aviation_data.columns)\n",
    "dtype_spec = {\n",
    "    col_list[6]: 'str', #Latitude\n",
    "    col_list[7]: 'str', #Longitude\n",
    "    col_list[28]: 'str' #Broad.phase.of.flight\n",
    "}\n",
    "\n",
    "#now load it in full without warnings\n",
    "aviation_data = pd.read_csv(\"data/AviationData.csv\",encoding=\"latin1\", dtype=dtype_spec)\n",
    "uscode_data = pd.read_csv(\"data/USState_Codes.csv\")"
   ]
  },
  {
   "cell_type": "markdown",
   "metadata": {},
   "source": [
    "### Mixed Data Type Issue with Longitude, Latitude\n",
    "\n",
    "For latitude and longitude they mix formats.  Some are in degrees, minutes and seconds format with a suffix like 'N' for direction.  Some are in decimal degrees, which are easier to work with mathematically."
   ]
  },
  {
   "cell_type": "code",
   "execution_count": 5,
   "metadata": {},
   "outputs": [
    {
     "data": {
      "text/plain": [
       "332739N      19\n",
       "335219N      18\n",
       "334118N      17\n",
       "32.815556    17\n",
       "324934N      16\n",
       "             ..\n",
       "039613N       1\n",
       "342034N       1\n",
       "433113N       1\n",
       "343255N       1\n",
       "373829N       1\n",
       "Name: Latitude, Length: 25589, dtype: int64"
      ]
     },
     "execution_count": 5,
     "metadata": {},
     "output_type": "execute_result"
    }
   ],
   "source": [
    "#To know to pass str types for columns 6, 7 and 28 we had to know what is up with those columns\n",
    "#We do value_counts to see if one issue comes up a lot and inspect some initial values\n",
    "aviation_data['Latitude'].value_counts()"
   ]
  },
  {
   "cell_type": "code",
   "execution_count": 6,
   "metadata": {},
   "outputs": [
    {
     "data": {
      "text/plain": [
       "0112457W       24\n",
       "1114342W       18\n",
       "1151140W       17\n",
       "-104.673056    17\n",
       "-112.0825      16\n",
       "               ..\n",
       "0843135W        1\n",
       "0101957W        1\n",
       "1064131W        1\n",
       "1114414W        1\n",
       "0121410W        1\n",
       "Name: Longitude, Length: 27154, dtype: int64"
      ]
     },
     "execution_count": 6,
     "metadata": {},
     "output_type": "execute_result"
    }
   ],
   "source": [
    "aviation_data['Longitude'].value_counts()"
   ]
  },
  {
   "cell_type": "markdown",
   "metadata": {},
   "source": [
    "### Mixed Data Type for Broad.phase.of.flight \n",
    "This is likely due to NaN, but needs more investigation"
   ]
  },
  {
   "cell_type": "code",
   "execution_count": 7,
   "metadata": {},
   "outputs": [
    {
     "data": {
      "text/plain": [
       "0      Cruise\n",
       "1     Unknown\n",
       "2      Cruise\n",
       "3      Cruise\n",
       "4    Approach\n",
       "Name: Broad.phase.of.flight, dtype: object"
      ]
     },
     "execution_count": 7,
     "metadata": {},
     "output_type": "execute_result"
    }
   ],
   "source": [
    "aviation_data['Broad.phase.of.flight'].head()"
   ]
  },
  {
   "cell_type": "code",
   "execution_count": 8,
   "metadata": {},
   "outputs": [
    {
     "data": {
      "text/plain": [
       "Landing        15428\n",
       "Takeoff        12493\n",
       "Cruise         10269\n",
       "Maneuvering     8144\n",
       "Approach        6546\n",
       "Climb           2034\n",
       "Taxi            1958\n",
       "Descent         1887\n",
       "Go-around       1353\n",
       "Standing         945\n",
       "Unknown          548\n",
       "Other            119\n",
       "Name: Broad.phase.of.flight, dtype: int64"
      ]
     },
     "execution_count": 8,
     "metadata": {},
     "output_type": "execute_result"
    }
   ],
   "source": [
    "aviation_data['Broad.phase.of.flight'].value_counts()"
   ]
  },
  {
   "cell_type": "code",
   "execution_count": 9,
   "metadata": {},
   "outputs": [
    {
     "data": {
      "text/plain": [
       "27165"
      ]
     },
     "execution_count": 9,
     "metadata": {},
     "output_type": "execute_result"
    }
   ],
   "source": [
    "aviation_data['Broad.phase.of.flight'].isna().sum()"
   ]
  },
  {
   "cell_type": "code",
   "execution_count": 10,
   "metadata": {},
   "outputs": [
    {
     "data": {
      "text/plain": [
       "3030    NaN\n",
       "3550    NaN\n",
       "3637    NaN\n",
       "4032    NaN\n",
       "5505    NaN\n",
       "Name: Broad.phase.of.flight, dtype: object"
      ]
     },
     "execution_count": 10,
     "metadata": {},
     "output_type": "execute_result"
    }
   ],
   "source": [
    "aviation_data[aviation_data['Broad.phase.of.flight'].isna()]['Broad.phase.of.flight'].head()"
   ]
  },
  {
   "cell_type": "markdown",
   "metadata": {},
   "source": [
    "## Checking for Missing Data\n",
    "First we will run some checks on the aviation_data to see what we're dealing with for missing data"
   ]
  },
  {
   "cell_type": "code",
   "execution_count": 11,
   "metadata": {},
   "outputs": [
    {
     "name": "stdout",
     "output_type": "stream",
     "text": [
      "<class 'pandas.core.frame.DataFrame'>\n",
      "RangeIndex: 88889 entries, 0 to 88888\n",
      "Data columns (total 31 columns):\n",
      " #   Column                  Non-Null Count  Dtype  \n",
      "---  ------                  --------------  -----  \n",
      " 0   Event.Id                88889 non-null  object \n",
      " 1   Investigation.Type      88889 non-null  object \n",
      " 2   Accident.Number         88889 non-null  object \n",
      " 3   Event.Date              88889 non-null  object \n",
      " 4   Location                88837 non-null  object \n",
      " 5   Country                 88663 non-null  object \n",
      " 6   Latitude                34382 non-null  object \n",
      " 7   Longitude               34373 non-null  object \n",
      " 8   Airport.Code            50249 non-null  object \n",
      " 9   Airport.Name            52790 non-null  object \n",
      " 10  Injury.Severity         87889 non-null  object \n",
      " 11  Aircraft.damage         85695 non-null  object \n",
      " 12  Aircraft.Category       32287 non-null  object \n",
      " 13  Registration.Number     87572 non-null  object \n",
      " 14  Make                    88826 non-null  object \n",
      " 15  Model                   88797 non-null  object \n",
      " 16  Amateur.Built           88787 non-null  object \n",
      " 17  Number.of.Engines       82805 non-null  float64\n",
      " 18  Engine.Type             81812 non-null  object \n",
      " 19  FAR.Description         32023 non-null  object \n",
      " 20  Schedule                12582 non-null  object \n",
      " 21  Purpose.of.flight       82697 non-null  object \n",
      " 22  Air.carrier             16648 non-null  object \n",
      " 23  Total.Fatal.Injuries    77488 non-null  float64\n",
      " 24  Total.Serious.Injuries  76379 non-null  float64\n",
      " 25  Total.Minor.Injuries    76956 non-null  float64\n",
      " 26  Total.Uninjured         82977 non-null  float64\n",
      " 27  Weather.Condition       84397 non-null  object \n",
      " 28  Broad.phase.of.flight   61724 non-null  object \n",
      " 29  Report.Status           82508 non-null  object \n",
      " 30  Publication.Date        75118 non-null  object \n",
      "dtypes: float64(5), object(26)\n",
      "memory usage: 21.0+ MB\n"
     ]
    }
   ],
   "source": [
    "aviation_data.info()"
   ]
  },
  {
   "cell_type": "markdown",
   "metadata": {},
   "source": [
    "It seems we are missing a lot of data!  We will need to formulate plans on all of this.\n",
    "This next code block will let us see how much data is missing percent wise"
   ]
  },
  {
   "cell_type": "code",
   "execution_count": 12,
   "metadata": {},
   "outputs": [
    {
     "data": {
      "text/plain": [
       "Event.Id                   0.000000\n",
       "Investigation.Type         0.000000\n",
       "Accident.Number            0.000000\n",
       "Event.Date                 0.000000\n",
       "Location                   0.058500\n",
       "Country                    0.254250\n",
       "Latitude                  61.320298\n",
       "Longitude                 61.330423\n",
       "Airport.Code              43.469946\n",
       "Airport.Name              40.611324\n",
       "Injury.Severity            1.124999\n",
       "Aircraft.damage            3.593246\n",
       "Aircraft.Category         63.677170\n",
       "Registration.Number        1.481623\n",
       "Make                       0.070875\n",
       "Model                      0.103500\n",
       "Amateur.Built              0.114750\n",
       "Number.of.Engines          6.844491\n",
       "Engine.Type                7.961615\n",
       "FAR.Description           63.974170\n",
       "Schedule                  85.845268\n",
       "Purpose.of.flight          6.965991\n",
       "Air.carrier               81.271023\n",
       "Total.Fatal.Injuries      12.826109\n",
       "Total.Serious.Injuries    14.073732\n",
       "Total.Minor.Injuries      13.424608\n",
       "Total.Uninjured            6.650992\n",
       "Weather.Condition          5.053494\n",
       "Broad.phase.of.flight     30.560587\n",
       "Report.Status              7.178616\n",
       "Publication.Date          15.492356\n",
       "dtype: float64"
      ]
     },
     "execution_count": 12,
     "metadata": {},
     "output_type": "execute_result"
    }
   ],
   "source": [
    "# Calculate the percentage of missing values for each column\n",
    "missing_perc = aviation_data.isna().mean() * 100\n",
    "missing_perc"
   ]
  },
  {
   "cell_type": "markdown",
   "metadata": {},
   "source": [
    "Convention suggests dropping columns where over 50% of the data is missing, unless it is very important to your analysis.\n",
    "These are candidates to consider dropping:"
   ]
  },
  {
   "cell_type": "code",
   "execution_count": 13,
   "metadata": {},
   "outputs": [
    {
     "data": {
      "text/plain": [
       "Latitude             61.320298\n",
       "Longitude            61.330423\n",
       "Aircraft.Category    63.677170\n",
       "FAR.Description      63.974170\n",
       "Schedule             85.845268\n",
       "Air.carrier          81.271023\n",
       "dtype: float64"
      ]
     },
     "execution_count": 13,
     "metadata": {},
     "output_type": "execute_result"
    }
   ],
   "source": [
    "missing_perc[missing_perc > 50]"
   ]
  },
  {
   "cell_type": "markdown",
   "metadata": {},
   "source": [
    "Lets see what Location has, maybe it will help us decide on what to do with Lat and Long"
   ]
  },
  {
   "cell_type": "code",
   "execution_count": 14,
   "metadata": {},
   "outputs": [
    {
     "data": {
      "text/plain": [
       "ANCHORAGE, AK          434\n",
       "MIAMI, FL              200\n",
       "ALBUQUERQUE, NM        196\n",
       "HOUSTON, TX            193\n",
       "CHICAGO, IL            184\n",
       "                      ... \n",
       "Corona De Tucso, AZ      1\n",
       "Lithonia, GA             1\n",
       "BONANZA, OR              1\n",
       "NEWPORT, PA              1\n",
       "Brasnorte,               1\n",
       "Name: Location, Length: 27758, dtype: int64"
      ]
     },
     "execution_count": 14,
     "metadata": {},
     "output_type": "execute_result"
    }
   ],
   "source": [
    "aviation_data['Location'].value_counts()"
   ]
  },
  {
   "cell_type": "markdown",
   "metadata": {},
   "source": [
    "We have options now, we can drop Lat and Long or we can use some sort of API to get the Lat and Long filled based on the Locatoin when it is missing!  We don't have to decide now, lets let further exploration guide our choices."
   ]
  },
  {
   "cell_type": "markdown",
   "metadata": {},
   "source": [
    "## Exploring More Columns\n",
    "\n",
    "### Investigation.Type"
   ]
  },
  {
   "cell_type": "code",
   "execution_count": 15,
   "metadata": {},
   "outputs": [
    {
     "data": {
      "text/plain": [
       "Accident    85015\n",
       "Incident     3874\n",
       "Name: Investigation.Type, dtype: int64"
      ]
     },
     "execution_count": 15,
     "metadata": {},
     "output_type": "execute_result"
    }
   ],
   "source": [
    "aviation_data['Investigation.Type'].value_counts()"
   ]
  },
  {
   "cell_type": "markdown",
   "metadata": {},
   "source": [
    "Accident - caused personal injury, damage or damage\n",
    "Incident - could have potentially caused harm but didn't necessarily \n",
    "\n",
    "Weighting these differently is a good idea.\n",
    "\n",
    "### Country"
   ]
  },
  {
   "cell_type": "code",
   "execution_count": 16,
   "metadata": {},
   "outputs": [
    {
     "data": {
      "text/plain": [
       "United States                       82248\n",
       "Brazil                                374\n",
       "Canada                                359\n",
       "Mexico                                358\n",
       "United Kingdom                        344\n",
       "                                    ...  \n",
       "Seychelles                              1\n",
       "Palau                                   1\n",
       "Libya                                   1\n",
       "Saint Vincent and the Grenadines        1\n",
       "Turks and Caicos Islands                1\n",
       "Name: Country, Length: 219, dtype: int64"
      ]
     },
     "execution_count": 16,
     "metadata": {},
     "output_type": "execute_result"
    }
   ],
   "source": [
    "aviation_data['Country'].value_counts()"
   ]
  },
  {
   "cell_type": "markdown",
   "metadata": {},
   "source": [
    "There is a strong bias to the United States so our data is only going to be the most reliable in the US due to uncontrolled factors like regulation differences between countries.\n",
    "\n",
    "## Airport.Code and Airport.Name"
   ]
  },
  {
   "cell_type": "code",
   "execution_count": 17,
   "metadata": {},
   "outputs": [
    {
     "data": {
      "text/plain": [
       "NONE    1488\n",
       "PVT      485\n",
       "APA      160\n",
       "ORD      149\n",
       "MRI      137\n",
       "        ... \n",
       "5QA        1\n",
       "7NJ9       1\n",
       "CWV        1\n",
       "M55        1\n",
       "EIKH       1\n",
       "Name: Airport.Code, Length: 10375, dtype: int64"
      ]
     },
     "execution_count": 17,
     "metadata": {},
     "output_type": "execute_result"
    }
   ],
   "source": [
    "aviation_data['Airport.Code'].value_counts()"
   ]
  },
  {
   "cell_type": "code",
   "execution_count": 18,
   "metadata": {},
   "outputs": [
    {
     "data": {
      "text/plain": [
       "Private                           240\n",
       "PRIVATE                           224\n",
       "Private Airstrip                  153\n",
       "NONE                              146\n",
       "PRIVATE STRIP                     111\n",
       "                                 ... \n",
       "STEHEKIN                            1\n",
       "OTTAWA MUNICIPAL                    1\n",
       "DWIGHT AIRPORT                      1\n",
       "PHOENIX DEER VALLEY MUNI            1\n",
       "WICHITA DWIGHT D EISENHOWER NT      1\n",
       "Name: Airport.Name, Length: 24871, dtype: int64"
      ]
     },
     "execution_count": 18,
     "metadata": {},
     "output_type": "execute_result"
    }
   ],
   "source": [
    "aviation_data['Airport.Name'].value_counts()"
   ]
  },
  {
   "cell_type": "markdown",
   "metadata": {},
   "source": [
    "We will have to clean the names quite a bit especially around private airports.\n",
    "The codes have a lot of missing data could that correlate with private airports not having codes?"
   ]
  },
  {
   "cell_type": "code",
   "execution_count": 19,
   "metadata": {},
   "outputs": [
    {
     "data": {
      "text/html": [
       "<div>\n",
       "<style scoped>\n",
       "    .dataframe tbody tr th:only-of-type {\n",
       "        vertical-align: middle;\n",
       "    }\n",
       "\n",
       "    .dataframe tbody tr th {\n",
       "        vertical-align: top;\n",
       "    }\n",
       "\n",
       "    .dataframe thead th {\n",
       "        text-align: right;\n",
       "    }\n",
       "</style>\n",
       "<table border=\"1\" class=\"dataframe\">\n",
       "  <thead>\n",
       "    <tr style=\"text-align: right;\">\n",
       "      <th></th>\n",
       "      <th>Airport.Name</th>\n",
       "      <th>Airport.Code</th>\n",
       "    </tr>\n",
       "  </thead>\n",
       "  <tbody>\n",
       "    <tr>\n",
       "      <th>23180</th>\n",
       "      <td>PRIVATE</td>\n",
       "      <td>NONE</td>\n",
       "    </tr>\n",
       "    <tr>\n",
       "      <th>23510</th>\n",
       "      <td>PRIVATE</td>\n",
       "      <td>NONE</td>\n",
       "    </tr>\n",
       "    <tr>\n",
       "      <th>24750</th>\n",
       "      <td>PRIVATE</td>\n",
       "      <td>NONE</td>\n",
       "    </tr>\n",
       "    <tr>\n",
       "      <th>25143</th>\n",
       "      <td>PRIVATE</td>\n",
       "      <td>NONE</td>\n",
       "    </tr>\n",
       "    <tr>\n",
       "      <th>25197</th>\n",
       "      <td>PRIVATE</td>\n",
       "      <td>NONE</td>\n",
       "    </tr>\n",
       "    <tr>\n",
       "      <th>...</th>\n",
       "      <td>...</td>\n",
       "      <td>...</td>\n",
       "    </tr>\n",
       "    <tr>\n",
       "      <th>53160</th>\n",
       "      <td>PRIVATE</td>\n",
       "      <td>NONE</td>\n",
       "    </tr>\n",
       "    <tr>\n",
       "      <th>53341</th>\n",
       "      <td>PRIVATE</td>\n",
       "      <td>NONE</td>\n",
       "    </tr>\n",
       "    <tr>\n",
       "      <th>72953</th>\n",
       "      <td>PRIVATE</td>\n",
       "      <td>NONE</td>\n",
       "    </tr>\n",
       "    <tr>\n",
       "      <th>74338</th>\n",
       "      <td>PRIVATE</td>\n",
       "      <td>NONE</td>\n",
       "    </tr>\n",
       "    <tr>\n",
       "      <th>79059</th>\n",
       "      <td>PRIVATE</td>\n",
       "      <td>NONE</td>\n",
       "    </tr>\n",
       "  </tbody>\n",
       "</table>\n",
       "<p>94 rows × 2 columns</p>\n",
       "</div>"
      ],
      "text/plain": [
       "      Airport.Name Airport.Code\n",
       "23180      PRIVATE         NONE\n",
       "23510      PRIVATE         NONE\n",
       "24750      PRIVATE         NONE\n",
       "25143      PRIVATE         NONE\n",
       "25197      PRIVATE         NONE\n",
       "...            ...          ...\n",
       "53160      PRIVATE         NONE\n",
       "53341      PRIVATE         NONE\n",
       "72953      PRIVATE         NONE\n",
       "74338      PRIVATE         NONE\n",
       "79059      PRIVATE         NONE\n",
       "\n",
       "[94 rows x 2 columns]"
      ]
     },
     "execution_count": 19,
     "metadata": {},
     "output_type": "execute_result"
    }
   ],
   "source": [
    "aviation_data[(aviation_data['Airport.Name']=='PRIVATE') & (aviation_data['Airport.Code']=='NONE')][['Airport.Name','Airport.Code']]"
   ]
  },
  {
   "cell_type": "markdown",
   "metadata": {},
   "source": [
    "It's hard to say just how much they are the reason for NONE without cleaning.  We will clean in another step though we are exploring for now.\n",
    "\n",
    "## Injury.Severity"
   ]
  },
  {
   "cell_type": "code",
   "execution_count": 20,
   "metadata": {},
   "outputs": [
    {
     "data": {
      "text/plain": [
       "Non-Fatal     67357\n",
       "Fatal(1)       6167\n",
       "Fatal          5262\n",
       "Fatal(2)       3711\n",
       "Incident       2219\n",
       "              ...  \n",
       "Fatal(270)        1\n",
       "Fatal(60)         1\n",
       "Fatal(43)         1\n",
       "Fatal(143)        1\n",
       "Fatal(230)        1\n",
       "Name: Injury.Severity, Length: 109, dtype: int64"
      ]
     },
     "execution_count": 20,
     "metadata": {},
     "output_type": "execute_result"
    }
   ],
   "source": [
    "aviation_data['Injury.Severity'].value_counts()"
   ]
  },
  {
   "cell_type": "markdown",
   "metadata": {},
   "source": [
    "We will need to seperate fatal from the number to let it make more sense for our charts and analysis.\n",
    "\n",
    "## Aircraft.damage"
   ]
  },
  {
   "cell_type": "code",
   "execution_count": 21,
   "metadata": {},
   "outputs": [
    {
     "data": {
      "text/plain": [
       "Substantial    64148\n",
       "Destroyed      18623\n",
       "Minor           2805\n",
       "Unknown          119\n",
       "Name: Aircraft.damage, dtype: int64"
      ]
     },
     "execution_count": 21,
     "metadata": {},
     "output_type": "execute_result"
    }
   ],
   "source": [
    "aviation_data['Aircraft.damage'].value_counts()"
   ]
  },
  {
   "cell_type": "markdown",
   "metadata": {},
   "source": [
    "Finally a field that has little issues, just a few missing values.\n",
    "\n",
    "## Aircraft Specs\n",
    "Lets examine the group of fields that might let us identify features of the airplanes, some of the most important data\n",
    "\n",
    "### Aircraft.Category"
   ]
  },
  {
   "cell_type": "code",
   "execution_count": 22,
   "metadata": {},
   "outputs": [
    {
     "data": {
      "text/plain": [
       "Airplane             27617\n",
       "Helicopter            3440\n",
       "Glider                 508\n",
       "Balloon                231\n",
       "Gyrocraft              173\n",
       "Weight-Shift           161\n",
       "Powered Parachute       91\n",
       "Ultralight              30\n",
       "Unknown                 14\n",
       "WSFT                     9\n",
       "Powered-Lift             5\n",
       "Blimp                    4\n",
       "UNK                      2\n",
       "Rocket                   1\n",
       "ULTR                     1\n",
       "Name: Aircraft.Category, dtype: int64"
      ]
     },
     "execution_count": 22,
     "metadata": {},
     "output_type": "execute_result"
    }
   ],
   "source": [
    "aviation_data['Aircraft.Category'].value_counts()"
   ]
  },
  {
   "cell_type": "markdown",
   "metadata": {},
   "source": [
    "We can get rid of all that aren't airplane, probably\n",
    "\n",
    "### Registration.Number"
   ]
  },
  {
   "cell_type": "code",
   "execution_count": 23,
   "metadata": {},
   "outputs": [
    {
     "data": {
      "text/plain": [
       "NONE      344\n",
       "UNREG     126\n",
       "None       65\n",
       "UNK        13\n",
       "USAF        9\n",
       "         ... \n",
       "N93478      1\n",
       "N519UA      1\n",
       "N8840W      1\n",
       "N21040      1\n",
       "N9026P      1\n",
       "Name: Registration.Number, Length: 79105, dtype: int64"
      ]
     },
     "execution_count": 23,
     "metadata": {},
     "output_type": "execute_result"
    }
   ],
   "source": [
    "aviation_data['Registration.Number'].value_counts()"
   ]
  },
  {
   "cell_type": "markdown",
   "metadata": {},
   "source": [
    "Lots of NONE might not be as useful a field.  However if some planes were just train wrecks and had lots of issues then they could be \n",
    "something worth keeping in mind when interpretting the data\n",
    "### Make"
   ]
  },
  {
   "cell_type": "code",
   "execution_count": 24,
   "metadata": {},
   "outputs": [
    {
     "data": {
      "text/plain": [
       "Cessna             22227\n",
       "Piper              12029\n",
       "CESSNA              4922\n",
       "Beech               4330\n",
       "PIPER               2841\n",
       "                   ...  \n",
       "Leonard Walters        1\n",
       "Maule Air Inc.         1\n",
       "Motley Vans            1\n",
       "Perlick                1\n",
       "ROYSE RALPH L          1\n",
       "Name: Make, Length: 8237, dtype: int64"
      ]
     },
     "execution_count": 24,
     "metadata": {},
     "output_type": "execute_result"
    }
   ],
   "source": [
    "aviation_data['Make'].value_counts()"
   ]
  },
  {
   "cell_type": "markdown",
   "metadata": {},
   "source": [
    "We will need to clean this data for sure the Cessna for example is listed twice with diff capitilization\n",
    "### Model"
   ]
  },
  {
   "cell_type": "code",
   "execution_count": 25,
   "metadata": {},
   "outputs": [
    {
     "data": {
      "text/plain": [
       "152              2367\n",
       "172              1756\n",
       "172N             1164\n",
       "PA-28-140         932\n",
       "150               829\n",
       "                 ... \n",
       "GC-1-A              1\n",
       "737-3S3             1\n",
       "MBB-BK117-B2        1\n",
       "GLASSAIR GL25       1\n",
       "M-8 EAGLE           1\n",
       "Name: Model, Length: 12318, dtype: int64"
      ]
     },
     "execution_count": 25,
     "metadata": {},
     "output_type": "execute_result"
    }
   ],
   "source": [
    "aviation_data['Model'].value_counts()"
   ]
  },
  {
   "cell_type": "markdown",
   "metadata": {},
   "source": [
    "Make and Model together can form unique strings to identify types of craft so this is nice.  (It is possible for a model to have the same name and diff makes, even if rare).  This pair will be used in a lot of finding the correlations in the data.\n",
    "### Amateur Built"
   ]
  },
  {
   "cell_type": "code",
   "execution_count": 26,
   "metadata": {},
   "outputs": [
    {
     "data": {
      "text/plain": [
       "No     80312\n",
       "Yes     8475\n",
       "Name: Amateur.Built, dtype: int64"
      ]
     },
     "execution_count": 26,
     "metadata": {},
     "output_type": "execute_result"
    }
   ],
   "source": [
    "aviation_data['Amateur.Built'].value_counts()"
   ]
  },
  {
   "cell_type": "markdown",
   "metadata": {},
   "source": [
    "Since we are a business we might just remove rows about amateur built aircraft.  However maybe some of the non business made ones have properties we'd be interested in?"
   ]
  },
  {
   "cell_type": "code",
   "execution_count": 27,
   "metadata": {},
   "outputs": [
    {
     "data": {
      "text/plain": [
       "1.0    69582\n",
       "2.0    11079\n",
       "0.0     1226\n",
       "3.0      483\n",
       "4.0      431\n",
       "8.0        3\n",
       "6.0        1\n",
       "Name: Number.of.Engines, dtype: int64"
      ]
     },
     "execution_count": 27,
     "metadata": {},
     "output_type": "execute_result"
    }
   ],
   "source": [
    "aviation_data['Number.of.Engines'].value_counts()"
   ]
  },
  {
   "cell_type": "markdown",
   "metadata": {},
   "source": [
    "I'm wondering what has zero engines, gliders perhaps?  Lets find out below"
   ]
  },
  {
   "cell_type": "code",
   "execution_count": 28,
   "metadata": {},
   "outputs": [
    {
     "data": {
      "text/plain": [
       "Engine.Type  \n",
       "Unknown          680\n",
       "None               8\n",
       "NONE               2\n",
       "Reciprocating      2\n",
       "dtype: int64"
      ]
     },
     "execution_count": 28,
     "metadata": {},
     "output_type": "execute_result"
    }
   ],
   "source": [
    "aviation_data[aviation_data['Number.of.Engines']==0][['Engine.Type']].value_counts()"
   ]
  },
  {
   "cell_type": "markdown",
   "metadata": {},
   "source": [
    "It seems it's mostly missing data.  Also our missing data is going to need standardized to one value."
   ]
  },
  {
   "cell_type": "code",
   "execution_count": 29,
   "metadata": {},
   "outputs": [
    {
     "data": {
      "text/plain": [
       "Reciprocating      69530\n",
       "Turbo Shaft         3609\n",
       "Turbo Prop          3391\n",
       "Turbo Fan           2481\n",
       "Unknown             2051\n",
       "Turbo Jet            703\n",
       "None                  19\n",
       "Geared Turbofan       12\n",
       "Electric              10\n",
       "LR                     2\n",
       "NONE                   2\n",
       "Hybrid Rocket          1\n",
       "UNK                    1\n",
       "Name: Engine.Type, dtype: int64"
      ]
     },
     "execution_count": 29,
     "metadata": {},
     "output_type": "execute_result"
    }
   ],
   "source": [
    "aviation_data['Engine.Type'].value_counts()"
   ]
  },
  {
   "cell_type": "markdown",
   "metadata": {},
   "source": [
    "### FAR.Description\n",
    "FAR stands for Federal Aviation Regulations. These regulations are a comprehensive set of rules and guidelines established by the Federal Aviation Administration (FAA) to ensure the safety and efficiency of civil aviation within the United States.\n",
    "\n",
    "Some examples:\n",
    "- Part 23: Airworthiness Standards for Normal, Utility, Acrobatic, and Commuter Category Airplanes\n",
    "- Part 61: Certification: Pilots, Flight Instructors, and Ground Instructors\n",
    "- Part 91: General Operating and Flight Rules\n",
    "- Part 121: Operating Requirements: Domestic, Flag, and Supplemental Operations"
   ]
  },
  {
   "cell_type": "code",
   "execution_count": 30,
   "metadata": {},
   "outputs": [
    {
     "data": {
      "text/plain": [
       "091                               18221\n",
       "Part 91: General Aviation          6486\n",
       "NUSN                               1584\n",
       "NUSC                               1013\n",
       "137                                1010\n",
       "135                                 746\n",
       "121                                 679\n",
       "Part 137: Agricultural              437\n",
       "UNK                                 371\n",
       "Part 135: Air Taxi & Commuter       298\n",
       "PUBU                                253\n",
       "129                                 246\n",
       "Part 121: Air Carrier               165\n",
       "133                                 107\n",
       "Part 129: Foreign                   100\n",
       "Non-U.S., Non-Commercial             97\n",
       "Non-U.S., Commercial                 93\n",
       "Part 133: Rotorcraft Ext. Load       32\n",
       "Unknown                              22\n",
       "Public Use                           19\n",
       "091K                                 14\n",
       "ARMF                                  8\n",
       "Part 125: 20+ Pax,6000+ lbs           5\n",
       "125                                   5\n",
       "107                                   4\n",
       "Public Aircraft                       2\n",
       "103                                   2\n",
       "Part 91 Subpart K: Fractional         1\n",
       "Armed Forces                          1\n",
       "Part 91F: Special Flt Ops.            1\n",
       "437                                   1\n",
       "Name: FAR.Description, dtype: int64"
      ]
     },
     "execution_count": 30,
     "metadata": {},
     "output_type": "execute_result"
    }
   ],
   "source": [
    "aviation_data['FAR.Description'].value_counts()"
   ]
  },
  {
   "cell_type": "markdown",
   "metadata": {},
   "source": [
    "The Data for this will need standardized as seen by the Part 91 and etc.  \n",
    "on part 91 and others\n",
    "https://pilotinstitute.com/part-91-vs-121-vs-135/\n",
    "\n",
    "NUSN: Non-U.S. National (incident or accident)\n",
    "\n",
    "\"NUSN\" is a code used to identify incidents or accidents involving aircraft that are not registered in the United States. This categorization helps in distinguishing between domestic and international incidents for regulatory and statistical purposes.\n",
    "NUSC: Non-U.S. Commercial (incident or accident)\n",
    "\n",
    "\"NUSC\" refers to incidents or accidents involving non-U.S. commercial aircraft. This code is specifically used for commercial operations, such as airlines and charter services, that are not registered in the United States.\n",
    "\n",
    "... Understanding all the codes is going to be important if we use this field\n",
    "\n",
    "### Schedule"
   ]
  },
  {
   "cell_type": "code",
   "execution_count": 31,
   "metadata": {},
   "outputs": [
    {
     "data": {
      "text/plain": [
       "NSCH    4474\n",
       "UNK     4099\n",
       "SCHD    4009\n",
       "Name: Schedule, dtype: int64"
      ]
     },
     "execution_count": 31,
     "metadata": {},
     "output_type": "execute_result"
    }
   ],
   "source": [
    "aviation_data['Schedule'].value_counts()"
   ]
  },
  {
   "cell_type": "markdown",
   "metadata": {},
   "source": [
    "NSCH (Non-Scheduled): Refers to flights that do not operate on a regular schedule. These can include charter flights, air taxi operations, private flights, and other ad-hoc operations.\n",
    "\n",
    "UNK (Unknown): Indicates that the schedule type of the flight operation is unknown. This can occur when the information is not available or not recorded in the safety database.\n",
    "\n",
    "SCHD (Scheduled): Refers to flights that operate on a regular, published schedule. These are typically commercial airline flights that follow a fixed timetable.\n",
    "\n",
    "### Purpose.of.flight"
   ]
  },
  {
   "cell_type": "code",
   "execution_count": 32,
   "metadata": {},
   "outputs": [
    {
     "data": {
      "text/plain": [
       "Personal                     49448\n",
       "Instructional                10601\n",
       "Unknown                       6802\n",
       "Aerial Application            4712\n",
       "Business                      4018\n",
       "Positioning                   1646\n",
       "Other Work Use                1264\n",
       "Ferry                          812\n",
       "Aerial Observation             794\n",
       "Public Aircraft                720\n",
       "Executive/corporate            553\n",
       "Flight Test                    405\n",
       "Skydiving                      182\n",
       "External Load                  123\n",
       "Public Aircraft - Federal      105\n",
       "Banner Tow                     101\n",
       "Air Race show                   99\n",
       "Public Aircraft - Local         74\n",
       "Public Aircraft - State         64\n",
       "Air Race/show                   59\n",
       "Glider Tow                      53\n",
       "Firefighting                    40\n",
       "Air Drop                        11\n",
       "ASHO                             6\n",
       "PUBS                             4\n",
       "PUBL                             1\n",
       "Name: Purpose.of.flight, dtype: int64"
      ]
     },
     "execution_count": 32,
     "metadata": {},
     "output_type": "execute_result"
    }
   ],
   "source": [
    "aviation_data['Purpose.of.flight'].value_counts()"
   ]
  },
  {
   "cell_type": "markdown",
   "metadata": {},
   "source": [
    "This is very informative as a field and it seems to have minimal issues with missing data.  Here is the Skydiving Joseph mentioned.\n",
    "\n",
    "### Air.carrier"
   ]
  },
  {
   "cell_type": "code",
   "execution_count": 33,
   "metadata": {},
   "outputs": [
    {
     "data": {
      "text/plain": [
       "Pilot                        258\n",
       "American Airlines             90\n",
       "United Airlines               89\n",
       "Delta Air Lines               53\n",
       "SOUTHWEST AIRLINES CO         42\n",
       "                            ... \n",
       "WOODY CONTRACTING INC          1\n",
       "Rod Aviation LLC               1\n",
       "Paul D Franzon                 1\n",
       "TRAINING SERVICES INC DBA      1\n",
       "MC CESSNA 210N LLC             1\n",
       "Name: Air.carrier, Length: 13590, dtype: int64"
      ]
     },
     "execution_count": 33,
     "metadata": {},
     "output_type": "execute_result"
    }
   ],
   "source": [
    "aviation_data['Air.carrier'].value_counts()"
   ]
  },
  {
   "cell_type": "markdown",
   "metadata": {},
   "source": [
    "It has a lot of missing rows but it could have a big impact on safety.\n",
    "\n",
    "### Total.Fatal.Injuries"
   ]
  },
  {
   "cell_type": "code",
   "execution_count": null,
   "metadata": {},
   "outputs": [
    {
     "data": {
      "text/plain": [
       "0.0      59675\n",
       "1.0       8883\n",
       "2.0       5173\n",
       "3.0       1589\n",
       "4.0       1103\n",
       "         ...  \n",
       "156.0        1\n",
       "68.0         1\n",
       "31.0         1\n",
       "115.0        1\n",
       "176.0        1\n",
       "Name: Total.Fatal.Injuries, Length: 125, dtype: int64"
      ]
     },
     "execution_count": 34,
     "metadata": {},
     "output_type": "execute_result"
    }
   ],
   "source": [
    "aviation_data['Total.Fatal.Injuries'].value_counts()"
   ]
  },
  {
   "cell_type": "markdown",
   "metadata": {},
   "source": [
    "it is in floats for some reason so we might make sure there's no \"partial fatal injuries\"\n",
    "\n",
    "### Total.Serious.Injuries"
   ]
  },
  {
   "cell_type": "code",
   "execution_count": 35,
   "metadata": {},
   "outputs": [
    {
     "data": {
      "text/plain": [
       "0.0      63289\n",
       "1.0       9125\n",
       "2.0       2815\n",
       "3.0        629\n",
       "4.0        258\n",
       "5.0         78\n",
       "6.0         41\n",
       "7.0         27\n",
       "9.0         16\n",
       "10.0        13\n",
       "8.0         13\n",
       "13.0         9\n",
       "11.0         6\n",
       "26.0         5\n",
       "14.0         5\n",
       "12.0         5\n",
       "20.0         3\n",
       "25.0         3\n",
       "28.0         3\n",
       "21.0         2\n",
       "59.0         2\n",
       "50.0         2\n",
       "17.0         2\n",
       "47.0         2\n",
       "137.0        1\n",
       "19.0         1\n",
       "161.0        1\n",
       "27.0         1\n",
       "35.0         1\n",
       "67.0         1\n",
       "33.0         1\n",
       "88.0         1\n",
       "125.0        1\n",
       "53.0         1\n",
       "34.0         1\n",
       "41.0         1\n",
       "18.0         1\n",
       "63.0         1\n",
       "55.0         1\n",
       "23.0         1\n",
       "43.0         1\n",
       "39.0         1\n",
       "45.0         1\n",
       "44.0         1\n",
       "16.0         1\n",
       "60.0         1\n",
       "106.0        1\n",
       "81.0         1\n",
       "15.0         1\n",
       "22.0         1\n",
       "Name: Total.Serious.Injuries, dtype: int64"
      ]
     },
     "execution_count": 35,
     "metadata": {},
     "output_type": "execute_result"
    }
   ],
   "source": [
    "aviation_data['Total.Serious.Injuries'].value_counts()"
   ]
  },
  {
   "cell_type": "markdown",
   "metadata": {},
   "source": [
    "It is in floats again\n",
    "### Total.Minor.Injuries"
   ]
  },
  {
   "cell_type": "code",
   "execution_count": 37,
   "metadata": {},
   "outputs": [
    {
     "data": {
      "text/plain": [
       "0.0      61454\n",
       "1.0      10320\n",
       "2.0       3576\n",
       "3.0        784\n",
       "4.0        372\n",
       "5.0        129\n",
       "6.0         67\n",
       "7.0         59\n",
       "9.0         22\n",
       "8.0         20\n",
       "13.0        14\n",
       "10.0        11\n",
       "12.0        11\n",
       "14.0        10\n",
       "11.0         9\n",
       "17.0         8\n",
       "19.0         6\n",
       "18.0         6\n",
       "24.0         5\n",
       "22.0         5\n",
       "25.0         4\n",
       "16.0         4\n",
       "15.0         4\n",
       "33.0         4\n",
       "20.0         3\n",
       "21.0         3\n",
       "26.0         3\n",
       "23.0         3\n",
       "32.0         3\n",
       "27.0         3\n",
       "50.0         2\n",
       "30.0         2\n",
       "36.0         2\n",
       "31.0         2\n",
       "28.0         2\n",
       "42.0         2\n",
       "38.0         2\n",
       "57.0         1\n",
       "65.0         1\n",
       "84.0         1\n",
       "43.0         1\n",
       "35.0         1\n",
       "380.0        1\n",
       "47.0         1\n",
       "68.0         1\n",
       "200.0        1\n",
       "71.0         1\n",
       "58.0         1\n",
       "171.0        1\n",
       "39.0         1\n",
       "96.0         1\n",
       "29.0         1\n",
       "69.0         1\n",
       "62.0         1\n",
       "45.0         1\n",
       "125.0        1\n",
       "40.0         1\n",
       "Name: Total.Minor.Injuries, dtype: int64"
      ]
     },
     "execution_count": 37,
     "metadata": {},
     "output_type": "execute_result"
    }
   ],
   "source": [
    "aviation_data['Total.Minor.Injuries'].value_counts()"
   ]
  },
  {
   "cell_type": "markdown",
   "metadata": {},
   "source": [
    "It is in floats again\n",
    "### Total.Uninjured"
   ]
  },
  {
   "cell_type": "code",
   "execution_count": 38,
   "metadata": {},
   "outputs": [
    {
     "data": {
      "text/plain": [
       "0.0      29879\n",
       "1.0      25101\n",
       "2.0      15988\n",
       "3.0       4313\n",
       "4.0       2662\n",
       "         ...  \n",
       "558.0        1\n",
       "412.0        1\n",
       "338.0        1\n",
       "401.0        1\n",
       "455.0        1\n",
       "Name: Total.Uninjured, Length: 379, dtype: int64"
      ]
     },
     "execution_count": 38,
     "metadata": {},
     "output_type": "execute_result"
    }
   ],
   "source": [
    "aviation_data['Total.Uninjured'].value_counts()"
   ]
  },
  {
   "cell_type": "markdown",
   "metadata": {},
   "source": [
    "also in floats\n",
    "### Weather.Condition"
   ]
  },
  {
   "cell_type": "code",
   "execution_count": 39,
   "metadata": {},
   "outputs": [
    {
     "data": {
      "text/plain": [
       "VMC    77303\n",
       "IMC     5976\n",
       "UNK      856\n",
       "Unk      262\n",
       "Name: Weather.Condition, dtype: int64"
      ]
     },
     "execution_count": 39,
     "metadata": {},
     "output_type": "execute_result"
    }
   ],
   "source": [
    "aviation_data['Weather.Condition'].value_counts()"
   ]
  },
  {
   "cell_type": "markdown",
   "metadata": {},
   "source": [
    "UNK and Unk are not standardized\n",
    "\n",
    "Conditions are codes:\n",
    "\n",
    "**VMC (Visual Meteorological Conditions):**\n",
    "\n",
    "VMC: Indicates weather conditions that allow for visual flight rules (VFR) operations. Pilots can navigate and control the aircraft using visual references outside the cockpit.\n",
    "\n",
    "**IMC (Instrument Meteorological Conditions):**\n",
    "\n",
    "IMC: Refers to weather conditions that require instrument flight rules (IFR) operations. Visibility and cloud cover are such that pilots must rely on cockpit instruments for navigation and control.\n",
    "\n",
    "**UNK (Unknown):**\n",
    "\n",
    "UNK: Indicates that the meteorological conditions at the time of the incident or data point are unknown or not recorded.\n",
    "\n",
    "\n",
    "### Broad.phase.of.flight"
   ]
  },
  {
   "cell_type": "code",
   "execution_count": 40,
   "metadata": {},
   "outputs": [
    {
     "data": {
      "text/plain": [
       "Landing        15428\n",
       "Takeoff        12493\n",
       "Cruise         10269\n",
       "Maneuvering     8144\n",
       "Approach        6546\n",
       "Climb           2034\n",
       "Taxi            1958\n",
       "Descent         1887\n",
       "Go-around       1353\n",
       "Standing         945\n",
       "Unknown          548\n",
       "Other            119\n",
       "Name: Broad.phase.of.flight, dtype: int64"
      ]
     },
     "execution_count": 40,
     "metadata": {},
     "output_type": "execute_result"
    }
   ],
   "source": [
    "aviation_data['Broad.phase.of.flight'].value_counts()"
   ]
  },
  {
   "cell_type": "markdown",
   "metadata": {},
   "source": [
    "Landing is the most prone to incident or accident it seems like, especially since it is also relatively short in terms of phases.\n",
    "This data can help us find planes weak points and strong points as well as high risk areas.\n",
    "\n",
    "### Report.Status"
   ]
  },
  {
   "cell_type": "code",
   "execution_count": 41,
   "metadata": {},
   "outputs": [
    {
     "data": {
      "text/plain": [
       "Probable Cause                                                                                                                                                       61754\n",
       "Foreign                                                                                                                                                               1999\n",
       "<br /><br />                                                                                                                                                           167\n",
       "Factual                                                                                                                                                                145\n",
       "The pilot's failure to maintain directional control during the landing roll.                                                                                            56\n",
       "                                                                                                                                                                     ...  \n",
       "The pilot's incapacitation due to a ruptured berry aneurysm during takeoff.                                                                                              1\n",
       "The unauthorized operation of the helicopter by a non-certificated and unqualified individual who failed to maintain helicopter control.                                 1\n",
       "A loss of engine power due to the pilot's failure to utilize carburetor heat while maneuvering.\\r\\n.                                                                     1\n",
       "The pilot's failure to maintain adequate separation behind a corporate jet, which resulted in an encounter with wake turbulence and a subsequent loss of control.        1\n",
       "The pilots loss of control due to a wind gust during landing.                                                                                                           1\n",
       "Name: Report.Status, Length: 17075, dtype: int64"
      ]
     },
     "execution_count": 41,
     "metadata": {},
     "output_type": "execute_result"
    }
   ],
   "source": [
    "aviation_data['Report.Status'].value_counts()"
   ]
  },
  {
   "cell_type": "markdown",
   "metadata": {},
   "source": [
    "So it seems a lot of the values are probable cause\n",
    "\n",
    "**Probable Cause**: This term is used to describe the findings of an investigation that identify the factors or events that most likely led to the incident or accident. When a report reaches the \"probable cause\" status, the investigating authority, such as the National Transportation Safety Board (NTSB) in the United States, has completed its analysis and has determined the primary reasons behind the occurrence.\n",
    "\n",
    "\n",
    "### Publication Date"
   ]
  },
  {
   "cell_type": "code",
   "execution_count": 42,
   "metadata": {},
   "outputs": [
    {
     "data": {
      "text/plain": [
       "25-09-2020    17019\n",
       "26-09-2020     1769\n",
       "03-11-2020     1155\n",
       "31-03-1993      452\n",
       "25-11-2003      396\n",
       "              ...  \n",
       "29-11-2004        1\n",
       "29-08-2001        1\n",
       "18-11-2004        1\n",
       "17-12-1996        1\n",
       "29-12-2022        1\n",
       "Name: Publication.Date, Length: 2924, dtype: int64"
      ]
     },
     "execution_count": 42,
     "metadata": {},
     "output_type": "execute_result"
    }
   ],
   "source": [
    "aviation_data['Publication.Date'].value_counts()"
   ]
  },
  {
   "cell_type": "markdown",
   "metadata": {},
   "source": [
    "I'm not sure why most the publication dates are 25-09-2020, maybe they batch the reports or something"
   ]
  }
 ],
 "metadata": {
  "kernelspec": {
   "display_name": "learn-env",
   "language": "python",
   "name": "python3"
  },
  "language_info": {
   "codemirror_mode": {
    "name": "ipython",
    "version": 3
   },
   "file_extension": ".py",
   "mimetype": "text/x-python",
   "name": "python",
   "nbconvert_exporter": "python",
   "pygments_lexer": "ipython3",
   "version": "3.8.13"
  }
 },
 "nbformat": 4,
 "nbformat_minor": 2
}
