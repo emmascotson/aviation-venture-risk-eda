{
 "cells": [
  {
   "cell_type": "markdown",
   "metadata": {},
   "source": [
    "# Load the Data"
   ]
  },
  {
   "cell_type": "code",
   "execution_count": 1530,
   "metadata": {},
   "outputs": [
    {
     "name": "stdout",
     "output_type": "stream",
     "text": [
      "AviationData.csv  USState_Codes.csv\n"
     ]
    }
   ],
   "source": [
    "!ls data"
   ]
  },
  {
   "cell_type": "code",
   "execution_count": 1531,
   "metadata": {},
   "outputs": [],
   "source": [
    "#load the CSV files for the rest of the project\n",
    "\n",
    "#pandas says columns 6, 7, and 28 have mixed data types.  \n",
    "#For now we will set them to strings to avoid errors later\n",
    "'''\n",
    "Latitude and Longitude have two formats in the file.  One is degrees, minutes, seconds format \n",
    "with a suffix for hemisphere like N\n",
    "The other format is called decimal degrees and it is a float.\n",
    "'''\n",
    "\n",
    "#latin1 is required as utf-8 will not load\n",
    "#load 5 rows just for column names, a full load shows mixed data type warnings on columns 6, 7, 28\n",
    "#so we will tell pandas to load them as strings\n",
    "aviation_data = pd.read_csv(\"data/AviationData.csv\",encoding=\"latin1\", nrows=1)\n",
    "col_list = list(aviation_data.columns)\n",
    "dtype_spec = {\n",
    "    col_list[6]: 'str', #Latitude\n",
    "    col_list[7]: 'str', #Longitude\n",
    "    col_list[28]: 'str' #Broad.phase.of.flight\n",
    "}\n",
    "\n",
    "#now load it in full without warnings\n",
    "aviation_data = pd.read_csv(\"data/AviationData.csv\",encoding=\"latin1\", dtype=dtype_spec)\n",
    "uscode_data = pd.read_csv(\"data/USState_Codes.csv\")"
   ]
  },
  {
   "cell_type": "markdown",
   "metadata": {},
   "source": [
    "# Standardize Column Names"
   ]
  },
  {
   "cell_type": "code",
   "execution_count": 1532,
   "metadata": {},
   "outputs": [],
   "source": [
    "aviation_data.columns = aviation_data.columns.str.lower().str.replace(' ', '_',regex=False).str.replace('.','_',regex=False)"
   ]
  },
  {
   "cell_type": "markdown",
   "metadata": {},
   "source": [
    "# Info() and null count"
   ]
  },
  {
   "cell_type": "code",
   "execution_count": 1533,
   "metadata": {},
   "outputs": [
    {
     "name": "stdout",
     "output_type": "stream",
     "text": [
      "<class 'pandas.core.frame.DataFrame'>\n",
      "RangeIndex: 88889 entries, 0 to 88888\n",
      "Data columns (total 31 columns):\n",
      " #   Column                  Non-Null Count  Dtype  \n",
      "---  ------                  --------------  -----  \n",
      " 0   event_id                88889 non-null  object \n",
      " 1   investigation_type      88889 non-null  object \n",
      " 2   accident_number         88889 non-null  object \n",
      " 3   event_date              88889 non-null  object \n",
      " 4   location                88837 non-null  object \n",
      " 5   country                 88663 non-null  object \n",
      " 6   latitude                34382 non-null  object \n",
      " 7   longitude               34373 non-null  object \n",
      " 8   airport_code            50249 non-null  object \n",
      " 9   airport_name            52790 non-null  object \n",
      " 10  injury_severity         87889 non-null  object \n",
      " 11  aircraft_damage         85695 non-null  object \n",
      " 12  aircraft_category       32287 non-null  object \n",
      " 13  registration_number     87572 non-null  object \n",
      " 14  make                    88826 non-null  object \n",
      " 15  model                   88797 non-null  object \n",
      " 16  amateur_built           88787 non-null  object \n",
      " 17  number_of_engines       82805 non-null  float64\n",
      " 18  engine_type             81812 non-null  object \n",
      " 19  far_description         32023 non-null  object \n",
      " 20  schedule                12582 non-null  object \n",
      " 21  purpose_of_flight       82697 non-null  object \n",
      " 22  air_carrier             16648 non-null  object \n",
      " 23  total_fatal_injuries    77488 non-null  float64\n",
      " 24  total_serious_injuries  76379 non-null  float64\n",
      " 25  total_minor_injuries    76956 non-null  float64\n",
      " 26  total_uninjured         82977 non-null  float64\n",
      " 27  weather_condition       84397 non-null  object \n",
      " 28  broad_phase_of_flight   61724 non-null  object \n",
      " 29  report_status           82508 non-null  object \n",
      " 30  publication_date        75118 non-null  object \n",
      "dtypes: float64(5), object(26)\n",
      "memory usage: 21.0+ MB\n"
     ]
    }
   ],
   "source": [
    "#initial missing data check before cleaning/standardization\n",
    "null_counts_before_standardization = aviation_data.isnull().sum()\n",
    "aviation_data.info()\n"
   ]
  },
  {
   "cell_type": "markdown",
   "metadata": {},
   "source": [
    "# Mixed Data Type Issue with Longitude, Latitude\n",
    "\n",
    "For latitude and longitude they mix formats.  Some are in degrees, minutes and seconds format with a suffix like 'N' for direction.  Some are in decimal degrees, which are easier to work with mathematically."
   ]
  },
  {
   "cell_type": "code",
   "execution_count": 1534,
   "metadata": {},
   "outputs": [
    {
     "data": {
      "text/plain": [
       "332739N      19\n",
       "335219N      18\n",
       "334118N      17\n",
       "32.815556    17\n",
       "324934N      16\n",
       "             ..\n",
       "039613N       1\n",
       "342034N       1\n",
       "433113N       1\n",
       "343255N       1\n",
       "373829N       1\n",
       "Name: latitude, Length: 25589, dtype: int64"
      ]
     },
     "execution_count": 1534,
     "metadata": {},
     "output_type": "execute_result"
    }
   ],
   "source": [
    "#To know to pass str types for columns 6, 7 and 28 we had to know what is up with those columns\n",
    "#We do value_counts to see if one issue comes up a lot and inspect some initial values\n",
    "aviation_data['latitude'].value_counts()"
   ]
  },
  {
   "cell_type": "code",
   "execution_count": 1535,
   "metadata": {},
   "outputs": [
    {
     "data": {
      "text/plain": [
       "0112457W       24\n",
       "1114342W       18\n",
       "1151140W       17\n",
       "-104.673056    17\n",
       "-112.0825      16\n",
       "               ..\n",
       "0843135W        1\n",
       "0101957W        1\n",
       "1064131W        1\n",
       "1114414W        1\n",
       "0121410W        1\n",
       "Name: longitude, Length: 27154, dtype: int64"
      ]
     },
     "execution_count": 1535,
     "metadata": {},
     "output_type": "execute_result"
    }
   ],
   "source": [
    "aviation_data['longitude'].value_counts()"
   ]
  },
  {
   "cell_type": "markdown",
   "metadata": {},
   "source": [
    "## mixed data type for broad_phase_of_flight \n",
    "This is likely due to NaN, but needs more investigation"
   ]
  },
  {
   "cell_type": "code",
   "execution_count": 1536,
   "metadata": {},
   "outputs": [
    {
     "data": {
      "text/plain": [
       "0      Cruise\n",
       "1     Unknown\n",
       "2      Cruise\n",
       "3      Cruise\n",
       "4    Approach\n",
       "Name: broad_phase_of_flight, dtype: object"
      ]
     },
     "execution_count": 1536,
     "metadata": {},
     "output_type": "execute_result"
    }
   ],
   "source": [
    "aviation_data['broad_phase_of_flight'].head()"
   ]
  },
  {
   "cell_type": "code",
   "execution_count": 1537,
   "metadata": {},
   "outputs": [
    {
     "data": {
      "text/plain": [
       "Landing        15428\n",
       "Takeoff        12493\n",
       "Cruise         10269\n",
       "Maneuvering     8144\n",
       "Approach        6546\n",
       "Climb           2034\n",
       "Taxi            1958\n",
       "Descent         1887\n",
       "Go-around       1353\n",
       "Standing         945\n",
       "Unknown          548\n",
       "Other            119\n",
       "Name: broad_phase_of_flight, dtype: int64"
      ]
     },
     "execution_count": 1537,
     "metadata": {},
     "output_type": "execute_result"
    }
   ],
   "source": [
    "aviation_data['broad_phase_of_flight'].value_counts()"
   ]
  },
  {
   "cell_type": "code",
   "execution_count": 1538,
   "metadata": {},
   "outputs": [
    {
     "data": {
      "text/plain": [
       "27165"
      ]
     },
     "execution_count": 1538,
     "metadata": {},
     "output_type": "execute_result"
    }
   ],
   "source": [
    "aviation_data['broad_phase_of_flight'].isna().sum()"
   ]
  },
  {
   "cell_type": "code",
   "execution_count": 1539,
   "metadata": {},
   "outputs": [
    {
     "data": {
      "text/plain": [
       "3030    NaN\n",
       "3550    NaN\n",
       "3637    NaN\n",
       "4032    NaN\n",
       "5505    NaN\n",
       "Name: broad_phase_of_flight, dtype: object"
      ]
     },
     "execution_count": 1539,
     "metadata": {},
     "output_type": "execute_result"
    }
   ],
   "source": [
    "aviation_data[aviation_data['broad_phase_of_flight'].isna()]['broad_phase_of_flight'].head()"
   ]
  },
  {
   "cell_type": "markdown",
   "metadata": {},
   "source": [
    "# Standardize Data\n",
    "\n",
    "Lets attack getting rid of duplicate labels.  We checked ahead and there's a lot of labels duplicated for a lot of reasons.  This attempts to get rid of all of that."
   ]
  },
  {
   "cell_type": "code",
   "execution_count": 1540,
   "metadata": {},
   "outputs": [
    {
     "data": {
      "text/html": [
       "<div>\n",
       "<style scoped>\n",
       "    .dataframe tbody tr th:only-of-type {\n",
       "        vertical-align: middle;\n",
       "    }\n",
       "\n",
       "    .dataframe tbody tr th {\n",
       "        vertical-align: top;\n",
       "    }\n",
       "\n",
       "    .dataframe thead th {\n",
       "        text-align: right;\n",
       "    }\n",
       "</style>\n",
       "<table border=\"1\" class=\"dataframe\">\n",
       "  <thead>\n",
       "    <tr style=\"text-align: right;\">\n",
       "      <th></th>\n",
       "      <th>event_id</th>\n",
       "      <th>investigation_type</th>\n",
       "      <th>accident_number</th>\n",
       "      <th>event_date</th>\n",
       "      <th>location</th>\n",
       "      <th>country</th>\n",
       "      <th>latitude</th>\n",
       "      <th>longitude</th>\n",
       "      <th>airport_code</th>\n",
       "      <th>airport_name</th>\n",
       "      <th>...</th>\n",
       "      <th>purpose_of_flight</th>\n",
       "      <th>air_carrier</th>\n",
       "      <th>total_fatal_injuries</th>\n",
       "      <th>total_serious_injuries</th>\n",
       "      <th>total_minor_injuries</th>\n",
       "      <th>total_uninjured</th>\n",
       "      <th>weather_condition</th>\n",
       "      <th>broad_phase_of_flight</th>\n",
       "      <th>report_status</th>\n",
       "      <th>publication_date</th>\n",
       "    </tr>\n",
       "  </thead>\n",
       "  <tbody>\n",
       "    <tr>\n",
       "      <th>0</th>\n",
       "      <td>20001218x45444</td>\n",
       "      <td>accident</td>\n",
       "      <td>sea87la080</td>\n",
       "      <td>1948-10-24</td>\n",
       "      <td>moose creek, id</td>\n",
       "      <td>united states</td>\n",
       "      <td>NaN</td>\n",
       "      <td>NaN</td>\n",
       "      <td>NaN</td>\n",
       "      <td>NaN</td>\n",
       "      <td>...</td>\n",
       "      <td>personal</td>\n",
       "      <td>NaN</td>\n",
       "      <td>2.0</td>\n",
       "      <td>0.0</td>\n",
       "      <td>0.0</td>\n",
       "      <td>0.0</td>\n",
       "      <td>unk</td>\n",
       "      <td>cruise</td>\n",
       "      <td>probable cause</td>\n",
       "      <td>NaT</td>\n",
       "    </tr>\n",
       "    <tr>\n",
       "      <th>1</th>\n",
       "      <td>20001218x45447</td>\n",
       "      <td>accident</td>\n",
       "      <td>lax94la336</td>\n",
       "      <td>1962-07-19</td>\n",
       "      <td>bridgeport, ca</td>\n",
       "      <td>united states</td>\n",
       "      <td>NaN</td>\n",
       "      <td>NaN</td>\n",
       "      <td>NaN</td>\n",
       "      <td>NaN</td>\n",
       "      <td>...</td>\n",
       "      <td>personal</td>\n",
       "      <td>NaN</td>\n",
       "      <td>4.0</td>\n",
       "      <td>0.0</td>\n",
       "      <td>0.0</td>\n",
       "      <td>0.0</td>\n",
       "      <td>unk</td>\n",
       "      <td>unknown</td>\n",
       "      <td>probable cause</td>\n",
       "      <td>1996-09-19</td>\n",
       "    </tr>\n",
       "    <tr>\n",
       "      <th>2</th>\n",
       "      <td>20061025x01555</td>\n",
       "      <td>accident</td>\n",
       "      <td>nyc07la005</td>\n",
       "      <td>1974-08-30</td>\n",
       "      <td>saltville, va</td>\n",
       "      <td>united states</td>\n",
       "      <td>36.922223</td>\n",
       "      <td>-81.878056</td>\n",
       "      <td>NaN</td>\n",
       "      <td>NaN</td>\n",
       "      <td>...</td>\n",
       "      <td>personal</td>\n",
       "      <td>NaN</td>\n",
       "      <td>3.0</td>\n",
       "      <td>NaN</td>\n",
       "      <td>NaN</td>\n",
       "      <td>NaN</td>\n",
       "      <td>imc</td>\n",
       "      <td>cruise</td>\n",
       "      <td>probable cause</td>\n",
       "      <td>2007-02-26</td>\n",
       "    </tr>\n",
       "    <tr>\n",
       "      <th>3</th>\n",
       "      <td>20001218x45448</td>\n",
       "      <td>accident</td>\n",
       "      <td>lax96la321</td>\n",
       "      <td>1977-06-19</td>\n",
       "      <td>eureka, ca</td>\n",
       "      <td>united states</td>\n",
       "      <td>NaN</td>\n",
       "      <td>NaN</td>\n",
       "      <td>NaN</td>\n",
       "      <td>NaN</td>\n",
       "      <td>...</td>\n",
       "      <td>personal</td>\n",
       "      <td>NaN</td>\n",
       "      <td>2.0</td>\n",
       "      <td>0.0</td>\n",
       "      <td>0.0</td>\n",
       "      <td>0.0</td>\n",
       "      <td>imc</td>\n",
       "      <td>cruise</td>\n",
       "      <td>probable cause</td>\n",
       "      <td>2000-09-12</td>\n",
       "    </tr>\n",
       "    <tr>\n",
       "      <th>4</th>\n",
       "      <td>20041105x01764</td>\n",
       "      <td>accident</td>\n",
       "      <td>chi79fa064</td>\n",
       "      <td>1979-08-02</td>\n",
       "      <td>canton, oh</td>\n",
       "      <td>united states</td>\n",
       "      <td>NaN</td>\n",
       "      <td>NaN</td>\n",
       "      <td>NaN</td>\n",
       "      <td>NaN</td>\n",
       "      <td>...</td>\n",
       "      <td>personal</td>\n",
       "      <td>NaN</td>\n",
       "      <td>1.0</td>\n",
       "      <td>2.0</td>\n",
       "      <td>NaN</td>\n",
       "      <td>0.0</td>\n",
       "      <td>vmc</td>\n",
       "      <td>approach</td>\n",
       "      <td>probable cause</td>\n",
       "      <td>1980-04-16</td>\n",
       "    </tr>\n",
       "  </tbody>\n",
       "</table>\n",
       "<p>5 rows × 31 columns</p>\n",
       "</div>"
      ],
      "text/plain": [
       "         event_id investigation_type accident_number  event_date  \\\n",
       "0  20001218x45444           accident      sea87la080  1948-10-24   \n",
       "1  20001218x45447           accident      lax94la336  1962-07-19   \n",
       "2  20061025x01555           accident      nyc07la005  1974-08-30   \n",
       "3  20001218x45448           accident      lax96la321  1977-06-19   \n",
       "4  20041105x01764           accident      chi79fa064  1979-08-02   \n",
       "\n",
       "          location        country   latitude   longitude airport_code  \\\n",
       "0  moose creek, id  united states        NaN         NaN          NaN   \n",
       "1   bridgeport, ca  united states        NaN         NaN          NaN   \n",
       "2    saltville, va  united states  36.922223  -81.878056          NaN   \n",
       "3       eureka, ca  united states        NaN         NaN          NaN   \n",
       "4       canton, oh  united states        NaN         NaN          NaN   \n",
       "\n",
       "  airport_name  ... purpose_of_flight air_carrier total_fatal_injuries  \\\n",
       "0          NaN  ...          personal         NaN                  2.0   \n",
       "1          NaN  ...          personal         NaN                  4.0   \n",
       "2          NaN  ...          personal         NaN                  3.0   \n",
       "3          NaN  ...          personal         NaN                  2.0   \n",
       "4          NaN  ...          personal         NaN                  1.0   \n",
       "\n",
       "  total_serious_injuries total_minor_injuries total_uninjured  \\\n",
       "0                    0.0                  0.0             0.0   \n",
       "1                    0.0                  0.0             0.0   \n",
       "2                    NaN                  NaN             NaN   \n",
       "3                    0.0                  0.0             0.0   \n",
       "4                    2.0                  NaN             0.0   \n",
       "\n",
       "  weather_condition  broad_phase_of_flight   report_status publication_date  \n",
       "0               unk                 cruise  probable cause              NaT  \n",
       "1               unk                unknown  probable cause       1996-09-19  \n",
       "2               imc                 cruise  probable cause       2007-02-26  \n",
       "3               imc                 cruise  probable cause       2000-09-12  \n",
       "4               vmc               approach  probable cause       1980-04-16  \n",
       "\n",
       "[5 rows x 31 columns]"
      ]
     },
     "execution_count": 1540,
     "metadata": {},
     "output_type": "execute_result"
    }
   ],
   "source": [
    "#lowercase and stripe white space, this removes a lot of duplicate labels\n",
    "def standardize_string(s):\n",
    "    if pd.isna(s):\n",
    "        return s\n",
    "    if isinstance(s,str):\n",
    "        s = s.strip().lower()#.replace(' ','_')\n",
    "    return s\n",
    "\n",
    "#for some columns treating none as nan helps us do analysis\n",
    "def none_to_None(s):\n",
    "    if s == 'none':\n",
    "        return None #None is the NaN for object columns\n",
    "    return s\n",
    "\n",
    "def unknown_to_None(s):\n",
    "    if s == 'unknown':\n",
    "        return None\n",
    "    return s\n",
    "\n",
    "#for some columns unk is short for unknown but unknown will still be listed, so standardize it\n",
    "def unk_to_unknown(s):\n",
    "    if s == 'unk':\n",
    "        return 'unknown'\n",
    "    return s\n",
    "\n",
    "def replace_in_cols(cols,map):\n",
    "    aviation_data[cols] = aviation_data[cols].applymap(map)\n",
    "\n",
    "\n",
    "#display(aviation_data.head())\n",
    "#we are excluding latitude and longitude bc capital N instead of lowercase n is how it is supposed to be\n",
    "exclude_cols = ['latitude','longitude']\n",
    "#an array of True and False that will have False for the columns we put in exclude_cols\n",
    "include_mask = ~aviation_data.columns.isin(exclude_cols)\n",
    "#loc is used here to target the dataframe columns with the include mask.\n",
    "#say latitude is the 4th column, the array would have False for the 4th column and that would\n",
    "#mean pandas doesn't select the 4th column.\n",
    "#this is just easier than listing all the columns but 2\n",
    "aviation_data.loc[:,include_mask] = aviation_data.loc[:,include_mask].applymap(standardize_string)\n",
    "\n",
    "replace_in_cols(['airport_code','airport_name','registration_number'], none_to_None)\n",
    "replace_in_cols(['aircraft_category','registration_number','engine_type','far_description'], unk_to_unknown)\n",
    "replace_in_cols(['engine_type','aircraft_damage','registration_number'], unknown_to_None)\n",
    "\n",
    "#make date strings into datetimes\n",
    "aviation_data['publication_date'] = pd.to_datetime(aviation_data['publication_date'],format='%d-%m-%Y')\n",
    "\n",
    "aviation_data.head()"
   ]
  },
  {
   "cell_type": "markdown",
   "metadata": {},
   "source": [
    "## Split injury_severity"
   ]
  },
  {
   "cell_type": "code",
   "execution_count": 1541,
   "metadata": {},
   "outputs": [
    {
     "data": {
      "text/html": [
       "<div>\n",
       "<style scoped>\n",
       "    .dataframe tbody tr th:only-of-type {\n",
       "        vertical-align: middle;\n",
       "    }\n",
       "\n",
       "    .dataframe tbody tr th {\n",
       "        vertical-align: top;\n",
       "    }\n",
       "\n",
       "    .dataframe thead th {\n",
       "        text-align: right;\n",
       "    }\n",
       "</style>\n",
       "<table border=\"1\" class=\"dataframe\">\n",
       "  <thead>\n",
       "    <tr style=\"text-align: right;\">\n",
       "      <th></th>\n",
       "      <th>injury_severity_type</th>\n",
       "      <th>injury_severity_count</th>\n",
       "    </tr>\n",
       "  </thead>\n",
       "  <tbody>\n",
       "    <tr>\n",
       "      <th>0</th>\n",
       "      <td>fatal</td>\n",
       "      <td>2</td>\n",
       "    </tr>\n",
       "    <tr>\n",
       "      <th>1</th>\n",
       "      <td>fatal</td>\n",
       "      <td>4</td>\n",
       "    </tr>\n",
       "    <tr>\n",
       "      <th>2</th>\n",
       "      <td>fatal</td>\n",
       "      <td>3</td>\n",
       "    </tr>\n",
       "    <tr>\n",
       "      <th>3</th>\n",
       "      <td>fatal</td>\n",
       "      <td>2</td>\n",
       "    </tr>\n",
       "    <tr>\n",
       "      <th>4</th>\n",
       "      <td>fatal</td>\n",
       "      <td>1</td>\n",
       "    </tr>\n",
       "    <tr>\n",
       "      <th>...</th>\n",
       "      <td>...</td>\n",
       "      <td>...</td>\n",
       "    </tr>\n",
       "    <tr>\n",
       "      <th>88884</th>\n",
       "      <td>minor</td>\n",
       "      <td>&lt;NA&gt;</td>\n",
       "    </tr>\n",
       "    <tr>\n",
       "      <th>88885</th>\n",
       "      <td>None</td>\n",
       "      <td>&lt;NA&gt;</td>\n",
       "    </tr>\n",
       "    <tr>\n",
       "      <th>88886</th>\n",
       "      <td>non-fatal</td>\n",
       "      <td>&lt;NA&gt;</td>\n",
       "    </tr>\n",
       "    <tr>\n",
       "      <th>88887</th>\n",
       "      <td>None</td>\n",
       "      <td>&lt;NA&gt;</td>\n",
       "    </tr>\n",
       "    <tr>\n",
       "      <th>88888</th>\n",
       "      <td>minor</td>\n",
       "      <td>&lt;NA&gt;</td>\n",
       "    </tr>\n",
       "  </tbody>\n",
       "</table>\n",
       "<p>88889 rows × 2 columns</p>\n",
       "</div>"
      ],
      "text/plain": [
       "      injury_severity_type  injury_severity_count\n",
       "0                    fatal                      2\n",
       "1                    fatal                      4\n",
       "2                    fatal                      3\n",
       "3                    fatal                      2\n",
       "4                    fatal                      1\n",
       "...                    ...                    ...\n",
       "88884                minor                   <NA>\n",
       "88885                 None                   <NA>\n",
       "88886            non-fatal                   <NA>\n",
       "88887                 None                   <NA>\n",
       "88888                minor                   <NA>\n",
       "\n",
       "[88889 rows x 2 columns]"
      ]
     },
     "metadata": {},
     "output_type": "display_data"
    },
    {
     "data": {
      "text/plain": [
       "0           2\n",
       "1           4\n",
       "2           3\n",
       "3           2\n",
       "4           1\n",
       "         ... \n",
       "88884    <NA>\n",
       "88885    <NA>\n",
       "88886    <NA>\n",
       "88887    <NA>\n",
       "88888    <NA>\n",
       "Name: injury_severity_count, Length: 88889, dtype: Int64"
      ]
     },
     "metadata": {},
     "output_type": "display_data"
    }
   ],
   "source": [
    "#split the fatal(123) format into two diff columns\n",
    "severity = []\n",
    "number = []\n",
    "for row in aviation_data['injury_severity']:\n",
    "    if isinstance(row,str):\n",
    "        match = re.match(r\"(\\w+)\\((\\d+)\\)\", row)\n",
    "        if match:\n",
    "            severity.append(match.group(1))\n",
    "            number.append(int(match.group(2)))\n",
    "        else:\n",
    "            severity.append(row)\n",
    "            number.append(pd.NA)\n",
    "    else:\n",
    "        severity.append(None)\n",
    "        number.append(pd.NA)\n",
    "\n",
    "aviation_data['injury_severity_type'] = severity\n",
    "aviation_data['injury_severity_count'] = number\n",
    "\n",
    "#converts to int col \n",
    "aviation_data['injury_severity_count'] = aviation_data['injury_severity_count'].astype('Int64')\n",
    "\n",
    "#aviation_data.head()\n",
    "display(aviation_data[['injury_severity_type','injury_severity_count']])\n",
    "display(aviation_data['injury_severity_count'])"
   ]
  },
  {
   "cell_type": "markdown",
   "metadata": {},
   "source": [
    "## State codes"
   ]
  },
  {
   "cell_type": "code",
   "execution_count": 1542,
   "metadata": {},
   "outputs": [
    {
     "data": {
      "text/html": [
       "<div>\n",
       "<style scoped>\n",
       "    .dataframe tbody tr th:only-of-type {\n",
       "        vertical-align: middle;\n",
       "    }\n",
       "\n",
       "    .dataframe tbody tr th {\n",
       "        vertical-align: top;\n",
       "    }\n",
       "\n",
       "    .dataframe thead th {\n",
       "        text-align: right;\n",
       "    }\n",
       "</style>\n",
       "<table border=\"1\" class=\"dataframe\">\n",
       "  <thead>\n",
       "    <tr style=\"text-align: right;\">\n",
       "      <th></th>\n",
       "      <th>US_State</th>\n",
       "      <th>Abbreviation</th>\n",
       "    </tr>\n",
       "  </thead>\n",
       "  <tbody>\n",
       "    <tr>\n",
       "      <th>0</th>\n",
       "      <td>Alabama</td>\n",
       "      <td>AL</td>\n",
       "    </tr>\n",
       "    <tr>\n",
       "      <th>1</th>\n",
       "      <td>Alaska</td>\n",
       "      <td>AK</td>\n",
       "    </tr>\n",
       "    <tr>\n",
       "      <th>2</th>\n",
       "      <td>Arizona</td>\n",
       "      <td>AZ</td>\n",
       "    </tr>\n",
       "    <tr>\n",
       "      <th>3</th>\n",
       "      <td>Arkansas</td>\n",
       "      <td>AR</td>\n",
       "    </tr>\n",
       "    <tr>\n",
       "      <th>4</th>\n",
       "      <td>California</td>\n",
       "      <td>CA</td>\n",
       "    </tr>\n",
       "    <tr>\n",
       "      <th>...</th>\n",
       "      <td>...</td>\n",
       "      <td>...</td>\n",
       "    </tr>\n",
       "    <tr>\n",
       "      <th>57</th>\n",
       "      <td>Virgin Islands</td>\n",
       "      <td>VI</td>\n",
       "    </tr>\n",
       "    <tr>\n",
       "      <th>58</th>\n",
       "      <td>Washington_DC</td>\n",
       "      <td>DC</td>\n",
       "    </tr>\n",
       "    <tr>\n",
       "      <th>59</th>\n",
       "      <td>Gulf of mexico</td>\n",
       "      <td>GM</td>\n",
       "    </tr>\n",
       "    <tr>\n",
       "      <th>60</th>\n",
       "      <td>Atlantic ocean</td>\n",
       "      <td>AO</td>\n",
       "    </tr>\n",
       "    <tr>\n",
       "      <th>61</th>\n",
       "      <td>Pacific ocean</td>\n",
       "      <td>PO</td>\n",
       "    </tr>\n",
       "  </tbody>\n",
       "</table>\n",
       "<p>62 rows × 2 columns</p>\n",
       "</div>"
      ],
      "text/plain": [
       "          US_State Abbreviation\n",
       "0          Alabama           AL\n",
       "1           Alaska           AK\n",
       "2          Arizona           AZ\n",
       "3         Arkansas           AR\n",
       "4       California           CA\n",
       "..             ...          ...\n",
       "57  Virgin Islands           VI\n",
       "58   Washington_DC           DC\n",
       "59  Gulf of mexico           GM\n",
       "60  Atlantic ocean           AO\n",
       "61   Pacific ocean           PO\n",
       "\n",
       "[62 rows x 2 columns]"
      ]
     },
     "metadata": {},
     "output_type": "display_data"
    },
    {
     "data": {
      "text/plain": [
       "CA    8857\n",
       "TX    5913\n",
       "FL    5825\n",
       "AK    5672\n",
       "AZ    2834\n",
       "CO    2726\n",
       "WA    2612\n",
       "IL    2060\n",
       "MI    2030\n",
       "GA    2023\n",
       "NY    1914\n",
       "OH    1823\n",
       "PA    1790\n",
       "OR    1772\n",
       "NC    1661\n",
       "MO    1565\n",
       "WI    1560\n",
       "AR    1519\n",
       "MN    1456\n",
       "ID    1436\n",
       "NM    1358\n",
       "UT    1336\n",
       "IN    1320\n",
       "VA    1275\n",
       "OK    1240\n",
       "NV    1236\n",
       "LA    1216\n",
       "NJ    1170\n",
       "AL    1153\n",
       "TN    1108\n",
       "KS    1104\n",
       "MT    1050\n",
       "SC     974\n",
       "MA     969\n",
       "IA     819\n",
       "MD     815\n",
       "MS     813\n",
       "WY     739\n",
       "NE     725\n",
       "KY     650\n",
       "ND     561\n",
       "ME     505\n",
       "CT     502\n",
       "HI     481\n",
       "SD     446\n",
       "WV     394\n",
       "NH     368\n",
       "VT     241\n",
       "RI     158\n",
       "DE     114\n",
       "PR     114\n",
       "GM      44\n",
       "DC      42\n",
       "AO      17\n",
       "PO      14\n",
       "GU       8\n",
       "VI       6\n",
       "Name: state, dtype: int64"
      ]
     },
     "execution_count": 1542,
     "metadata": {},
     "output_type": "execute_result"
    }
   ],
   "source": [
    "state_codes = tuple(uscode_data['Abbreviation'].values)\n",
    "display(uscode_data)\n",
    "def extract_state(location):\n",
    "    if pd.notnull(location) and ', ' in location:\n",
    "        code = location.split(', ')[1].strip().upper()\n",
    "        if code in state_codes:\n",
    "            return code\n",
    "    return None\n",
    "\n",
    "#split the states into its own column but only if it's 'united states'\n",
    "#np.where(condition, value if condition is true, value if condition is false)\n",
    "aviation_data['state'] = np.where(\n",
    "    aviation_data['country'] == 'united states',\n",
    "    aviation_data['location'].apply(extract_state),\n",
    "    None\n",
    ")\n",
    "\n",
    "aviation_data['state'].value_counts()"
   ]
  },
  {
   "cell_type": "markdown",
   "metadata": {},
   "source": [
    "## Aviation code check"
   ]
  },
  {
   "cell_type": "code",
   "execution_count": 1543,
   "metadata": {},
   "outputs": [
    {
     "data": {
      "text/plain": [
       "pvt     497\n",
       "apa     160\n",
       "ord     149\n",
       "mri     137\n",
       "den     115\n",
       "       ... \n",
       "78oh      1\n",
       "0v6       1\n",
       "8c3       1\n",
       "56m       1\n",
       "eikh      1\n",
       "Name: airport_code, Length: 10345, dtype: int64"
      ]
     },
     "execution_count": 1543,
     "metadata": {},
     "output_type": "execute_result"
    }
   ],
   "source": [
    "aviation_data['airport_code'].value_counts()"
   ]
  },
  {
   "cell_type": "markdown",
   "metadata": {},
   "source": [
    "## Fix private variations in airport names"
   ]
  },
  {
   "cell_type": "code",
   "execution_count": 1544,
   "metadata": {},
   "outputs": [
    {
     "data": {
      "text/plain": [
       "private                           898\n",
       "merrill field                     109\n",
       "centennial                        102\n",
       "van nuys                           97\n",
       "north las vegas                    82\n",
       "                                 ... \n",
       "lambert-st. louis int'l             1\n",
       "williamson mingo cty                1\n",
       "sanona creek airstrip               1\n",
       "penns cave                          1\n",
       "wichita dwight d eisenhower nt      1\n",
       "Name: airport_name, Length: 21563, dtype: int64"
      ]
     },
     "execution_count": 1544,
     "metadata": {},
     "output_type": "execute_result"
    }
   ],
   "source": [
    "replacements = {\n",
    "    'private airstrip': 'private',\n",
    "    'private strip': 'private'\n",
    "}\n",
    "aviation_data['airport_name'] = aviation_data['airport_name'].replace(replacements)\n",
    "aviation_data['airport_name'].value_counts()"
   ]
  },
  {
   "cell_type": "markdown",
   "metadata": {},
   "source": [
    "## Compare nulls sum after standardization"
   ]
  },
  {
   "cell_type": "code",
   "execution_count": 1545,
   "metadata": {},
   "outputs": [
    {
     "data": {
      "text/html": [
       "<div>\n",
       "<style scoped>\n",
       "    .dataframe tbody tr th:only-of-type {\n",
       "        vertical-align: middle;\n",
       "    }\n",
       "\n",
       "    .dataframe tbody tr th {\n",
       "        vertical-align: top;\n",
       "    }\n",
       "\n",
       "    .dataframe thead th {\n",
       "        text-align: right;\n",
       "    }\n",
       "</style>\n",
       "<table border=\"1\" class=\"dataframe\">\n",
       "  <thead>\n",
       "    <tr style=\"text-align: right;\">\n",
       "      <th></th>\n",
       "      <th>Before Standardization</th>\n",
       "      <th>After Standardization</th>\n",
       "    </tr>\n",
       "  </thead>\n",
       "  <tbody>\n",
       "    <tr>\n",
       "      <th>aircraft_damage</th>\n",
       "      <td>3194.0</td>\n",
       "      <td>3313</td>\n",
       "    </tr>\n",
       "    <tr>\n",
       "      <th>airport_code</th>\n",
       "      <td>38640.0</td>\n",
       "      <td>40252</td>\n",
       "    </tr>\n",
       "    <tr>\n",
       "      <th>airport_name</th>\n",
       "      <td>36099.0</td>\n",
       "      <td>36331</td>\n",
       "    </tr>\n",
       "    <tr>\n",
       "      <th>engine_type</th>\n",
       "      <td>7077.0</td>\n",
       "      <td>9129</td>\n",
       "    </tr>\n",
       "    <tr>\n",
       "      <th>injury_severity_count</th>\n",
       "      <td>NaN</td>\n",
       "      <td>76325</td>\n",
       "    </tr>\n",
       "    <tr>\n",
       "      <th>injury_severity_type</th>\n",
       "      <td>NaN</td>\n",
       "      <td>1000</td>\n",
       "    </tr>\n",
       "    <tr>\n",
       "      <th>registration_number</th>\n",
       "      <td>1317.0</td>\n",
       "      <td>1752</td>\n",
       "    </tr>\n",
       "    <tr>\n",
       "      <th>state</th>\n",
       "      <td>NaN</td>\n",
       "      <td>6756</td>\n",
       "    </tr>\n",
       "  </tbody>\n",
       "</table>\n",
       "</div>"
      ],
      "text/plain": [
       "                       Before Standardization  After Standardization\n",
       "aircraft_damage                        3194.0                   3313\n",
       "airport_code                          38640.0                  40252\n",
       "airport_name                          36099.0                  36331\n",
       "engine_type                            7077.0                   9129\n",
       "injury_severity_count                     NaN                  76325\n",
       "injury_severity_type                      NaN                   1000\n",
       "registration_number                    1317.0                   1752\n",
       "state                                     NaN                   6756"
      ]
     },
     "execution_count": 1545,
     "metadata": {},
     "output_type": "execute_result"
    }
   ],
   "source": [
    "null_counts_after_standardization = aviation_data.isnull().sum()\n",
    "comparison = pd.DataFrame({\n",
    "    'Before Standardization': null_counts_before_standardization,\n",
    "    'After Standardization': null_counts_after_standardization\n",
    "})\n",
    "#replace_in_cols(['airport_code','airport_name','registration_number'], none_to_nan)\n",
    "#replace_in_cols(['aircraft_category','registration_number','engine_type','far_description'], unk_to_unknown)\n",
    "#replace_in_cols(['engine_type','aircraft_damage','registration_number'], unknown_to_nan)\n",
    "comparison_filtered = comparison[comparison['Before Standardization'] != comparison['After Standardization']]\n",
    "comparison_filtered"
   ]
  },
  {
   "cell_type": "markdown",
   "metadata": {},
   "source": [
    "It looks like we're getting more nulls which is what we wanted in some cases!"
   ]
  },
  {
   "cell_type": "code",
   "execution_count": 1546,
   "metadata": {},
   "outputs": [
    {
     "name": "stdout",
     "output_type": "stream",
     "text": [
      "<class 'pandas.core.frame.DataFrame'>\n",
      "RangeIndex: 88889 entries, 0 to 88888\n",
      "Data columns (total 34 columns):\n",
      " #   Column                  Non-Null Count  Dtype         \n",
      "---  ------                  --------------  -----         \n",
      " 0   event_id                88889 non-null  object        \n",
      " 1   investigation_type      88889 non-null  object        \n",
      " 2   accident_number         88889 non-null  object        \n",
      " 3   event_date              88889 non-null  object        \n",
      " 4   location                88837 non-null  object        \n",
      " 5   country                 88663 non-null  object        \n",
      " 6   latitude                34382 non-null  object        \n",
      " 7   longitude               34373 non-null  object        \n",
      " 8   airport_code            48637 non-null  object        \n",
      " 9   airport_name            52558 non-null  object        \n",
      " 10  injury_severity         87889 non-null  object        \n",
      " 11  aircraft_damage         85576 non-null  object        \n",
      " 12  aircraft_category       32287 non-null  object        \n",
      " 13  registration_number     87137 non-null  object        \n",
      " 14  make                    88826 non-null  object        \n",
      " 15  model                   88797 non-null  object        \n",
      " 16  amateur_built           88787 non-null  object        \n",
      " 17  number_of_engines       82805 non-null  float64       \n",
      " 18  engine_type             79760 non-null  object        \n",
      " 19  far_description         32023 non-null  object        \n",
      " 20  schedule                12582 non-null  object        \n",
      " 21  purpose_of_flight       82697 non-null  object        \n",
      " 22  air_carrier             16648 non-null  object        \n",
      " 23  total_fatal_injuries    77488 non-null  float64       \n",
      " 24  total_serious_injuries  76379 non-null  float64       \n",
      " 25  total_minor_injuries    76956 non-null  float64       \n",
      " 26  total_uninjured         82977 non-null  float64       \n",
      " 27  weather_condition       84397 non-null  object        \n",
      " 28  broad_phase_of_flight   61724 non-null  object        \n",
      " 29  report_status           82508 non-null  object        \n",
      " 30  publication_date        75118 non-null  datetime64[ns]\n",
      " 31  injury_severity_type    87889 non-null  object        \n",
      " 32  injury_severity_count   12564 non-null  Int64         \n",
      " 33  state                   82133 non-null  object        \n",
      "dtypes: Int64(1), datetime64[ns](1), float64(5), object(27)\n",
      "memory usage: 23.1+ MB\n"
     ]
    }
   ],
   "source": [
    "aviation_data.info()"
   ]
  },
  {
   "cell_type": "markdown",
   "metadata": {},
   "source": [
    "## Far Description\n",
    "\n",
    "The 'far_description' has a considerably smaller portion of missing data, compared to columns such as 'purpose_of_flight'. Let's investigate these unique values, to see if we can use them to fill other parts of our missing data. \n",
    "\n",
    "We'll organize the values as we go, to make them easier to group. "
   ]
  },
  {
   "cell_type": "code",
   "execution_count": 1547,
   "metadata": {},
   "outputs": [
    {
     "data": {
      "text/plain": [
       "array([nan, 'part 129: foreign', 'part 91: general aviation',\n",
       "       'part 135: air taxi & commuter', 'part 125: 20+ pax,6000+ lbs',\n",
       "       'part 121: air carrier', 'part 137: agricultural',\n",
       "       'part 133: rotorcraft ext. load', 'unknown',\n",
       "       'part 91f: special flt ops.', 'non-u.s., non-commercial',\n",
       "       'public aircraft', 'non-u.s., commercial', 'public use',\n",
       "       'armed forces', 'part 91 subpart k: fractional', '091', 'nusc',\n",
       "       '135', 'nusn', '121', '137', '129', '133', '091k', 'pubu', 'armf',\n",
       "       '103', '125', '437', '107'], dtype=object)"
      ]
     },
     "execution_count": 1547,
     "metadata": {},
     "output_type": "execute_result"
    }
   ],
   "source": [
    "aviation_data['far_description'].unique()"
   ]
  },
  {
   "cell_type": "markdown",
   "metadata": {},
   "source": [
    "**129** and **part 129: foreign**: Foreign air carriers or operators who would like to conduct passenger or cargo operations to, from, and transiting the US. A foreign air carrier is a person, not a citizen of the U.S., undertaking by any means to provide foreign air transportation. \n",
    "\n",
    "**121** and **part 121: air carrier**: Generally large, U.S.-based airlines, regional air carriers, and all cargo operarters.\n",
    "\n",
    "**non-u.s., commercial**: non-u.s., commercial\n",
    "\n",
    "**091** and **part 91: general aviation**: General aviation pilots, operating private aircraft. Non-commercial situations only.\n",
    "\n",
    "**091k** and **part 91 subpart k: fractional**: For private, not-for-hire use by individuals and companies\n",
    "\n",
    "**135** and **part 135: air taxi & commuter**: For commuter and on-demand operations (flying passengers on-demand, rather than on a scheduled-basis). Can vary from small single aircraft operators, to large operators providing a network to move cargo to larger carriers. Often offer critical services to remote areas.\n",
    "\n",
    "**125** and **part 125: 20+ pax,6000+ lbs**: Large group charter flight (non-commercial)\n",
    "\n",
    "**133** and **part 133: rotorcraft ext. load**: On demand, external load air service, where air carriers utilize helicopters\n",
    "\n",
    "**137** and **part 137: agricultural**: Dispensing any economic poison, other substance or activities dispensed for agriculture, horticulture, or forest preservation.\n",
    "\n",
    "**public aircraft**: For governmental use only. \n",
    "\n",
    "**public use**: \"Public\" aircrafts are aircrafts used only by the government, however this label could also be referring to a \"public use\" airport, which would be for commercial purposes. \n",
    "\n",
    "**armed forces**: armed forces\n",
    "\n",
    "**unknown**: unknown\n",
    "\n",
    "**part 91f: special flt ops.**: Non-commercial flights only.\n",
    "\n",
    "**non-u.s., non-commercial'**: non-u.s., non-commercial\n",
    "\n",
    "**nusc**: nusc\n",
    "\n",
    "**nusn**: nusn\n",
    "\n",
    "**pubu**: pubu\n",
    "\n",
    "**armf**: armf\n",
    "\n",
    "**103**: Ultraleight vehicles. Purely recreational flights.\n",
    "\n",
    "**437**: Experimental permit using a suborbital rocket\n",
    "\n",
    "**107**: Small unmanned aircraft systems"
   ]
  },
  {
   "cell_type": "code",
   "execution_count": 1548,
   "metadata": {},
   "outputs": [
    {
     "data": {
      "text/plain": [
       "91                               24707\n",
       "nusn                              1584\n",
       "137                               1447\n",
       "135                               1044\n",
       "nusc                              1013\n",
       "121                                844\n",
       "unknown                            393\n",
       "129                                346\n",
       "pubu                               253\n",
       "133                                139\n",
       "non-u.s., non-commercial            97\n",
       "non-u.s., commercial                93\n",
       "public use                          19\n",
       "91k                                 14\n",
       "125                                 10\n",
       "armf                                 8\n",
       "107                                  4\n",
       "public aircraft                      2\n",
       "103                                  2\n",
       "armed forces                         1\n",
       "part 91 subpart k: fractional        1\n",
       "part 91f: special flt ops.           1\n",
       "437                                  1\n",
       "Name: far_description, dtype: int64"
      ]
     },
     "metadata": {},
     "output_type": "display_data"
    },
    {
     "data": {
      "text/plain": [
       "56866"
      ]
     },
     "metadata": {},
     "output_type": "display_data"
    }
   ],
   "source": [
    "#Lets standardize FAR\n",
    "# Define the function to standardize the far_description\n",
    "def standardize_description(description):\n",
    "    if pd.isna(description):\n",
    "        return description\n",
    "    if isinstance(description,str):\n",
    "        description = description.lstrip('0').strip()\n",
    "        #description = description.replace('subpart k','k').strip()\n",
    "    if 'part' in description:\n",
    "        match = re.search(r'part (\\d+):', description)\n",
    "        if match:\n",
    "            return match.group(1).strip()\n",
    "    \n",
    "    return description\n",
    "\n",
    "# Apply the function row-wise\n",
    "aviation_data['far_description'] = aviation_data['far_description'].apply(standardize_description)\n",
    "\n",
    "display(aviation_data['far_description'].value_counts())\n",
    "display(aviation_data['far_description'].isna().sum())"
   ]
  },
  {
   "cell_type": "markdown",
   "metadata": {},
   "source": [
    "# Checking for Missing Data\n",
    "First we will run some checks on the aviation_data to see what we're dealing with for missing data"
   ]
  },
  {
   "cell_type": "code",
   "execution_count": 1549,
   "metadata": {},
   "outputs": [
    {
     "name": "stdout",
     "output_type": "stream",
     "text": [
      "<class 'pandas.core.frame.DataFrame'>\n",
      "RangeIndex: 88889 entries, 0 to 88888\n",
      "Data columns (total 34 columns):\n",
      " #   Column                  Non-Null Count  Dtype         \n",
      "---  ------                  --------------  -----         \n",
      " 0   event_id                88889 non-null  object        \n",
      " 1   investigation_type      88889 non-null  object        \n",
      " 2   accident_number         88889 non-null  object        \n",
      " 3   event_date              88889 non-null  object        \n",
      " 4   location                88837 non-null  object        \n",
      " 5   country                 88663 non-null  object        \n",
      " 6   latitude                34382 non-null  object        \n",
      " 7   longitude               34373 non-null  object        \n",
      " 8   airport_code            48637 non-null  object        \n",
      " 9   airport_name            52558 non-null  object        \n",
      " 10  injury_severity         87889 non-null  object        \n",
      " 11  aircraft_damage         85576 non-null  object        \n",
      " 12  aircraft_category       32287 non-null  object        \n",
      " 13  registration_number     87137 non-null  object        \n",
      " 14  make                    88826 non-null  object        \n",
      " 15  model                   88797 non-null  object        \n",
      " 16  amateur_built           88787 non-null  object        \n",
      " 17  number_of_engines       82805 non-null  float64       \n",
      " 18  engine_type             79760 non-null  object        \n",
      " 19  far_description         32023 non-null  object        \n",
      " 20  schedule                12582 non-null  object        \n",
      " 21  purpose_of_flight       82697 non-null  object        \n",
      " 22  air_carrier             16648 non-null  object        \n",
      " 23  total_fatal_injuries    77488 non-null  float64       \n",
      " 24  total_serious_injuries  76379 non-null  float64       \n",
      " 25  total_minor_injuries    76956 non-null  float64       \n",
      " 26  total_uninjured         82977 non-null  float64       \n",
      " 27  weather_condition       84397 non-null  object        \n",
      " 28  broad_phase_of_flight   61724 non-null  object        \n",
      " 29  report_status           82508 non-null  object        \n",
      " 30  publication_date        75118 non-null  datetime64[ns]\n",
      " 31  injury_severity_type    87889 non-null  object        \n",
      " 32  injury_severity_count   12564 non-null  Int64         \n",
      " 33  state                   82133 non-null  object        \n",
      "dtypes: Int64(1), datetime64[ns](1), float64(5), object(27)\n",
      "memory usage: 23.1+ MB\n"
     ]
    }
   ],
   "source": [
    "aviation_data.info()"
   ]
  },
  {
   "cell_type": "markdown",
   "metadata": {},
   "source": [
    "It seems we are missing a lot of data!  We will need to formulate plans on all of this.\n",
    "This next code block will let us see how much data is missing percent wise\n",
    "\n",
    "## Missing Percent"
   ]
  },
  {
   "cell_type": "code",
   "execution_count": 1550,
   "metadata": {},
   "outputs": [
    {
     "data": {
      "text/plain": [
       "event_id                   0.000000\n",
       "investigation_type         0.000000\n",
       "accident_number            0.000000\n",
       "event_date                 0.000000\n",
       "location                   0.058500\n",
       "country                    0.254250\n",
       "latitude                  61.320298\n",
       "longitude                 61.330423\n",
       "airport_code              45.283443\n",
       "airport_name              40.872324\n",
       "injury_severity            1.124999\n",
       "aircraft_damage            3.727120\n",
       "aircraft_category         63.677170\n",
       "registration_number        1.970998\n",
       "make                       0.070875\n",
       "model                      0.103500\n",
       "amateur_built              0.114750\n",
       "number_of_engines          6.844491\n",
       "engine_type               10.270112\n",
       "far_description           63.974170\n",
       "schedule                  85.845268\n",
       "purpose_of_flight          6.965991\n",
       "air_carrier               81.271023\n",
       "total_fatal_injuries      12.826109\n",
       "total_serious_injuries    14.073732\n",
       "total_minor_injuries      13.424608\n",
       "total_uninjured            6.650992\n",
       "weather_condition          5.053494\n",
       "broad_phase_of_flight     30.560587\n",
       "report_status              7.178616\n",
       "publication_date          15.492356\n",
       "injury_severity_type       1.124999\n",
       "injury_severity_count     85.865518\n",
       "state                      7.600490\n",
       "dtype: float64"
      ]
     },
     "execution_count": 1550,
     "metadata": {},
     "output_type": "execute_result"
    }
   ],
   "source": [
    "# Calculate the percentage of missing values for each column\n",
    "missing_perc = aviation_data.isna().mean() * 100\n",
    "missing_perc"
   ]
  },
  {
   "cell_type": "markdown",
   "metadata": {},
   "source": [
    "Convention suggests dropping columns where over 50% of the data is missing, unless it is very important to your analysis.\n",
    "These are candidates to consider dropping:"
   ]
  },
  {
   "cell_type": "code",
   "execution_count": 1551,
   "metadata": {},
   "outputs": [
    {
     "data": {
      "text/plain": [
       "latitude                 61.320298\n",
       "longitude                61.330423\n",
       "aircraft_category        63.677170\n",
       "far_description          63.974170\n",
       "schedule                 85.845268\n",
       "air_carrier              81.271023\n",
       "injury_severity_count    85.865518\n",
       "dtype: float64"
      ]
     },
     "execution_count": 1551,
     "metadata": {},
     "output_type": "execute_result"
    }
   ],
   "source": [
    "missing_perc[missing_perc > 50]"
   ]
  },
  {
   "cell_type": "markdown",
   "metadata": {},
   "source": [
    "## location\n",
    "\n",
    "Lets see what Location has, maybe it will help us decide on what to do with Lat and Long"
   ]
  },
  {
   "cell_type": "code",
   "execution_count": 1552,
   "metadata": {},
   "outputs": [
    {
     "data": {
      "text/plain": [
       "anchorage, ak       548\n",
       "miami, fl           275\n",
       "houston, tx         271\n",
       "albuquerque, nm     265\n",
       "chicago, il         256\n",
       "                   ... \n",
       "medina, mn            1\n",
       "circle pines, mn      1\n",
       "pine island, fl       1\n",
       "churchtown, oh        1\n",
       "brasnorte,            1\n",
       "Name: location, Length: 21977, dtype: int64"
      ]
     },
     "execution_count": 1552,
     "metadata": {},
     "output_type": "execute_result"
    }
   ],
   "source": [
    "aviation_data['location'].value_counts()"
   ]
  },
  {
   "cell_type": "markdown",
   "metadata": {},
   "source": [
    "We have options now, we can drop Lat and Long or we can use some sort of API to get the Lat and Long filled based on the Locatoin when it is missing!  We don't have to decide now, lets let further exploration guide our choices."
   ]
  },
  {
   "cell_type": "markdown",
   "metadata": {},
   "source": [
    "# Exploring More Columns\n",
    "\n",
    "## investigation_type"
   ]
  },
  {
   "cell_type": "code",
   "execution_count": 1553,
   "metadata": {},
   "outputs": [
    {
     "data": {
      "text/plain": [
       "accident    85015\n",
       "incident     3874\n",
       "Name: investigation_type, dtype: int64"
      ]
     },
     "execution_count": 1553,
     "metadata": {},
     "output_type": "execute_result"
    }
   ],
   "source": [
    "aviation_data['investigation_type'].value_counts()"
   ]
  },
  {
   "cell_type": "markdown",
   "metadata": {},
   "source": [
    "Accident - caused personal injury, damage or damage\n",
    "Incident - could have potentially caused harm but didn't necessarily \n",
    "\n",
    "Weighting these differently is a good idea.\n",
    "\n",
    "## country"
   ]
  },
  {
   "cell_type": "code",
   "execution_count": 1554,
   "metadata": {},
   "outputs": [
    {
     "data": {
      "text/plain": [
       "united states     82248\n",
       "brazil              374\n",
       "canada              359\n",
       "mexico              358\n",
       "united kingdom      344\n",
       "                  ...  \n",
       "chad                  1\n",
       "ivory coast           1\n",
       "cambodia              1\n",
       "yemen                 1\n",
       "benin                 1\n",
       "Name: country, Length: 215, dtype: int64"
      ]
     },
     "execution_count": 1554,
     "metadata": {},
     "output_type": "execute_result"
    }
   ],
   "source": [
    "aviation_data['country'].value_counts()"
   ]
  },
  {
   "cell_type": "markdown",
   "metadata": {},
   "source": [
    "There is a strong bias to the United States so our data is only going to be the most reliable in the US due to uncontrolled factors like regulation differences between countries.\n",
    "\n",
    "## airport_code and airport_name"
   ]
  },
  {
   "cell_type": "code",
   "execution_count": 1555,
   "metadata": {},
   "outputs": [
    {
     "data": {
      "text/plain": [
       "pvt     497\n",
       "apa     160\n",
       "ord     149\n",
       "mri     137\n",
       "den     115\n",
       "       ... \n",
       "78oh      1\n",
       "0v6       1\n",
       "8c3       1\n",
       "56m       1\n",
       "eikh      1\n",
       "Name: airport_code, Length: 10345, dtype: int64"
      ]
     },
     "execution_count": 1555,
     "metadata": {},
     "output_type": "execute_result"
    }
   ],
   "source": [
    "aviation_data['airport_code'].value_counts()"
   ]
  },
  {
   "cell_type": "code",
   "execution_count": 1556,
   "metadata": {},
   "outputs": [
    {
     "data": {
      "text/plain": [
       "private                           898\n",
       "merrill field                     109\n",
       "centennial                        102\n",
       "van nuys                           97\n",
       "north las vegas                    82\n",
       "                                 ... \n",
       "lambert-st. louis int'l             1\n",
       "williamson mingo cty                1\n",
       "sanona creek airstrip               1\n",
       "penns cave                          1\n",
       "wichita dwight d eisenhower nt      1\n",
       "Name: airport_name, Length: 21563, dtype: int64"
      ]
     },
     "execution_count": 1556,
     "metadata": {},
     "output_type": "execute_result"
    }
   ],
   "source": [
    "aviation_data['airport_name'].value_counts()"
   ]
  },
  {
   "cell_type": "markdown",
   "metadata": {},
   "source": [
    "We will have to clean the names quite a bit especially around private airports.\n",
    "The codes have a lot of missing data could that correlate with private airports not having codes?\n"
   ]
  },
  {
   "cell_type": "code",
   "execution_count": 1557,
   "metadata": {},
   "outputs": [
    {
     "data": {
      "text/html": [
       "<div>\n",
       "<style scoped>\n",
       "    .dataframe tbody tr th:only-of-type {\n",
       "        vertical-align: middle;\n",
       "    }\n",
       "\n",
       "    .dataframe tbody tr th {\n",
       "        vertical-align: top;\n",
       "    }\n",
       "\n",
       "    .dataframe thead th {\n",
       "        text-align: right;\n",
       "    }\n",
       "</style>\n",
       "<table border=\"1\" class=\"dataframe\">\n",
       "  <thead>\n",
       "    <tr style=\"text-align: right;\">\n",
       "      <th></th>\n",
       "      <th>airport_name</th>\n",
       "      <th>airport_code</th>\n",
       "    </tr>\n",
       "  </thead>\n",
       "  <tbody>\n",
       "    <tr>\n",
       "      <th>64</th>\n",
       "      <td>private</td>\n",
       "      <td>NaN</td>\n",
       "    </tr>\n",
       "    <tr>\n",
       "      <th>182</th>\n",
       "      <td>private</td>\n",
       "      <td>NaN</td>\n",
       "    </tr>\n",
       "    <tr>\n",
       "      <th>225</th>\n",
       "      <td>private</td>\n",
       "      <td>NaN</td>\n",
       "    </tr>\n",
       "    <tr>\n",
       "      <th>270</th>\n",
       "      <td>private</td>\n",
       "      <td>NaN</td>\n",
       "    </tr>\n",
       "    <tr>\n",
       "      <th>730</th>\n",
       "      <td>private</td>\n",
       "      <td>NaN</td>\n",
       "    </tr>\n",
       "    <tr>\n",
       "      <th>...</th>\n",
       "      <td>...</td>\n",
       "      <td>...</td>\n",
       "    </tr>\n",
       "    <tr>\n",
       "      <th>87442</th>\n",
       "      <td>private</td>\n",
       "      <td>None</td>\n",
       "    </tr>\n",
       "    <tr>\n",
       "      <th>87470</th>\n",
       "      <td>private</td>\n",
       "      <td>NaN</td>\n",
       "    </tr>\n",
       "    <tr>\n",
       "      <th>87887</th>\n",
       "      <td>private</td>\n",
       "      <td>NaN</td>\n",
       "    </tr>\n",
       "    <tr>\n",
       "      <th>88425</th>\n",
       "      <td>private</td>\n",
       "      <td>NaN</td>\n",
       "    </tr>\n",
       "    <tr>\n",
       "      <th>88452</th>\n",
       "      <td>private</td>\n",
       "      <td>None</td>\n",
       "    </tr>\n",
       "  </tbody>\n",
       "</table>\n",
       "<p>683 rows × 2 columns</p>\n",
       "</div>"
      ],
      "text/plain": [
       "      airport_name airport_code\n",
       "64         private          NaN\n",
       "182        private          NaN\n",
       "225        private          NaN\n",
       "270        private          NaN\n",
       "730        private          NaN\n",
       "...            ...          ...\n",
       "87442      private         None\n",
       "87470      private          NaN\n",
       "87887      private          NaN\n",
       "88425      private          NaN\n",
       "88452      private         None\n",
       "\n",
       "[683 rows x 2 columns]"
      ]
     },
     "execution_count": 1557,
     "metadata": {},
     "output_type": "execute_result"
    }
   ],
   "source": [
    "aviation_data[(aviation_data['airport_name']=='private') & (aviation_data['airport_code'].isna())][['airport_name','airport_code']]"
   ]
  },
  {
   "cell_type": "code",
   "execution_count": 1558,
   "metadata": {},
   "outputs": [
    {
     "data": {
      "text/plain": [
       "airport_code\n",
       "pvt             182\n",
       "priv              6\n",
       "xxx               4\n",
       "unk               2\n",
       "rla               2\n",
       "0                 1\n",
       "x                 1\n",
       "unkn              1\n",
       "rrdi              1\n",
       "nowr              1\n",
       "n\\a               1\n",
       "my99              1\n",
       "-                 1\n",
       "ipy               1\n",
       "999               1\n",
       "4nc5              1\n",
       "2az1              1\n",
       "172               1\n",
       "12                1\n",
       "0co6              1\n",
       "0c09              1\n",
       "04il              1\n",
       "00al              1\n",
       "mm20              1\n",
       "dtype: int64"
      ]
     },
     "execution_count": 1558,
     "metadata": {},
     "output_type": "execute_result"
    }
   ],
   "source": [
    "aviation_data[(aviation_data['airport_name']=='private') & (aviation_data['airport_code'].notna())][['airport_code']].value_counts()"
   ]
  },
  {
   "cell_type": "code",
   "execution_count": 1559,
   "metadata": {},
   "outputs": [
    {
     "data": {
      "text/plain": [
       "898"
      ]
     },
     "execution_count": 1559,
     "metadata": {},
     "output_type": "execute_result"
    }
   ],
   "source": [
    "aviation_data[aviation_data['airport_name']=='private']['airport_name'].count()"
   ]
  },
  {
   "cell_type": "code",
   "execution_count": 1560,
   "metadata": {},
   "outputs": [
    {
     "data": {
      "text/plain": [
       "non-fatal     67357\n",
       "fatal(1)       6167\n",
       "fatal          5262\n",
       "fatal(2)       3711\n",
       "incident       2219\n",
       "              ...  \n",
       "fatal(270)        1\n",
       "fatal(60)         1\n",
       "fatal(43)         1\n",
       "fatal(143)        1\n",
       "fatal(230)        1\n",
       "Name: injury_severity, Length: 109, dtype: int64"
      ]
     },
     "execution_count": 1560,
     "metadata": {},
     "output_type": "execute_result"
    }
   ],
   "source": [
    "aviation_data['injury_severity'].value_counts()"
   ]
  },
  {
   "cell_type": "markdown",
   "metadata": {},
   "source": [
    "We will need to seperate fatal from the number to let it make more sense for our charts and analysis.\n",
    "\n",
    "## aircraft_damage"
   ]
  },
  {
   "cell_type": "code",
   "execution_count": 1561,
   "metadata": {},
   "outputs": [
    {
     "data": {
      "text/plain": [
       "substantial    64148\n",
       "destroyed      18623\n",
       "minor           2805\n",
       "Name: aircraft_damage, dtype: int64"
      ]
     },
     "execution_count": 1561,
     "metadata": {},
     "output_type": "execute_result"
    }
   ],
   "source": [
    "aviation_data['aircraft_damage'].value_counts()"
   ]
  },
  {
   "cell_type": "markdown",
   "metadata": {},
   "source": [
    "Finally a field that has little issues, just a few missing values.\n",
    "\n",
    "## Aircraft Specs\n",
    "Lets examine the group of fields that might let us identify features of the airplanes, some of the most important data\n",
    "\n",
    "### aircraft_category"
   ]
  },
  {
   "cell_type": "code",
   "execution_count": 1562,
   "metadata": {},
   "outputs": [
    {
     "data": {
      "text/plain": [
       "airplane             27617\n",
       "helicopter            3440\n",
       "glider                 508\n",
       "balloon                231\n",
       "gyrocraft              173\n",
       "weight-shift           161\n",
       "powered parachute       91\n",
       "ultralight              30\n",
       "unknown                 16\n",
       "wsft                     9\n",
       "powered-lift             5\n",
       "blimp                    4\n",
       "rocket                   1\n",
       "ultr                     1\n",
       "Name: aircraft_category, dtype: int64"
      ]
     },
     "execution_count": 1562,
     "metadata": {},
     "output_type": "execute_result"
    }
   ],
   "source": [
    "aviation_data['aircraft_category'].value_counts()"
   ]
  },
  {
   "cell_type": "markdown",
   "metadata": {},
   "source": [
    "We can get rid of all that aren't airplane, probably\n",
    "\n",
    "### registration_number"
   ]
  },
  {
   "cell_type": "code",
   "execution_count": 1563,
   "metadata": {},
   "outputs": [
    {
     "data": {
      "text/plain": [
       "unreg     131\n",
       "usaf        9\n",
       "n20752      8\n",
       "n53893      6\n",
       "n11vh       6\n",
       "         ... \n",
       "n62951      1\n",
       "n1013e      1\n",
       "n8266r      1\n",
       "n65737      1\n",
       "n9026p      1\n",
       "Name: registration_number, Length: 79091, dtype: int64"
      ]
     },
     "execution_count": 1563,
     "metadata": {},
     "output_type": "execute_result"
    }
   ],
   "source": [
    "aviation_data['registration_number'].value_counts()"
   ]
  },
  {
   "cell_type": "markdown",
   "metadata": {},
   "source": [
    "Lots of NONE might not be as useful a field.  However if some planes were just train wrecks and had lots of issues then they could be \n",
    "something worth keeping in mind when interpretting the data\n",
    "### make"
   ]
  },
  {
   "cell_type": "code",
   "execution_count": 1564,
   "metadata": {},
   "outputs": [
    {
     "data": {
      "text/plain": [
       "cessna           27149\n",
       "piper            14870\n",
       "beech             5372\n",
       "boeing            2745\n",
       "bell              2722\n",
       "                 ...  \n",
       "cohen                1\n",
       "kitchens             1\n",
       "lutes                1\n",
       "izatt                1\n",
       "royse ralph l        1\n",
       "Name: make, Length: 7587, dtype: int64"
      ]
     },
     "execution_count": 1564,
     "metadata": {},
     "output_type": "execute_result"
    }
   ],
   "source": [
    "aviation_data['make'].value_counts()"
   ]
  },
  {
   "cell_type": "markdown",
   "metadata": {},
   "source": [
    "We will need to clean this data for sure the Cessna for example is listed twice with diff capitilization\n",
    "### model"
   ]
  },
  {
   "cell_type": "code",
   "execution_count": 1565,
   "metadata": {},
   "outputs": [
    {
     "data": {
      "text/plain": [
       "152                 2367\n",
       "172                 1756\n",
       "172n                1164\n",
       "pa-28-140            932\n",
       "150                  829\n",
       "                    ... \n",
       "e75nl                  1\n",
       "747-273c               1\n",
       "watcha-mccall-it       1\n",
       "md-520n                1\n",
       "m-8 eagle              1\n",
       "Name: model, Length: 11646, dtype: int64"
      ]
     },
     "execution_count": 1565,
     "metadata": {},
     "output_type": "execute_result"
    }
   ],
   "source": [
    "aviation_data['model'].value_counts()"
   ]
  },
  {
   "cell_type": "markdown",
   "metadata": {},
   "source": [
    "Make and Model together can form unique strings to identify types of craft so this is nice.  (It is possible for a model to have the same name and diff makes, even if rare).  This pair will be used in a lot of finding the correlations in the data.\n",
    "## amateur_built"
   ]
  },
  {
   "cell_type": "code",
   "execution_count": 1566,
   "metadata": {},
   "outputs": [
    {
     "data": {
      "text/plain": [
       "no     80312\n",
       "yes     8475\n",
       "Name: amateur_built, dtype: int64"
      ]
     },
     "execution_count": 1566,
     "metadata": {},
     "output_type": "execute_result"
    }
   ],
   "source": [
    "aviation_data['amateur_built'].value_counts()"
   ]
  },
  {
   "cell_type": "markdown",
   "metadata": {},
   "source": [
    "Since we are a business we might just remove rows about amateur built aircraft.  However maybe some of the non business made ones have properties we'd be interested in?"
   ]
  },
  {
   "cell_type": "code",
   "execution_count": 1567,
   "metadata": {},
   "outputs": [
    {
     "data": {
      "text/plain": [
       "1.0    69582\n",
       "2.0    11079\n",
       "0.0     1226\n",
       "3.0      483\n",
       "4.0      431\n",
       "8.0        3\n",
       "6.0        1\n",
       "Name: number_of_engines, dtype: int64"
      ]
     },
     "execution_count": 1567,
     "metadata": {},
     "output_type": "execute_result"
    }
   ],
   "source": [
    "aviation_data['number_of_engines'].value_counts()"
   ]
  },
  {
   "cell_type": "markdown",
   "metadata": {},
   "source": [
    "I'm wondering what has zero engines, gliders perhaps?  Lets find out below"
   ]
  },
  {
   "cell_type": "code",
   "execution_count": 1568,
   "metadata": {},
   "outputs": [
    {
     "data": {
      "text/plain": [
       "engine_type  \n",
       "none             10\n",
       "reciprocating     2\n",
       "dtype: int64"
      ]
     },
     "execution_count": 1568,
     "metadata": {},
     "output_type": "execute_result"
    }
   ],
   "source": [
    "aviation_data[aviation_data['number_of_engines']==0][['engine_type']].value_counts()"
   ]
  },
  {
   "cell_type": "markdown",
   "metadata": {},
   "source": [
    "It seems it's mostly missing data.  Also our missing data is going to need standardized to one value."
   ]
  },
  {
   "cell_type": "code",
   "execution_count": 1569,
   "metadata": {},
   "outputs": [
    {
     "data": {
      "text/plain": [
       "reciprocating      69530\n",
       "turbo shaft         3609\n",
       "turbo prop          3391\n",
       "turbo fan           2481\n",
       "turbo jet            703\n",
       "none                  21\n",
       "geared turbofan       12\n",
       "electric              10\n",
       "lr                     2\n",
       "hybrid rocket          1\n",
       "Name: engine_type, dtype: int64"
      ]
     },
     "execution_count": 1569,
     "metadata": {},
     "output_type": "execute_result"
    }
   ],
   "source": [
    "aviation_data['engine_type'].value_counts()"
   ]
  },
  {
   "cell_type": "markdown",
   "metadata": {},
   "source": [
    "## far_description\n",
    "FAR stands for Federal Aviation Regulations. These regulations are a comprehensive set of rules and guidelines established by the Federal Aviation Administration (FAA) to ensure the safety and efficiency of civil aviation within the United States.\n",
    "\n",
    "Some examples:\n",
    "- Part 23: Airworthiness Standards for Normal, Utility, Acrobatic, and Commuter Category Airplanes\n",
    "- Part 61: Certification: Pilots, Flight Instructors, and Ground Instructors\n",
    "- Part 91: General Operating and Flight Rules\n",
    "- Part 121: Operating Requirements: Domestic, Flag, and Supplemental Operations"
   ]
  },
  {
   "cell_type": "code",
   "execution_count": 1570,
   "metadata": {},
   "outputs": [
    {
     "data": {
      "text/plain": [
       "91                               24707\n",
       "nusn                              1584\n",
       "137                               1447\n",
       "135                               1044\n",
       "nusc                              1013\n",
       "121                                844\n",
       "unknown                            393\n",
       "129                                346\n",
       "pubu                               253\n",
       "133                                139\n",
       "non-u.s., non-commercial            97\n",
       "non-u.s., commercial                93\n",
       "public use                          19\n",
       "91k                                 14\n",
       "125                                 10\n",
       "armf                                 8\n",
       "107                                  4\n",
       "public aircraft                      2\n",
       "103                                  2\n",
       "armed forces                         1\n",
       "part 91 subpart k: fractional        1\n",
       "part 91f: special flt ops.           1\n",
       "437                                  1\n",
       "Name: far_description, dtype: int64"
      ]
     },
     "execution_count": 1570,
     "metadata": {},
     "output_type": "execute_result"
    }
   ],
   "source": [
    "aviation_data['far_description'].value_counts()"
   ]
  },
  {
   "cell_type": "markdown",
   "metadata": {},
   "source": [
    "The Data for this will need standardized as seen by the Part 91 and etc.  \n",
    "on part 91 and others\n",
    "https://pilotinstitute.com/part-91-vs-121-vs-135/\n",
    "\n",
    "NUSN: Non-U.S. National (incident or accident)\n",
    "\n",
    "\"NUSN\" is a code used to identify incidents or accidents involving aircraft that are not registered in the United States. This categorization helps in distinguishing between domestic and international incidents for regulatory and statistical purposes.\n",
    "NUSC: Non-U.S. Commercial (incident or accident)\n",
    "\n",
    "\"NUSC\" refers to incidents or accidents involving non-U.S. commercial aircraft. This code is specifically used for commercial operations, such as airlines and charter services, that are not registered in the United States.\n",
    "\n",
    "... Understanding all the codes is going to be important if we use this field\n",
    "\n",
    "## schedule"
   ]
  },
  {
   "cell_type": "code",
   "execution_count": 1571,
   "metadata": {},
   "outputs": [
    {
     "data": {
      "text/plain": [
       "nsch    4474\n",
       "unk     4099\n",
       "schd    4009\n",
       "Name: schedule, dtype: int64"
      ]
     },
     "execution_count": 1571,
     "metadata": {},
     "output_type": "execute_result"
    }
   ],
   "source": [
    "aviation_data['schedule'].value_counts()"
   ]
  },
  {
   "cell_type": "markdown",
   "metadata": {},
   "source": [
    "NSCH (Non-Scheduled): Refers to flights that do not operate on a regular schedule. These can include charter flights, air taxi operations, private flights, and other ad-hoc operations.\n",
    "\n",
    "UNK (Unknown): Indicates that the schedule type of the flight operation is unknown. This can occur when the information is not available or not recorded in the safety database.\n",
    "\n",
    "SCHD (Scheduled): Refers to flights that operate on a regular, published schedule. These are typically commercial airline flights that follow a fixed timetable.\n",
    "\n",
    "## purpose_of_flight"
   ]
  },
  {
   "cell_type": "code",
   "execution_count": 1572,
   "metadata": {},
   "outputs": [
    {
     "data": {
      "text/plain": [
       "personal                     49448\n",
       "instructional                10601\n",
       "unknown                       6802\n",
       "aerial application            4712\n",
       "business                      4018\n",
       "positioning                   1646\n",
       "other work use                1264\n",
       "ferry                          812\n",
       "aerial observation             794\n",
       "public aircraft                720\n",
       "executive/corporate            553\n",
       "flight test                    405\n",
       "skydiving                      182\n",
       "external load                  123\n",
       "public aircraft - federal      105\n",
       "banner tow                     101\n",
       "air race show                   99\n",
       "public aircraft - local         74\n",
       "public aircraft - state         64\n",
       "air race/show                   59\n",
       "glider tow                      53\n",
       "firefighting                    40\n",
       "air drop                        11\n",
       "asho                             6\n",
       "pubs                             4\n",
       "publ                             1\n",
       "Name: purpose_of_flight, dtype: int64"
      ]
     },
     "execution_count": 1572,
     "metadata": {},
     "output_type": "execute_result"
    }
   ],
   "source": [
    "aviation_data['purpose_of_flight'].value_counts()"
   ]
  },
  {
   "cell_type": "markdown",
   "metadata": {},
   "source": [
    "This is very informative as a field and it seems to have minimal issues with missing data.  Here is the Skydiving Joseph mentioned.\n",
    "\n",
    "## air_carrier"
   ]
  },
  {
   "cell_type": "code",
   "execution_count": 1573,
   "metadata": {},
   "outputs": [
    {
     "data": {
      "text/plain": [
       "pilot                         258\n",
       "american airlines              90\n",
       "united airlines                89\n",
       "delta air lines                53\n",
       "delta air lines inc            44\n",
       "                             ... \n",
       "frank w. scooley                1\n",
       "richard l. mcglashan            1\n",
       "inflight pilot traning llc      1\n",
       "mills & daughters inc           1\n",
       "mc cessna 210n llc              1\n",
       "Name: air_carrier, Length: 13208, dtype: int64"
      ]
     },
     "execution_count": 1573,
     "metadata": {},
     "output_type": "execute_result"
    }
   ],
   "source": [
    "aviation_data['air_carrier'].value_counts()"
   ]
  },
  {
   "cell_type": "markdown",
   "metadata": {},
   "source": [
    "It has a lot of missing rows but it could have a big impact on safety.\n",
    "\n",
    "## total_fatal_injuries"
   ]
  },
  {
   "cell_type": "code",
   "execution_count": 1574,
   "metadata": {},
   "outputs": [
    {
     "data": {
      "text/plain": [
       "0.0      59675\n",
       "1.0       8883\n",
       "2.0       5173\n",
       "3.0       1589\n",
       "4.0       1103\n",
       "         ...  \n",
       "156.0        1\n",
       "68.0         1\n",
       "31.0         1\n",
       "115.0        1\n",
       "176.0        1\n",
       "Name: total_fatal_injuries, Length: 125, dtype: int64"
      ]
     },
     "execution_count": 1574,
     "metadata": {},
     "output_type": "execute_result"
    }
   ],
   "source": [
    "aviation_data['total_fatal_injuries'].value_counts()"
   ]
  },
  {
   "cell_type": "markdown",
   "metadata": {},
   "source": [
    "it is in floats for some reason so we might make sure there's no \"partial fatal injuries\"\n",
    "\n",
    "## total_serious_injuries"
   ]
  },
  {
   "cell_type": "code",
   "execution_count": 1575,
   "metadata": {},
   "outputs": [
    {
     "data": {
      "text/plain": [
       "0.0      63289\n",
       "1.0       9125\n",
       "2.0       2815\n",
       "3.0        629\n",
       "4.0        258\n",
       "5.0         78\n",
       "6.0         41\n",
       "7.0         27\n",
       "9.0         16\n",
       "10.0        13\n",
       "8.0         13\n",
       "13.0         9\n",
       "11.0         6\n",
       "26.0         5\n",
       "14.0         5\n",
       "12.0         5\n",
       "20.0         3\n",
       "25.0         3\n",
       "28.0         3\n",
       "21.0         2\n",
       "59.0         2\n",
       "50.0         2\n",
       "17.0         2\n",
       "47.0         2\n",
       "137.0        1\n",
       "19.0         1\n",
       "161.0        1\n",
       "27.0         1\n",
       "35.0         1\n",
       "67.0         1\n",
       "33.0         1\n",
       "88.0         1\n",
       "125.0        1\n",
       "53.0         1\n",
       "34.0         1\n",
       "41.0         1\n",
       "18.0         1\n",
       "63.0         1\n",
       "55.0         1\n",
       "23.0         1\n",
       "43.0         1\n",
       "39.0         1\n",
       "45.0         1\n",
       "44.0         1\n",
       "16.0         1\n",
       "60.0         1\n",
       "106.0        1\n",
       "81.0         1\n",
       "15.0         1\n",
       "22.0         1\n",
       "Name: total_serious_injuries, dtype: int64"
      ]
     },
     "execution_count": 1575,
     "metadata": {},
     "output_type": "execute_result"
    }
   ],
   "source": [
    "aviation_data['total_serious_injuries'].value_counts()"
   ]
  },
  {
   "cell_type": "markdown",
   "metadata": {},
   "source": [
    "It is in floats again\n",
    "## total_minor_injuries"
   ]
  },
  {
   "cell_type": "code",
   "execution_count": 1576,
   "metadata": {},
   "outputs": [
    {
     "data": {
      "text/plain": [
       "0.0      61454\n",
       "1.0      10320\n",
       "2.0       3576\n",
       "3.0        784\n",
       "4.0        372\n",
       "5.0        129\n",
       "6.0         67\n",
       "7.0         59\n",
       "9.0         22\n",
       "8.0         20\n",
       "13.0        14\n",
       "10.0        11\n",
       "12.0        11\n",
       "14.0        10\n",
       "11.0         9\n",
       "17.0         8\n",
       "19.0         6\n",
       "18.0         6\n",
       "24.0         5\n",
       "22.0         5\n",
       "25.0         4\n",
       "16.0         4\n",
       "15.0         4\n",
       "33.0         4\n",
       "20.0         3\n",
       "21.0         3\n",
       "26.0         3\n",
       "23.0         3\n",
       "32.0         3\n",
       "27.0         3\n",
       "50.0         2\n",
       "30.0         2\n",
       "36.0         2\n",
       "31.0         2\n",
       "28.0         2\n",
       "42.0         2\n",
       "38.0         2\n",
       "57.0         1\n",
       "65.0         1\n",
       "84.0         1\n",
       "43.0         1\n",
       "35.0         1\n",
       "380.0        1\n",
       "47.0         1\n",
       "68.0         1\n",
       "200.0        1\n",
       "71.0         1\n",
       "58.0         1\n",
       "171.0        1\n",
       "39.0         1\n",
       "96.0         1\n",
       "29.0         1\n",
       "69.0         1\n",
       "62.0         1\n",
       "45.0         1\n",
       "125.0        1\n",
       "40.0         1\n",
       "Name: total_minor_injuries, dtype: int64"
      ]
     },
     "execution_count": 1576,
     "metadata": {},
     "output_type": "execute_result"
    }
   ],
   "source": [
    "aviation_data['total_minor_injuries'].value_counts()"
   ]
  },
  {
   "cell_type": "markdown",
   "metadata": {},
   "source": [
    "It is in floats again\n",
    "## total_uninjured"
   ]
  },
  {
   "cell_type": "code",
   "execution_count": 1577,
   "metadata": {},
   "outputs": [
    {
     "data": {
      "text/plain": [
       "0.0      29879\n",
       "1.0      25101\n",
       "2.0      15988\n",
       "3.0       4313\n",
       "4.0       2662\n",
       "         ...  \n",
       "558.0        1\n",
       "412.0        1\n",
       "338.0        1\n",
       "401.0        1\n",
       "455.0        1\n",
       "Name: total_uninjured, Length: 379, dtype: int64"
      ]
     },
     "execution_count": 1577,
     "metadata": {},
     "output_type": "execute_result"
    }
   ],
   "source": [
    "aviation_data['total_uninjured'].value_counts()"
   ]
  },
  {
   "cell_type": "markdown",
   "metadata": {},
   "source": [
    "also in floats\n",
    "## weather_condition"
   ]
  },
  {
   "cell_type": "code",
   "execution_count": 1578,
   "metadata": {},
   "outputs": [
    {
     "data": {
      "text/plain": [
       "vmc    77303\n",
       "imc     5976\n",
       "unk     1118\n",
       "Name: weather_condition, dtype: int64"
      ]
     },
     "execution_count": 1578,
     "metadata": {},
     "output_type": "execute_result"
    }
   ],
   "source": [
    "aviation_data['weather_condition'].value_counts()"
   ]
  },
  {
   "cell_type": "markdown",
   "metadata": {},
   "source": [
    "UNK and Unk are not standardized\n",
    "\n",
    "Conditions are codes:\n",
    "\n",
    "**VMC (Visual Meteorological Conditions):**\n",
    "\n",
    "VMC: Indicates weather conditions that allow for visual flight rules (VFR) operations. Pilots can navigate and control the aircraft using visual references outside the cockpit.\n",
    "\n",
    "**IMC (Instrument Meteorological Conditions):**\n",
    "\n",
    "IMC: Refers to weather conditions that require instrument flight rules (IFR) operations. Visibility and cloud cover are such that pilots must rely on cockpit instruments for navigation and control.\n",
    "\n",
    "**UNK (Unknown):**\n",
    "\n",
    "UNK: Indicates that the meteorological conditions at the time of the incident or data point are unknown or not recorded.\n",
    "\n",
    "\n",
    "## broad_phase_of_flight"
   ]
  },
  {
   "cell_type": "code",
   "execution_count": 1579,
   "metadata": {},
   "outputs": [
    {
     "data": {
      "text/plain": [
       "landing        15428\n",
       "takeoff        12493\n",
       "cruise         10269\n",
       "maneuvering     8144\n",
       "approach        6546\n",
       "climb           2034\n",
       "taxi            1958\n",
       "descent         1887\n",
       "go-around       1353\n",
       "standing         945\n",
       "unknown          548\n",
       "other            119\n",
       "Name: broad_phase_of_flight, dtype: int64"
      ]
     },
     "execution_count": 1579,
     "metadata": {},
     "output_type": "execute_result"
    }
   ],
   "source": [
    "aviation_data['broad_phase_of_flight'].value_counts()"
   ]
  },
  {
   "cell_type": "markdown",
   "metadata": {},
   "source": [
    "Landing is the most prone to incident or accident it seems like, especially since it is also relatively short in terms of phases.\n",
    "This data can help us find planes weak points and strong points as well as high risk areas.\n",
    "\n",
    "## report_status"
   ]
  },
  {
   "cell_type": "code",
   "execution_count": 1580,
   "metadata": {},
   "outputs": [
    {
     "data": {
      "text/plain": [
       "probable cause                                                                                                                                                                                                                                      61754\n",
       "foreign                                                                                                                                                                                                                                              1999\n",
       "<br /><br />                                                                                                                                                                                                                                          167\n",
       "factual                                                                                                                                                                                                                                               145\n",
       "the pilot's failure to maintain directional control during the landing roll.                                                                                                                                                                           64\n",
       "                                                                                                                                                                                                                                                    ...  \n",
       "the passengers fall from the airplane during a normal egress.                                                                                                                                                                                          1\n",
       "the pilots disorientation during a night flight, which resulted in an off-airport landing, and his inadequate directional control during the landing roll. contributing to the accident was the loss of the airplanes electrical system power.        1\n",
       "the pilots failure to maintain control of the airplane during the landing and attempted go-around in a gusty crosswind.                                                                                                                                1\n",
       "the student pilot's inadequate directional control during takeoff.                                                                                                                                                                                      1\n",
       "the pilots loss of control due to a wind gust during landing.                                                                                                                                                                                          1\n",
       "Name: report_status, Length: 16766, dtype: int64"
      ]
     },
     "execution_count": 1580,
     "metadata": {},
     "output_type": "execute_result"
    }
   ],
   "source": [
    "aviation_data['report_status'].value_counts()"
   ]
  },
  {
   "cell_type": "markdown",
   "metadata": {},
   "source": [
    "So it seems a lot of the values are probable cause\n",
    "\n",
    "**Probable Cause**: This term is used to describe the findings of an investigation that identify the factors or events that most likely led to the incident or accident. When a report reaches the \"probable cause\" status, the investigating authority, such as the National Transportation Safety Board (NTSB) in the United States, has completed its analysis and has determined the primary reasons behind the occurrence.\n",
    "\n",
    "\n",
    "## publication_date"
   ]
  },
  {
   "cell_type": "code",
   "execution_count": 1581,
   "metadata": {},
   "outputs": [
    {
     "data": {
      "text/plain": [
       "2020-09-25    17019\n",
       "2020-09-26     1769\n",
       "2020-11-03     1155\n",
       "1993-03-31      452\n",
       "2003-11-25      396\n",
       "              ...  \n",
       "2004-11-29        1\n",
       "2001-08-29        1\n",
       "2004-11-18        1\n",
       "1996-12-17        1\n",
       "2022-12-29        1\n",
       "Name: publication_date, Length: 2924, dtype: int64"
      ]
     },
     "execution_count": 1581,
     "metadata": {},
     "output_type": "execute_result"
    }
   ],
   "source": [
    "aviation_data['publication_date'].value_counts()"
   ]
  },
  {
   "cell_type": "markdown",
   "metadata": {},
   "source": [
    "# Describe and Identify Outliers"
   ]
  },
  {
   "cell_type": "code",
   "execution_count": 1582,
   "metadata": {},
   "outputs": [
    {
     "data": {
      "text/html": [
       "<div>\n",
       "<style scoped>\n",
       "    .dataframe tbody tr th:only-of-type {\n",
       "        vertical-align: middle;\n",
       "    }\n",
       "\n",
       "    .dataframe tbody tr th {\n",
       "        vertical-align: top;\n",
       "    }\n",
       "\n",
       "    .dataframe thead th {\n",
       "        text-align: right;\n",
       "    }\n",
       "</style>\n",
       "<table border=\"1\" class=\"dataframe\">\n",
       "  <thead>\n",
       "    <tr style=\"text-align: right;\">\n",
       "      <th></th>\n",
       "      <th>number_of_engines</th>\n",
       "      <th>total_fatal_injuries</th>\n",
       "      <th>total_serious_injuries</th>\n",
       "      <th>total_minor_injuries</th>\n",
       "      <th>total_uninjured</th>\n",
       "      <th>injury_severity_count</th>\n",
       "    </tr>\n",
       "  </thead>\n",
       "  <tbody>\n",
       "    <tr>\n",
       "      <th>count</th>\n",
       "      <td>82805.000000</td>\n",
       "      <td>77488.000000</td>\n",
       "      <td>76379.000000</td>\n",
       "      <td>76956.000000</td>\n",
       "      <td>82977.000000</td>\n",
       "      <td>12564.000000</td>\n",
       "    </tr>\n",
       "    <tr>\n",
       "      <th>mean</th>\n",
       "      <td>1.146585</td>\n",
       "      <td>0.647855</td>\n",
       "      <td>0.279881</td>\n",
       "      <td>0.357061</td>\n",
       "      <td>5.325440</td>\n",
       "      <td>2.834846</td>\n",
       "    </tr>\n",
       "    <tr>\n",
       "      <th>std</th>\n",
       "      <td>0.446510</td>\n",
       "      <td>5.485960</td>\n",
       "      <td>1.544084</td>\n",
       "      <td>2.235625</td>\n",
       "      <td>27.913634</td>\n",
       "      <td>11.234181</td>\n",
       "    </tr>\n",
       "    <tr>\n",
       "      <th>min</th>\n",
       "      <td>0.000000</td>\n",
       "      <td>0.000000</td>\n",
       "      <td>0.000000</td>\n",
       "      <td>0.000000</td>\n",
       "      <td>0.000000</td>\n",
       "      <td>1.000000</td>\n",
       "    </tr>\n",
       "    <tr>\n",
       "      <th>25%</th>\n",
       "      <td>1.000000</td>\n",
       "      <td>0.000000</td>\n",
       "      <td>0.000000</td>\n",
       "      <td>0.000000</td>\n",
       "      <td>0.000000</td>\n",
       "      <td>1.000000</td>\n",
       "    </tr>\n",
       "    <tr>\n",
       "      <th>50%</th>\n",
       "      <td>1.000000</td>\n",
       "      <td>0.000000</td>\n",
       "      <td>0.000000</td>\n",
       "      <td>0.000000</td>\n",
       "      <td>1.000000</td>\n",
       "      <td>2.000000</td>\n",
       "    </tr>\n",
       "    <tr>\n",
       "      <th>75%</th>\n",
       "      <td>1.000000</td>\n",
       "      <td>0.000000</td>\n",
       "      <td>0.000000</td>\n",
       "      <td>0.000000</td>\n",
       "      <td>2.000000</td>\n",
       "      <td>2.000000</td>\n",
       "    </tr>\n",
       "    <tr>\n",
       "      <th>max</th>\n",
       "      <td>8.000000</td>\n",
       "      <td>349.000000</td>\n",
       "      <td>161.000000</td>\n",
       "      <td>380.000000</td>\n",
       "      <td>699.000000</td>\n",
       "      <td>349.000000</td>\n",
       "    </tr>\n",
       "  </tbody>\n",
       "</table>\n",
       "</div>"
      ],
      "text/plain": [
       "       number_of_engines  total_fatal_injuries  total_serious_injuries  \\\n",
       "count       82805.000000          77488.000000            76379.000000   \n",
       "mean            1.146585              0.647855                0.279881   \n",
       "std             0.446510              5.485960                1.544084   \n",
       "min             0.000000              0.000000                0.000000   \n",
       "25%             1.000000              0.000000                0.000000   \n",
       "50%             1.000000              0.000000                0.000000   \n",
       "75%             1.000000              0.000000                0.000000   \n",
       "max             8.000000            349.000000              161.000000   \n",
       "\n",
       "       total_minor_injuries  total_uninjured  injury_severity_count  \n",
       "count          76956.000000     82977.000000           12564.000000  \n",
       "mean               0.357061         5.325440               2.834846  \n",
       "std                2.235625        27.913634              11.234181  \n",
       "min                0.000000         0.000000               1.000000  \n",
       "25%                0.000000         0.000000               1.000000  \n",
       "50%                0.000000         1.000000               2.000000  \n",
       "75%                0.000000         2.000000               2.000000  \n",
       "max              380.000000       699.000000             349.000000  "
      ]
     },
     "execution_count": 1582,
     "metadata": {},
     "output_type": "execute_result"
    }
   ],
   "source": [
    "aviation_data.describe()"
   ]
  },
  {
   "cell_type": "markdown",
   "metadata": {},
   "source": [
    "Looking at the description of the numerical data in our dataset, there are a few things of note...\n",
    "\n",
    "**The first three quartiles** of total_fatal_injuries, total_serious_injuries, and total_minor_injuries, are all equal to zero. Yet the **max** of these three categories are comparably high numbers. A similar data skew is true for 'total_uninjured'. These are outliers that can either be helpful or hurtful to consider in our analysis.\n",
    "\n",
    "In this instance, outliers are particularly useful because they point to aircrafts with higher cases of risk.\n",
    "\n",
    "Outliers mean that the best measure of central tendency to use when filling in missing values is probably the **median**"
   ]
  },
  {
   "cell_type": "markdown",
   "metadata": {},
   "source": [
    "# Filtering Data\n",
    "\n",
    "There is a lot duplicate and unecessary data. Before we can figure out how to best group the items in our dataset, we need to filter out some of the unecessary information"
   ]
  },
  {
   "cell_type": "code",
   "execution_count": 1583,
   "metadata": {},
   "outputs": [
    {
     "name": "stdout",
     "output_type": "stream",
     "text": [
      "<class 'pandas.core.frame.DataFrame'>\n",
      "RangeIndex: 88889 entries, 0 to 88888\n",
      "Data columns (total 34 columns):\n",
      " #   Column                  Non-Null Count  Dtype         \n",
      "---  ------                  --------------  -----         \n",
      " 0   event_id                88889 non-null  object        \n",
      " 1   investigation_type      88889 non-null  object        \n",
      " 2   accident_number         88889 non-null  object        \n",
      " 3   event_date              88889 non-null  object        \n",
      " 4   location                88837 non-null  object        \n",
      " 5   country                 88663 non-null  object        \n",
      " 6   latitude                34382 non-null  object        \n",
      " 7   longitude               34373 non-null  object        \n",
      " 8   airport_code            48637 non-null  object        \n",
      " 9   airport_name            52558 non-null  object        \n",
      " 10  injury_severity         87889 non-null  object        \n",
      " 11  aircraft_damage         85576 non-null  object        \n",
      " 12  aircraft_category       32287 non-null  object        \n",
      " 13  registration_number     87137 non-null  object        \n",
      " 14  make                    88826 non-null  object        \n",
      " 15  model                   88797 non-null  object        \n",
      " 16  amateur_built           88787 non-null  object        \n",
      " 17  number_of_engines       82805 non-null  float64       \n",
      " 18  engine_type             79760 non-null  object        \n",
      " 19  far_description         32023 non-null  object        \n",
      " 20  schedule                12582 non-null  object        \n",
      " 21  purpose_of_flight       82697 non-null  object        \n",
      " 22  air_carrier             16648 non-null  object        \n",
      " 23  total_fatal_injuries    77488 non-null  float64       \n",
      " 24  total_serious_injuries  76379 non-null  float64       \n",
      " 25  total_minor_injuries    76956 non-null  float64       \n",
      " 26  total_uninjured         82977 non-null  float64       \n",
      " 27  weather_condition       84397 non-null  object        \n",
      " 28  broad_phase_of_flight   61724 non-null  object        \n",
      " 29  report_status           82508 non-null  object        \n",
      " 30  publication_date        75118 non-null  datetime64[ns]\n",
      " 31  injury_severity_type    87889 non-null  object        \n",
      " 32  injury_severity_count   12564 non-null  Int64         \n",
      " 33  state                   82133 non-null  object        \n",
      "dtypes: Int64(1), datetime64[ns](1), float64(5), object(27)\n",
      "memory usage: 23.1+ MB\n"
     ]
    }
   ],
   "source": [
    "aviation_data.info()"
   ]
  },
  {
   "cell_type": "markdown",
   "metadata": {},
   "source": [
    "#### Geographic Location\n",
    "\n",
    "**Longitude and Latitude**: We don't need 'longitude' and 'latitude', we can just use 'location' column for our findings."
   ]
  },
  {
   "cell_type": "code",
   "execution_count": 1584,
   "metadata": {},
   "outputs": [
    {
     "data": {
      "text/plain": [
       "\"\\ndef latitude_and_longitude(row):\\n    if pd.isnull(row['location']):\\n        return (row['latitude'], row['longitude'])\\n    else:\\n        return row['location']\\n\\n#Make a new column with the 'latitude' and 'longitude' coordinates as a tuple. \\naviation_data['lat_and_long'] = aviation_data.apply(latitude_and_longitude, axis=1)\\n\\n#Fill missing values in 'location' with the tuples in the new 'lat_and_long' column. \\naviation_data['location'] = aviation_data['location'].fillna(aviation_data['lat_and_long'])\\n\\n#Drop the 'lat_and_long' column\\naviation_data.drop(columns=['lat_and_long'], inplace=True)\\n\""
      ]
     },
     "execution_count": 1584,
     "metadata": {},
     "output_type": "execute_result"
    }
   ],
   "source": [
    "#Define a function creating a tuple of latitude and longitude. \n",
    "\"\"\"\n",
    "def latitude_and_longitude(row):\n",
    "    if pd.isnull(row['location']):\n",
    "        return (row['latitude'], row['longitude'])\n",
    "    else:\n",
    "        return row['location']\n",
    "\n",
    "#Make a new column with the 'latitude' and 'longitude' coordinates as a tuple. \n",
    "aviation_data['lat_and_long'] = aviation_data.apply(latitude_and_longitude, axis=1)\n",
    "\n",
    "#Fill missing values in 'location' with the tuples in the new 'lat_and_long' column. \n",
    "aviation_data['location'] = aviation_data['location'].fillna(aviation_data['lat_and_long'])\n",
    "\n",
    "#Drop the 'lat_and_long' column\n",
    "aviation_data.drop(columns=['lat_and_long'], inplace=True)\n",
    "\"\"\""
   ]
  },
  {
   "cell_type": "code",
   "execution_count": 1585,
   "metadata": {},
   "outputs": [],
   "source": [
    "#Drop the latitude and longitude columns\n",
    "aviation_data.drop(columns=['latitude', 'longitude'], inplace=True)"
   ]
  },
  {
   "cell_type": "markdown",
   "metadata": {},
   "source": [
    "#### Date and Time\n",
    "\n",
    "**Publication Date**: The publication date is also uncessary. We have other time markers that will be far more relevant to the aim of our investigation."
   ]
  },
  {
   "cell_type": "code",
   "execution_count": 1586,
   "metadata": {},
   "outputs": [],
   "source": [
    "#'publication_date' is unecessary to our analysis.\n",
    "#Error when reformatting notebook, so must add blank column, to be able to note dropping it\n",
    "#aviation_data['publication_date'] = 0\n",
    "aviation_data.drop(columns=['publication_date'], inplace=True)"
   ]
  },
  {
   "cell_type": "markdown",
   "metadata": {},
   "source": [
    "#### Summary Statistics - Injury Severity\n",
    "\n",
    "We need to find a way to quanitify the injuries per accident. To do so, we have to further categorize and clean the data."
   ]
  },
  {
   "cell_type": "code",
   "execution_count": 1587,
   "metadata": {},
   "outputs": [
    {
     "name": "stdout",
     "output_type": "stream",
     "text": [
      "Unique categories in injury_severity: ['fatal(2)' 'fatal(4)' 'fatal(3)' 'fatal(1)' 'non-fatal' 'incident'\n",
      " 'fatal(8)' 'fatal(78)' 'fatal(7)' 'fatal(6)' 'fatal(5)' 'fatal(153)'\n",
      " 'fatal(12)' 'fatal(14)' 'fatal(23)' 'fatal(10)' 'fatal(11)' 'fatal(9)'\n",
      " 'fatal(17)' 'fatal(13)' 'fatal(29)' 'fatal(70)' 'unavailable'\n",
      " 'fatal(135)' 'fatal(31)' 'fatal(256)' 'fatal(25)' 'fatal(82)'\n",
      " 'fatal(156)' 'fatal(28)' 'fatal(18)' 'fatal(43)' 'fatal(15)' 'fatal(270)'\n",
      " 'fatal(144)' 'fatal(174)' 'fatal(111)' 'fatal(131)' 'fatal(20)'\n",
      " 'fatal(73)' 'fatal(27)' 'fatal(34)' 'fatal(87)' 'fatal(30)' 'fatal(16)'\n",
      " 'fatal(47)' 'fatal(56)' 'fatal(37)' 'fatal(132)' 'fatal(68)' 'fatal(54)'\n",
      " 'fatal(52)' 'fatal(65)' 'fatal(72)' 'fatal(160)' 'fatal(189)'\n",
      " 'fatal(123)' 'fatal(33)' 'fatal(110)' 'fatal(230)' 'fatal(97)'\n",
      " 'fatal(349)' 'fatal(125)' 'fatal(35)' 'fatal(228)' 'fatal(75)'\n",
      " 'fatal(104)' 'fatal(229)' 'fatal(80)' 'fatal(217)' 'fatal(169)'\n",
      " 'fatal(88)' 'fatal(19)' 'fatal(60)' 'fatal(113)' 'fatal(143)' 'fatal(83)'\n",
      " 'fatal(24)' 'fatal(44)' 'fatal(64)' 'fatal(92)' 'fatal(118)' 'fatal(265)'\n",
      " 'fatal(26)' 'fatal(138)' 'fatal(206)' 'fatal(71)' 'fatal(21)' 'fatal(46)'\n",
      " 'fatal(102)' 'fatal(115)' 'fatal(141)' 'fatal(55)' 'fatal(121)'\n",
      " 'fatal(45)' 'fatal(145)' 'fatal(117)' 'fatal(107)' 'fatal(124)'\n",
      " 'fatal(49)' 'fatal(154)' 'fatal(96)' 'fatal(114)' 'fatal(199)'\n",
      " 'fatal(89)' 'fatal(57)' 'fatal' nan 'minor' 'serious']\n",
      "Unique categories in injury_severity_type: ['fatal' 'non-fatal' 'incident' 'unavailable' None 'minor' 'serious']\n",
      "Unique categories in injury_severity_count: <IntegerArray>\n",
      "[   2,    4,    3,    1, <NA>,    8,   78,    7,    6,    5,\n",
      " ...\n",
      "  117,  107,  124,   49,  154,   96,  114,  199,   89,   57]\n",
      "Length: 104, dtype: Int64\n"
     ]
    }
   ],
   "source": [
    "#Investigating necessity of columns\n",
    "\n",
    "print('Unique categories in injury_severity:', aviation_data['injury_severity'].unique())\n",
    "print('Unique categories in injury_severity_type:', aviation_data['injury_severity_type'].unique())\n",
    "print('Unique categories in injury_severity_count:', aviation_data['injury_severity_count'].unique())"
   ]
  },
  {
   "cell_type": "markdown",
   "metadata": {},
   "source": [
    "Before diving in deeper...Since we made our injury severity 'type' and 'count' columns, we can drop 'injury_severity'."
   ]
  },
  {
   "cell_type": "code",
   "execution_count": 1588,
   "metadata": {},
   "outputs": [],
   "source": [
    "#Dropping column\n",
    "aviation_data.drop(columns=['injury_severity'], inplace=True)"
   ]
  },
  {
   "cell_type": "markdown",
   "metadata": {},
   "source": [
    "## Make and Model\n",
    "\n",
    "Due to the outliers in the data, we know that our mean will be skewed. So we should probably use the median to fill in these missing values. \n",
    "However, to have an even more detailed analysis, we can **group the accidents by make and model** and filter imputations through these groupings. Then we can imputate the missing values using the **mean or mode** of these groupings.\n",
    "\n",
    "Before we do so, we must deal with the missing data in these columns. \n",
    "\n",
    "Let's remind ourselves of how much data is missing in the 'make' and 'model' columns."
   ]
  },
  {
   "cell_type": "code",
   "execution_count": 1589,
   "metadata": {},
   "outputs": [
    {
     "data": {
      "text/plain": [
       "63"
      ]
     },
     "execution_count": 1589,
     "metadata": {},
     "output_type": "execute_result"
    }
   ],
   "source": [
    "aviation_data['make'].isna().sum()"
   ]
  },
  {
   "cell_type": "code",
   "execution_count": 1590,
   "metadata": {},
   "outputs": [
    {
     "data": {
      "text/plain": [
       "92"
      ]
     },
     "execution_count": 1590,
     "metadata": {},
     "output_type": "execute_result"
    }
   ],
   "source": [
    "aviation_data['model'].isna().sum()"
   ]
  },
  {
   "cell_type": "markdown",
   "metadata": {},
   "source": [
    "Since there aren't that many missing values, we can just drop those rows."
   ]
  },
  {
   "cell_type": "code",
   "execution_count": 1591,
   "metadata": {},
   "outputs": [
    {
     "name": "stdout",
     "output_type": "stream",
     "text": [
      "Number of missing values in make: 0\n",
      "Number of missing values in model: 0\n"
     ]
    }
   ],
   "source": [
    "aviation_data.dropna(subset=['make', 'model'], inplace=True)\n",
    "\n",
    "print('Number of missing values in make:', aviation_data['make'].isna().sum())\n",
    "print('Number of missing values in model:', aviation_data['model'].isna().sum())"
   ]
  },
  {
   "cell_type": "markdown",
   "metadata": {},
   "source": [
    "## Concatenate Make and Model\n",
    "\n",
    "Create a new column that specifies an aircrafts 'make_and_model', accounting for different model types across the same make."
   ]
  },
  {
   "cell_type": "code",
   "execution_count": 1592,
   "metadata": {},
   "outputs": [
    {
     "data": {
      "text/html": [
       "<div>\n",
       "<style scoped>\n",
       "    .dataframe tbody tr th:only-of-type {\n",
       "        vertical-align: middle;\n",
       "    }\n",
       "\n",
       "    .dataframe tbody tr th {\n",
       "        vertical-align: top;\n",
       "    }\n",
       "\n",
       "    .dataframe thead th {\n",
       "        text-align: right;\n",
       "    }\n",
       "</style>\n",
       "<table border=\"1\" class=\"dataframe\">\n",
       "  <thead>\n",
       "    <tr style=\"text-align: right;\">\n",
       "      <th></th>\n",
       "      <th>event_id</th>\n",
       "      <th>investigation_type</th>\n",
       "      <th>accident_number</th>\n",
       "      <th>event_date</th>\n",
       "      <th>location</th>\n",
       "      <th>country</th>\n",
       "      <th>airport_code</th>\n",
       "      <th>airport_name</th>\n",
       "      <th>aircraft_damage</th>\n",
       "      <th>aircraft_category</th>\n",
       "      <th>...</th>\n",
       "      <th>total_serious_injuries</th>\n",
       "      <th>total_minor_injuries</th>\n",
       "      <th>total_uninjured</th>\n",
       "      <th>weather_condition</th>\n",
       "      <th>broad_phase_of_flight</th>\n",
       "      <th>report_status</th>\n",
       "      <th>injury_severity_type</th>\n",
       "      <th>injury_severity_count</th>\n",
       "      <th>state</th>\n",
       "      <th>make_model</th>\n",
       "    </tr>\n",
       "  </thead>\n",
       "  <tbody>\n",
       "    <tr>\n",
       "      <th>0</th>\n",
       "      <td>20001218x45444</td>\n",
       "      <td>accident</td>\n",
       "      <td>sea87la080</td>\n",
       "      <td>1948-10-24</td>\n",
       "      <td>moose creek, id</td>\n",
       "      <td>united states</td>\n",
       "      <td>NaN</td>\n",
       "      <td>NaN</td>\n",
       "      <td>destroyed</td>\n",
       "      <td>NaN</td>\n",
       "      <td>...</td>\n",
       "      <td>0.0</td>\n",
       "      <td>0.0</td>\n",
       "      <td>0.0</td>\n",
       "      <td>unk</td>\n",
       "      <td>cruise</td>\n",
       "      <td>probable cause</td>\n",
       "      <td>fatal</td>\n",
       "      <td>2</td>\n",
       "      <td>ID</td>\n",
       "      <td>stinson-108-3</td>\n",
       "    </tr>\n",
       "    <tr>\n",
       "      <th>1</th>\n",
       "      <td>20001218x45447</td>\n",
       "      <td>accident</td>\n",
       "      <td>lax94la336</td>\n",
       "      <td>1962-07-19</td>\n",
       "      <td>bridgeport, ca</td>\n",
       "      <td>united states</td>\n",
       "      <td>NaN</td>\n",
       "      <td>NaN</td>\n",
       "      <td>destroyed</td>\n",
       "      <td>NaN</td>\n",
       "      <td>...</td>\n",
       "      <td>0.0</td>\n",
       "      <td>0.0</td>\n",
       "      <td>0.0</td>\n",
       "      <td>unk</td>\n",
       "      <td>unknown</td>\n",
       "      <td>probable cause</td>\n",
       "      <td>fatal</td>\n",
       "      <td>4</td>\n",
       "      <td>CA</td>\n",
       "      <td>piper-pa24-180</td>\n",
       "    </tr>\n",
       "    <tr>\n",
       "      <th>2</th>\n",
       "      <td>20061025x01555</td>\n",
       "      <td>accident</td>\n",
       "      <td>nyc07la005</td>\n",
       "      <td>1974-08-30</td>\n",
       "      <td>saltville, va</td>\n",
       "      <td>united states</td>\n",
       "      <td>NaN</td>\n",
       "      <td>NaN</td>\n",
       "      <td>destroyed</td>\n",
       "      <td>NaN</td>\n",
       "      <td>...</td>\n",
       "      <td>NaN</td>\n",
       "      <td>NaN</td>\n",
       "      <td>NaN</td>\n",
       "      <td>imc</td>\n",
       "      <td>cruise</td>\n",
       "      <td>probable cause</td>\n",
       "      <td>fatal</td>\n",
       "      <td>3</td>\n",
       "      <td>VA</td>\n",
       "      <td>cessna-172m</td>\n",
       "    </tr>\n",
       "    <tr>\n",
       "      <th>3</th>\n",
       "      <td>20001218x45448</td>\n",
       "      <td>accident</td>\n",
       "      <td>lax96la321</td>\n",
       "      <td>1977-06-19</td>\n",
       "      <td>eureka, ca</td>\n",
       "      <td>united states</td>\n",
       "      <td>NaN</td>\n",
       "      <td>NaN</td>\n",
       "      <td>destroyed</td>\n",
       "      <td>NaN</td>\n",
       "      <td>...</td>\n",
       "      <td>0.0</td>\n",
       "      <td>0.0</td>\n",
       "      <td>0.0</td>\n",
       "      <td>imc</td>\n",
       "      <td>cruise</td>\n",
       "      <td>probable cause</td>\n",
       "      <td>fatal</td>\n",
       "      <td>2</td>\n",
       "      <td>CA</td>\n",
       "      <td>rockwell-112</td>\n",
       "    </tr>\n",
       "    <tr>\n",
       "      <th>4</th>\n",
       "      <td>20041105x01764</td>\n",
       "      <td>accident</td>\n",
       "      <td>chi79fa064</td>\n",
       "      <td>1979-08-02</td>\n",
       "      <td>canton, oh</td>\n",
       "      <td>united states</td>\n",
       "      <td>NaN</td>\n",
       "      <td>NaN</td>\n",
       "      <td>destroyed</td>\n",
       "      <td>NaN</td>\n",
       "      <td>...</td>\n",
       "      <td>2.0</td>\n",
       "      <td>NaN</td>\n",
       "      <td>0.0</td>\n",
       "      <td>vmc</td>\n",
       "      <td>approach</td>\n",
       "      <td>probable cause</td>\n",
       "      <td>fatal</td>\n",
       "      <td>1</td>\n",
       "      <td>OH</td>\n",
       "      <td>cessna-501</td>\n",
       "    </tr>\n",
       "  </tbody>\n",
       "</table>\n",
       "<p>5 rows × 31 columns</p>\n",
       "</div>"
      ],
      "text/plain": [
       "         event_id investigation_type accident_number  event_date  \\\n",
       "0  20001218x45444           accident      sea87la080  1948-10-24   \n",
       "1  20001218x45447           accident      lax94la336  1962-07-19   \n",
       "2  20061025x01555           accident      nyc07la005  1974-08-30   \n",
       "3  20001218x45448           accident      lax96la321  1977-06-19   \n",
       "4  20041105x01764           accident      chi79fa064  1979-08-02   \n",
       "\n",
       "          location        country airport_code airport_name aircraft_damage  \\\n",
       "0  moose creek, id  united states          NaN          NaN       destroyed   \n",
       "1   bridgeport, ca  united states          NaN          NaN       destroyed   \n",
       "2    saltville, va  united states          NaN          NaN       destroyed   \n",
       "3       eureka, ca  united states          NaN          NaN       destroyed   \n",
       "4       canton, oh  united states          NaN          NaN       destroyed   \n",
       "\n",
       "  aircraft_category  ... total_serious_injuries total_minor_injuries  \\\n",
       "0               NaN  ...                    0.0                  0.0   \n",
       "1               NaN  ...                    0.0                  0.0   \n",
       "2               NaN  ...                    NaN                  NaN   \n",
       "3               NaN  ...                    0.0                  0.0   \n",
       "4               NaN  ...                    2.0                  NaN   \n",
       "\n",
       "  total_uninjured weather_condition  broad_phase_of_flight   report_status  \\\n",
       "0             0.0               unk                 cruise  probable cause   \n",
       "1             0.0               unk                unknown  probable cause   \n",
       "2             NaN               imc                 cruise  probable cause   \n",
       "3             0.0               imc                 cruise  probable cause   \n",
       "4             0.0               vmc               approach  probable cause   \n",
       "\n",
       "  injury_severity_type injury_severity_count state      make_model  \n",
       "0                fatal                     2    ID   stinson-108-3  \n",
       "1                fatal                     4    CA  piper-pa24-180  \n",
       "2                fatal                     3    VA     cessna-172m  \n",
       "3                fatal                     2    CA    rockwell-112  \n",
       "4                fatal                     1    OH      cessna-501  \n",
       "\n",
       "[5 rows x 31 columns]"
      ]
     },
     "metadata": {},
     "output_type": "display_data"
    },
    {
     "data": {
      "text/plain": [
       "0"
      ]
     },
     "metadata": {},
     "output_type": "display_data"
    },
    {
     "data": {
      "text/plain": [
       "cessna-152                          2366\n",
       "cessna-172                          1753\n",
       "cessna-172n                         1163\n",
       "piper-pa-28-140                      932\n",
       "cessna-150                           829\n",
       "                                    ... \n",
       "john w. culp-kr-2                      1\n",
       "barrigar-rv-6                          1\n",
       "pohlman/pohlman-rotorway exec 90       1\n",
       "boeing-737-200rs                       1\n",
       "royse ralph l-glasair                  1\n",
       "Name: make_model, Length: 18245, dtype: int64"
      ]
     },
     "metadata": {},
     "output_type": "display_data"
    }
   ],
   "source": [
    "aviation_data['make_model'] = aviation_data['make'] + '-' + aviation_data['model']\n",
    "display(aviation_data.head())\n",
    "display(aviation_data['make_model'].isna().sum())\n",
    "display(aviation_data['make_model'].value_counts())"
   ]
  },
  {
   "cell_type": "markdown",
   "metadata": {},
   "source": [
    "## Set 0 to nan for number of engines"
   ]
  },
  {
   "cell_type": "code",
   "execution_count": 1593,
   "metadata": {},
   "outputs": [],
   "source": [
    "aviation_data.loc[aviation_data['number_of_engines'] == 0, 'number_of_engines'] = np.nan"
   ]
  },
  {
   "cell_type": "markdown",
   "metadata": {},
   "source": [
    "## Cleaning Data Types\n",
    "\n",
    "Before we go on, let's make all our numerical objects the same data type if possible.\n",
    "\n",
    "Let's check whether or not we need float objects, as opposed to integer objects, by filtering out floats that end with a decimal point other than \".0\"\n",
    "\n",
    "This will ensure there are no aircrafts built with entities such as \"half-engines\", or accidents with \"half-fatalities\"."
   ]
  },
  {
   "cell_type": "markdown",
   "metadata": {},
   "source": [
    "### Show float columns"
   ]
  },
  {
   "cell_type": "code",
   "execution_count": 1594,
   "metadata": {},
   "outputs": [
    {
     "name": "stdout",
     "output_type": "stream",
     "text": [
      "<class 'pandas.core.frame.DataFrame'>\n",
      "Int64Index: 88777 entries, 0 to 88888\n",
      "Data columns (total 31 columns):\n",
      " #   Column                  Non-Null Count  Dtype  \n",
      "---  ------                  --------------  -----  \n",
      " 0   event_id                88777 non-null  object \n",
      " 1   investigation_type      88777 non-null  object \n",
      " 2   accident_number         88777 non-null  object \n",
      " 3   event_date              88777 non-null  object \n",
      " 4   location                88725 non-null  object \n",
      " 5   country                 88552 non-null  object \n",
      " 6   airport_code            48602 non-null  object \n",
      " 7   airport_name            52514 non-null  object \n",
      " 8   aircraft_damage         85486 non-null  object \n",
      " 9   aircraft_category       32245 non-null  object \n",
      " 10  registration_number     87075 non-null  object \n",
      " 11  make                    88777 non-null  object \n",
      " 12  model                   88777 non-null  object \n",
      " 13  amateur_built           88678 non-null  object \n",
      " 14  number_of_engines       81528 non-null  float64\n",
      " 15  engine_type             79722 non-null  object \n",
      " 16  far_description         31936 non-null  object \n",
      " 17  schedule                12532 non-null  object \n",
      " 18  purpose_of_flight       82639 non-null  object \n",
      " 19  air_carrier             16609 non-null  object \n",
      " 20  total_fatal_injuries    77391 non-null  float64\n",
      " 21  total_serious_injuries  76287 non-null  float64\n",
      " 22  total_minor_injuries    76863 non-null  float64\n",
      " 23  total_uninjured         82880 non-null  float64\n",
      " 24  weather_condition       84338 non-null  object \n",
      " 25  broad_phase_of_flight   61683 non-null  object \n",
      " 26  report_status           82442 non-null  object \n",
      " 27  injury_severity_type    87798 non-null  object \n",
      " 28  injury_severity_count   12545 non-null  Int64  \n",
      " 29  state                   82082 non-null  object \n",
      " 30  make_model              88777 non-null  object \n",
      "dtypes: Int64(1), float64(5), object(25)\n",
      "memory usage: 21.8+ MB\n"
     ]
    }
   ],
   "source": [
    "aviation_data.info()"
   ]
  },
  {
   "cell_type": "markdown",
   "metadata": {},
   "source": [
    "### Find floats in float cols or can they all be int?"
   ]
  },
  {
   "cell_type": "code",
   "execution_count": 1595,
   "metadata": {},
   "outputs": [
    {
     "data": {
      "text/plain": [
       "Index(['number_of_engines', 'total_fatal_injuries', 'total_serious_injuries',\n",
       "       'total_minor_injuries', 'total_uninjured'],\n",
       "      dtype='object')"
      ]
     },
     "metadata": {},
     "output_type": "display_data"
    },
    {
     "name": "stdout",
     "output_type": "stream",
     "text": [
      "Column: number_of_engines\n",
      "All values are integers.\n",
      "\n",
      "Column: total_fatal_injuries\n",
      "All values are integers.\n",
      "\n",
      "Column: total_serious_injuries\n",
      "All values are integers.\n",
      "\n",
      "Column: total_minor_injuries\n",
      "All values are integers.\n",
      "\n",
      "Column: total_uninjured\n",
      "All values are integers.\n",
      "\n"
     ]
    }
   ],
   "source": [
    "\n",
    "float_cols = aviation_data.select_dtypes(include=['float64']).columns\n",
    "display(float_cols)\n",
    "\n",
    "#uncomment to check code, but then rerun all up to this cell when done\n",
    "#aviation_data['number_of_engines'] = 1.1\n",
    "# Iterate over each float column\n",
    "for col in float_cols:\n",
    "    print(f\"Column: {col}\")\n",
    "    # Check and print values that are not integers\n",
    "    #it will return a series of True and False based on if it's both not nan and float != int of the same number\n",
    "    non_int_values = aviation_data[col][aviation_data[col].apply(lambda x: not np.isnan(x) and x != int(x))]\n",
    "    if not non_int_values.empty:\n",
    "        print(\"Non-integer values:\")\n",
    "        print(non_int_values)\n",
    "    else:\n",
    "        print(\"All values are integers.\")\n",
    "    print()"
   ]
  },
  {
   "cell_type": "markdown",
   "metadata": {},
   "source": [
    "### Convert cols to Int64 which allows null values"
   ]
  },
  {
   "cell_type": "code",
   "execution_count": 1596,
   "metadata": {},
   "outputs": [
    {
     "name": "stdout",
     "output_type": "stream",
     "text": [
      "<class 'pandas.core.frame.DataFrame'>\n",
      "Int64Index: 88777 entries, 0 to 88888\n",
      "Data columns (total 31 columns):\n",
      " #   Column                  Non-Null Count  Dtype \n",
      "---  ------                  --------------  ----- \n",
      " 0   event_id                88777 non-null  object\n",
      " 1   investigation_type      88777 non-null  object\n",
      " 2   accident_number         88777 non-null  object\n",
      " 3   event_date              88777 non-null  object\n",
      " 4   location                88725 non-null  object\n",
      " 5   country                 88552 non-null  object\n",
      " 6   airport_code            48602 non-null  object\n",
      " 7   airport_name            52514 non-null  object\n",
      " 8   aircraft_damage         85486 non-null  object\n",
      " 9   aircraft_category       32245 non-null  object\n",
      " 10  registration_number     87075 non-null  object\n",
      " 11  make                    88777 non-null  object\n",
      " 12  model                   88777 non-null  object\n",
      " 13  amateur_built           88678 non-null  object\n",
      " 14  number_of_engines       81528 non-null  Int64 \n",
      " 15  engine_type             79722 non-null  object\n",
      " 16  far_description         31936 non-null  object\n",
      " 17  schedule                12532 non-null  object\n",
      " 18  purpose_of_flight       82639 non-null  object\n",
      " 19  air_carrier             16609 non-null  object\n",
      " 20  total_fatal_injuries    77391 non-null  Int64 \n",
      " 21  total_serious_injuries  76287 non-null  Int64 \n",
      " 22  total_minor_injuries    76863 non-null  Int64 \n",
      " 23  total_uninjured         82880 non-null  Int64 \n",
      " 24  weather_condition       84338 non-null  object\n",
      " 25  broad_phase_of_flight   61683 non-null  object\n",
      " 26  report_status           82442 non-null  object\n",
      " 27  injury_severity_type    87798 non-null  object\n",
      " 28  injury_severity_count   12545 non-null  Int64 \n",
      " 29  state                   82082 non-null  object\n",
      " 30  make_model              88777 non-null  object\n",
      "dtypes: Int64(6), object(25)\n",
      "memory usage: 22.2+ MB\n"
     ]
    }
   ],
   "source": [
    "#since they are all integers lets convert the column\n",
    "for col in float_cols:\n",
    "    aviation_data[col] = aviation_data[col].astype('Int64')\n",
    "aviation_data.info()"
   ]
  },
  {
   "cell_type": "markdown",
   "metadata": {},
   "source": [
    "# Impute"
   ]
  },
  {
   "cell_type": "markdown",
   "metadata": {},
   "source": [
    "## Impute Aircraft Features based on make_model\n",
    "some pre output to make sure it works"
   ]
  },
  {
   "cell_type": "code",
   "execution_count": 1597,
   "metadata": {},
   "outputs": [
    {
     "data": {
      "text/plain": [
       "2    110\n",
       "1      2\n",
       "Name: number_of_engines, dtype: Int64"
      ]
     },
     "execution_count": 1597,
     "metadata": {},
     "output_type": "execute_result"
    }
   ],
   "source": [
    "aviation_data[aviation_data['make_model']=='cessna-310r']['number_of_engines'].value_counts()"
   ]
  },
  {
   "cell_type": "code",
   "execution_count": 1598,
   "metadata": {},
   "outputs": [
    {
     "data": {
      "text/plain": [
       "10"
      ]
     },
     "execution_count": 1598,
     "metadata": {},
     "output_type": "execute_result"
    }
   ],
   "source": [
    "aviation_data[aviation_data['make_model']=='cessna-310r']['engine_type'].isna().sum()"
   ]
  },
  {
   "cell_type": "code",
   "execution_count": 1599,
   "metadata": {},
   "outputs": [
    {
     "data": {
      "text/plain": [
       "reciprocating    109\n",
       "Name: engine_type, dtype: int64"
      ]
     },
     "execution_count": 1599,
     "metadata": {},
     "output_type": "execute_result"
    }
   ],
   "source": [
    "aviation_data[aviation_data['make_model']=='cessna-310r']['engine_type'].value_counts()"
   ]
  },
  {
   "cell_type": "code",
   "execution_count": 1600,
   "metadata": {},
   "outputs": [
    {
     "data": {
      "text/plain": [
       "airplane             27580\n",
       "helicopter            3435\n",
       "glider                 508\n",
       "balloon                231\n",
       "gyrocraft              173\n",
       "weight-shift           161\n",
       "powered parachute       91\n",
       "ultralight              30\n",
       "unknown                 16\n",
       "wsft                     9\n",
       "powered-lift             5\n",
       "blimp                    4\n",
       "rocket                   1\n",
       "ultr                     1\n",
       "Name: aircraft_category, dtype: int64"
      ]
     },
     "execution_count": 1600,
     "metadata": {},
     "output_type": "execute_result"
    }
   ],
   "source": [
    "aviation_data['aircraft_category'].value_counts()"
   ]
  },
  {
   "cell_type": "code",
   "execution_count": 1601,
   "metadata": {},
   "outputs": [
    {
     "data": {
      "text/plain": [
       "56532"
      ]
     },
     "execution_count": 1601,
     "metadata": {},
     "output_type": "execute_result"
    }
   ],
   "source": [
    "aviation_data['aircraft_category'].isna().sum()"
   ]
  },
  {
   "cell_type": "markdown",
   "metadata": {},
   "source": [
    "This cell is computationally expensive, but it's been optimized twice"
   ]
  },
  {
   "cell_type": "code",
   "execution_count": 1602,
   "metadata": {},
   "outputs": [],
   "source": [
    "columns_to_impute = ['number_of_engines','engine_type','aircraft_category']\n",
    "\n",
    "def impute_with_mode(row):\n",
    "    #row is a series, and mode is the most common value in that series\n",
    "    mode = row.mode() \n",
    "    if not mode.empty:\n",
    "        #if we found a mode for this groupby series then impute it!\n",
    "        return row.fillna(mode[0]) \n",
    "    return row\n",
    "\n",
    "#group by model and save it so we don't recompute this every loop\n",
    "groupby = aviation_data.groupby('make_model')\n",
    "\n",
    "#loop over the cols we wish to impute the mode based on make_model\n",
    "for col in columns_to_impute:\n",
    "    #passes the groupby series for col for make_model pair to impute_with_mode\n",
    "    #then assigns the result of that to aviation_data\n",
    "    aviation_data[col] = groupby[col].transform(impute_with_mode)"
   ]
  },
  {
   "cell_type": "markdown",
   "metadata": {},
   "source": [
    "Testing it worked!"
   ]
  },
  {
   "cell_type": "code",
   "execution_count": 1603,
   "metadata": {},
   "outputs": [
    {
     "data": {
      "text/plain": [
       "2    117\n",
       "1      2\n",
       "Name: number_of_engines, dtype: Int64"
      ]
     },
     "execution_count": 1603,
     "metadata": {},
     "output_type": "execute_result"
    }
   ],
   "source": [
    "aviation_data[aviation_data['make_model']=='cessna-310r']['number_of_engines'].value_counts()"
   ]
  },
  {
   "cell_type": "code",
   "execution_count": 1604,
   "metadata": {},
   "outputs": [
    {
     "data": {
      "text/plain": [
       "0"
      ]
     },
     "execution_count": 1604,
     "metadata": {},
     "output_type": "execute_result"
    }
   ],
   "source": [
    "aviation_data[aviation_data['make_model']=='cessna-310r']['engine_type'].isna().sum()"
   ]
  },
  {
   "cell_type": "code",
   "execution_count": 1605,
   "metadata": {},
   "outputs": [
    {
     "data": {
      "text/plain": [
       "reciprocating    119\n",
       "Name: engine_type, dtype: int64"
      ]
     },
     "execution_count": 1605,
     "metadata": {},
     "output_type": "execute_result"
    }
   ],
   "source": [
    "aviation_data[aviation_data['make_model']=='cessna-310r']['engine_type'].value_counts()"
   ]
  },
  {
   "cell_type": "markdown",
   "metadata": {},
   "source": [
    "The number of rows imputed just knowing a make and model is elsewhere in the data is huuuuuuge"
   ]
  },
  {
   "cell_type": "code",
   "execution_count": 1606,
   "metadata": {},
   "outputs": [
    {
     "data": {
      "text/plain": [
       "airplane             67921\n",
       "helicopter            7236\n",
       "glider                 881\n",
       "balloon                376\n",
       "gyrocraft              200\n",
       "weight-shift           162\n",
       "powered parachute       92\n",
       "ultralight              32\n",
       "unknown                 16\n",
       "wsft                     9\n",
       "powered-lift             6\n",
       "blimp                    5\n",
       "rocket                   1\n",
       "ultr                     1\n",
       "Name: aircraft_category, dtype: int64"
      ]
     },
     "execution_count": 1606,
     "metadata": {},
     "output_type": "execute_result"
    }
   ],
   "source": [
    "aviation_data['aircraft_category'].value_counts()"
   ]
  },
  {
   "cell_type": "code",
   "execution_count": 1607,
   "metadata": {},
   "outputs": [
    {
     "data": {
      "text/plain": [
       "11839"
      ]
     },
     "execution_count": 1607,
     "metadata": {},
     "output_type": "execute_result"
    }
   ],
   "source": [
    "aviation_data['aircraft_category'].isna().sum()"
   ]
  },
  {
   "cell_type": "markdown",
   "metadata": {},
   "source": [
    "## Purpose of Flight\n",
    "\n",
    "Next, we can fill a lot of the missing values of 'purpose_of_flight' using the lists of our 'far_description' values. We don't need to get too specific, since we're really trying to compare the risk associated with commercial vs. private aircraft use."
   ]
  },
  {
   "cell_type": "code",
   "execution_count": 1608,
   "metadata": {},
   "outputs": [
    {
     "data": {
      "text/plain": [
       "array(['personal', nan, 'business', 'instructional', 'unknown', 'ferry',\n",
       "       'executive/corporate', 'aerial observation', 'aerial application',\n",
       "       'public aircraft', 'skydiving', 'other work use', 'positioning',\n",
       "       'flight test', 'air race/show', 'air drop',\n",
       "       'public aircraft - federal', 'glider tow',\n",
       "       'public aircraft - local', 'external load',\n",
       "       'public aircraft - state', 'banner tow', 'firefighting',\n",
       "       'air race show', 'pubs', 'asho', 'publ'], dtype=object)"
      ]
     },
     "execution_count": 1608,
     "metadata": {},
     "output_type": "execute_result"
    }
   ],
   "source": [
    "aviation_data['purpose_of_flight'].unique()"
   ]
  },
  {
   "cell_type": "code",
   "execution_count": 1609,
   "metadata": {},
   "outputs": [
    {
     "data": {
      "text/plain": [
       "6138"
      ]
     },
     "execution_count": 1609,
     "metadata": {},
     "output_type": "execute_result"
    }
   ],
   "source": [
    "aviation_data['purpose_of_flight'].isna().sum()"
   ]
  },
  {
   "cell_type": "code",
   "execution_count": 1610,
   "metadata": {},
   "outputs": [],
   "source": [
    "#Defining lists by breaking the 'far_description' values into categories 'commercial' and 'private' use\n",
    "commercial = ['129', '121', 'non-u.s., commercial']\n",
    "private_91 = ['91', '91k', '91f']\n",
    "private = ['135', '125', '103', 'non-u.s., non-commercial', '437', '107']\n",
    "government = ['armed forces', 'public aircraft']\n",
    "external_load = ['133']\n",
    "\n",
    "#Defining a function to fill the missing values in 'purpose_of_flight', using these lists\n",
    "def fill_purpose_flight(pf, far):\n",
    "    if pd.isna(pf):\n",
    "        if far in commercial:\n",
    "            return 'commercial'\n",
    "        elif far in private_91:\n",
    "            return 'private_91'\n",
    "        elif far in private:\n",
    "            return 'private'\n",
    "        elif far in government:\n",
    "            return 'government'\n",
    "        elif far in external_load:\n",
    "            return 'external load'\n",
    "    else:\n",
    "        return pf\n",
    "\n",
    "aviation_data['purpose_of_flight'] = aviation_data.apply(lambda x: fill_purpose_flight(x['purpose_of_flight'], x['far_description']), axis=1)"
   ]
  },
  {
   "cell_type": "code",
   "execution_count": 1611,
   "metadata": {},
   "outputs": [
    {
     "data": {
      "text/plain": [
       "4219"
      ]
     },
     "execution_count": 1611,
     "metadata": {},
     "output_type": "execute_result"
    }
   ],
   "source": [
    "aviation_data['purpose_of_flight'].isna().sum()"
   ]
  },
  {
   "cell_type": "code",
   "execution_count": 1612,
   "metadata": {},
   "outputs": [
    {
     "data": {
      "text/plain": [
       "event_id                      0\n",
       "investigation_type            0\n",
       "accident_number               0\n",
       "event_date                    0\n",
       "location                     52\n",
       "country                     225\n",
       "airport_code              40175\n",
       "airport_name              36263\n",
       "aircraft_damage            3291\n",
       "aircraft_category         11839\n",
       "registration_number        1702\n",
       "make                          0\n",
       "model                         0\n",
       "amateur_built                99\n",
       "number_of_engines          2985\n",
       "engine_type                3328\n",
       "far_description           56841\n",
       "schedule                  76245\n",
       "purpose_of_flight          4219\n",
       "air_carrier               72168\n",
       "total_fatal_injuries      11386\n",
       "total_serious_injuries    12490\n",
       "total_minor_injuries      11914\n",
       "total_uninjured            5897\n",
       "weather_condition          4439\n",
       "broad_phase_of_flight     27094\n",
       "report_status              6335\n",
       "injury_severity_type        979\n",
       "injury_severity_count     76232\n",
       "state                      6695\n",
       "make_model                    0\n",
       "dtype: int64"
      ]
     },
     "execution_count": 1612,
     "metadata": {},
     "output_type": "execute_result"
    }
   ],
   "source": [
    "aviation_data.isna().sum()"
   ]
  },
  {
   "cell_type": "markdown",
   "metadata": {},
   "source": [
    "# Post Imputation Cleanup and Categorization"
   ]
  },
  {
   "cell_type": "markdown",
   "metadata": {},
   "source": [
    "## Cleanup Aircraft Category\n",
    "\n",
    "We filled in a lot of missing values for aircraft_category.  Now lets use that to narrow our data set down to what we want to work with for this project which is only airplanes!"
   ]
  },
  {
   "cell_type": "code",
   "execution_count": 1613,
   "metadata": {},
   "outputs": [
    {
     "data": {
      "text/plain": [
       "array(['airplane', nan, 'helicopter', 'glider', 'balloon', 'gyrocraft',\n",
       "       'ultralight', 'unknown', 'weight-shift', 'blimp', 'powered-lift',\n",
       "       'powered parachute', 'rocket', 'wsft', 'ultr'], dtype=object)"
      ]
     },
     "execution_count": 1613,
     "metadata": {},
     "output_type": "execute_result"
    }
   ],
   "source": [
    "aviation_data['aircraft_category'].unique()"
   ]
  },
  {
   "cell_type": "markdown",
   "metadata": {},
   "source": [
    "We've already established that our company is looking to purchase aircrafts for large budgeted commercial purposes. So aircrafts other than 'airplanes' are irrelevant to our analysis. \n",
    "\n",
    "Through or exploratory research, we've found some 'make' values, or manufacturers, that are connected to the 'balloons' category. Let's drop these to be thorough, then continue examining our 'aircraft_category' column."
   ]
  },
  {
   "cell_type": "code",
   "execution_count": 1614,
   "metadata": {},
   "outputs": [
    {
     "name": "stdout",
     "output_type": "stream",
     "text": [
      "353               balloon works\n",
      "746               balloon works\n",
      "951               avian balloon\n",
      "1112     thunder balloons, ltd.\n",
      "1277              balloon works\n",
      "                  ...          \n",
      "87276      cameron balloons u s\n",
      "87314       lindstrand balloons\n",
      "87671        adams balloons llc\n",
      "87889          cameron balloons\n",
      "88476          firefly balloons\n",
      "Name: make, Length: 267, dtype: object\n"
     ]
    }
   ],
   "source": [
    "#Aicrafts with 'make' values that imply aircraft is a balloon\n",
    "print(aviation_data[aviation_data['make'].str.contains('balloon', case=False)]['make'])"
   ]
  },
  {
   "cell_type": "code",
   "execution_count": 1615,
   "metadata": {},
   "outputs": [
    {
     "data": {
      "text/plain": [
       "267"
      ]
     },
     "execution_count": 1615,
     "metadata": {},
     "output_type": "execute_result"
    }
   ],
   "source": [
    "#Getting sum of these values\n",
    "aviation_data['make'].str.contains('balloon', case=False).sum()"
   ]
  },
  {
   "cell_type": "code",
   "execution_count": 1616,
   "metadata": {},
   "outputs": [],
   "source": [
    "#Dropping these values\n",
    "#aviation_data.drop(aviation_data[aviation_data['make'].str.contains('balloon', case=False)].index, inplace=True)"
   ]
  },
  {
   "cell_type": "code",
   "execution_count": 1617,
   "metadata": {},
   "outputs": [
    {
     "data": {
      "text/plain": [
       "balloon    179\n",
       "Name: aircraft_category, dtype: int64"
      ]
     },
     "execution_count": 1617,
     "metadata": {},
     "output_type": "execute_result"
    }
   ],
   "source": [
    "aviation_data[aviation_data['make'].str.contains('balloon',case=False)]['aircraft_category'].value_counts()"
   ]
  },
  {
   "cell_type": "code",
   "execution_count": 1618,
   "metadata": {},
   "outputs": [],
   "source": [
    "#assign them all to balloon category\n",
    "aviation_data.loc[aviation_data['make'].str.contains('balloon',case=False),'aircraft_category'] = 'balloon'"
   ]
  },
  {
   "cell_type": "code",
   "execution_count": 1619,
   "metadata": {},
   "outputs": [
    {
     "data": {
      "text/plain": [
       "balloon    267\n",
       "Name: aircraft_category, dtype: int64"
      ]
     },
     "execution_count": 1619,
     "metadata": {},
     "output_type": "execute_result"
    }
   ],
   "source": [
    "aviation_data[aviation_data['make'].str.contains('balloon',case=False)]['aircraft_category'].value_counts()"
   ]
  },
  {
   "cell_type": "markdown",
   "metadata": {},
   "source": [
    "Back to our **aircraft categories**! "
   ]
  },
  {
   "cell_type": "code",
   "execution_count": 1620,
   "metadata": {},
   "outputs": [
    {
     "data": {
      "text/plain": [
       "0"
      ]
     },
     "execution_count": 1620,
     "metadata": {},
     "output_type": "execute_result"
    }
   ],
   "source": [
    "#Double checking for an error where 'nan' shows up\n",
    "nan_category_rows = aviation_data[aviation_data['aircraft_category'] == 'nan']\n",
    "len(nan_category_rows)"
   ]
  },
  {
   "cell_type": "markdown",
   "metadata": {},
   "source": [
    "Now let's define the few categories we're unfamiliar with, to be sure we don't need them. Then we can drop all the categories that are niether 'airplane' nor 'unknown'...\n",
    "\n",
    "**'wsft'**: Looks like an aircraft used primarily in the *United Kingdom*, for private use...The *Piper PA-23-250* \n",
    "\n",
    "**'ultr'**: Seems to be another abbrevation for the 'ultralight' category already defined.\n",
    "\n",
    "Neither of these are necessary to our data. Let's drop all of the unecessary information.\n",
    "\n",
    "Before we do so, let's check how many airplanes we have in our dataset, to make sure we have plenty of information.\n",
    "\n",
    "We'll also check the number of unknowns, and keep those for now."
   ]
  },
  {
   "cell_type": "code",
   "execution_count": 1621,
   "metadata": {},
   "outputs": [
    {
     "name": "stdout",
     "output_type": "stream",
     "text": [
      "Number of airplanes: 67921\n",
      "\n",
      "Number of unknown: 16\n"
     ]
    },
    {
     "data": {
      "text/plain": [
       "airplane             67921\n",
       "helicopter            7236\n",
       "glider                 881\n",
       "balloon                464\n",
       "gyrocraft              200\n",
       "weight-shift           162\n",
       "powered parachute       92\n",
       "ultralight              32\n",
       "unknown                 16\n",
       "wsft                     9\n",
       "powered-lift             6\n",
       "blimp                    5\n",
       "rocket                   1\n",
       "ultr                     1\n",
       "Name: aircraft_category, dtype: int64"
      ]
     },
     "metadata": {},
     "output_type": "display_data"
    }
   ],
   "source": [
    "num_airplane_rows = aviation_data[aviation_data['aircraft_category'] == 'airplane'].shape[0]\n",
    "num_unknown_category_rows = aviation_data[aviation_data['aircraft_category'] == 'unknown'].shape[0]\n",
    "print(\"Number of airplanes:\", num_airplane_rows)\n",
    "print(\"\")\n",
    "print(\"Number of unknown:\", num_unknown_category_rows)\n",
    "display(aviation_data['aircraft_category'].value_counts())"
   ]
  },
  {
   "cell_type": "markdown",
   "metadata": {},
   "source": [
    "Now we can use aircraft_category to answer questions!"
   ]
  },
  {
   "cell_type": "markdown",
   "metadata": {},
   "source": [
    "## Percentage of Injuries\n",
    "\n",
    "To make our numbers more digestable and easier to plot in visualizations...let's start grouping the number and types of injuries in our dataset.\n",
    "\n",
    "First, we'll make a new column with 'total_injuries', by combining the number of serious and fatal injuries in each accident. \n",
    "\n",
    "We can make an additional column to calculate the percentage injured."
   ]
  },
  {
   "cell_type": "code",
   "execution_count": 1622,
   "metadata": {},
   "outputs": [],
   "source": [
    "#Make new column 'total_injuries'\n",
    "aviation_data['total_injuries'] = aviation_data['total_fatal_injuries'] + aviation_data['total_serious_injuries']\n",
    "\n",
    "#Calculate percentage of serious injuries\n",
    "aviation_data['percentage_injured'] = aviation_data['total_injuries'] / (aviation_data['total_injuries'] + aviation_data['total_minor_injuries'] + aviation_data['total_uninjured'])\n",
    "aviation_data['percentage_injured'] = aviation_data['percentage_injured'] * 100"
   ]
  },
  {
   "cell_type": "code",
   "execution_count": 1623,
   "metadata": {},
   "outputs": [
    {
     "data": {
      "text/html": [
       "<div>\n",
       "<style scoped>\n",
       "    .dataframe tbody tr th:only-of-type {\n",
       "        vertical-align: middle;\n",
       "    }\n",
       "\n",
       "    .dataframe tbody tr th {\n",
       "        vertical-align: top;\n",
       "    }\n",
       "\n",
       "    .dataframe thead th {\n",
       "        text-align: right;\n",
       "    }\n",
       "</style>\n",
       "<table border=\"1\" class=\"dataframe\">\n",
       "  <thead>\n",
       "    <tr style=\"text-align: right;\">\n",
       "      <th></th>\n",
       "      <th>number_of_engines</th>\n",
       "      <th>total_fatal_injuries</th>\n",
       "      <th>total_serious_injuries</th>\n",
       "      <th>total_minor_injuries</th>\n",
       "      <th>total_uninjured</th>\n",
       "      <th>injury_severity_count</th>\n",
       "      <th>total_injuries</th>\n",
       "      <th>percentage_injured</th>\n",
       "    </tr>\n",
       "  </thead>\n",
       "  <tbody>\n",
       "    <tr>\n",
       "      <th>count</th>\n",
       "      <td>85792.000000</td>\n",
       "      <td>77391.000000</td>\n",
       "      <td>76287.000000</td>\n",
       "      <td>76863.000000</td>\n",
       "      <td>82880.000000</td>\n",
       "      <td>12545.000000</td>\n",
       "      <td>74739.000000</td>\n",
       "      <td>74270</td>\n",
       "    </tr>\n",
       "    <tr>\n",
       "      <th>mean</th>\n",
       "      <td>1.182196</td>\n",
       "      <td>0.647543</td>\n",
       "      <td>0.279812</td>\n",
       "      <td>0.357194</td>\n",
       "      <td>5.321634</td>\n",
       "      <td>2.836110</td>\n",
       "      <td>0.798030</td>\n",
       "      <td>NaN</td>\n",
       "    </tr>\n",
       "    <tr>\n",
       "      <th>std</th>\n",
       "      <td>0.449072</td>\n",
       "      <td>5.488727</td>\n",
       "      <td>1.544400</td>\n",
       "      <td>2.236761</td>\n",
       "      <td>27.913573</td>\n",
       "      <td>11.242476</td>\n",
       "      <td>5.046075</td>\n",
       "      <td>&lt;NA&gt;</td>\n",
       "    </tr>\n",
       "    <tr>\n",
       "      <th>min</th>\n",
       "      <td>1.000000</td>\n",
       "      <td>0.000000</td>\n",
       "      <td>0.000000</td>\n",
       "      <td>0.000000</td>\n",
       "      <td>0.000000</td>\n",
       "      <td>1.000000</td>\n",
       "      <td>0.000000</td>\n",
       "      <td>NaN</td>\n",
       "    </tr>\n",
       "    <tr>\n",
       "      <th>25%</th>\n",
       "      <td>1.000000</td>\n",
       "      <td>0.000000</td>\n",
       "      <td>0.000000</td>\n",
       "      <td>0.000000</td>\n",
       "      <td>0.000000</td>\n",
       "      <td>1.000000</td>\n",
       "      <td>0.000000</td>\n",
       "      <td>0.0</td>\n",
       "    </tr>\n",
       "    <tr>\n",
       "      <th>50%</th>\n",
       "      <td>1.000000</td>\n",
       "      <td>0.000000</td>\n",
       "      <td>0.000000</td>\n",
       "      <td>0.000000</td>\n",
       "      <td>1.000000</td>\n",
       "      <td>2.000000</td>\n",
       "      <td>0.000000</td>\n",
       "      <td>0.0</td>\n",
       "    </tr>\n",
       "    <tr>\n",
       "      <th>75%</th>\n",
       "      <td>1.000000</td>\n",
       "      <td>0.000000</td>\n",
       "      <td>0.000000</td>\n",
       "      <td>0.000000</td>\n",
       "      <td>2.000000</td>\n",
       "      <td>2.000000</td>\n",
       "      <td>1.000000</td>\n",
       "      <td>100.0</td>\n",
       "    </tr>\n",
       "    <tr>\n",
       "      <th>max</th>\n",
       "      <td>8.000000</td>\n",
       "      <td>349.000000</td>\n",
       "      <td>161.000000</td>\n",
       "      <td>380.000000</td>\n",
       "      <td>699.000000</td>\n",
       "      <td>349.000000</td>\n",
       "      <td>295.000000</td>\n",
       "      <td>NaN</td>\n",
       "    </tr>\n",
       "  </tbody>\n",
       "</table>\n",
       "</div>"
      ],
      "text/plain": [
       "       number_of_engines  total_fatal_injuries  total_serious_injuries  \\\n",
       "count       85792.000000          77391.000000            76287.000000   \n",
       "mean            1.182196              0.647543                0.279812   \n",
       "std             0.449072              5.488727                1.544400   \n",
       "min             1.000000              0.000000                0.000000   \n",
       "25%             1.000000              0.000000                0.000000   \n",
       "50%             1.000000              0.000000                0.000000   \n",
       "75%             1.000000              0.000000                0.000000   \n",
       "max             8.000000            349.000000              161.000000   \n",
       "\n",
       "       total_minor_injuries  total_uninjured  injury_severity_count  \\\n",
       "count          76863.000000     82880.000000           12545.000000   \n",
       "mean               0.357194         5.321634               2.836110   \n",
       "std                2.236761        27.913573              11.242476   \n",
       "min                0.000000         0.000000               1.000000   \n",
       "25%                0.000000         0.000000               1.000000   \n",
       "50%                0.000000         1.000000               2.000000   \n",
       "75%                0.000000         2.000000               2.000000   \n",
       "max              380.000000       699.000000             349.000000   \n",
       "\n",
       "       total_injuries percentage_injured  \n",
       "count    74739.000000              74270  \n",
       "mean         0.798030                NaN  \n",
       "std          5.046075               <NA>  \n",
       "min          0.000000                NaN  \n",
       "25%          0.000000                0.0  \n",
       "50%          0.000000                0.0  \n",
       "75%          1.000000              100.0  \n",
       "max        295.000000                NaN  "
      ]
     },
     "execution_count": 1623,
     "metadata": {},
     "output_type": "execute_result"
    }
   ],
   "source": [
    "aviation_data.describe()"
   ]
  },
  {
   "cell_type": "markdown",
   "metadata": {},
   "source": [
    "### Fatal to Non-Fatal Ratio\n",
    "\n",
    "We can also make a column outlining the ratio of fatal to non-fatal injuries."
   ]
  },
  {
   "cell_type": "code",
   "execution_count": 1624,
   "metadata": {},
   "outputs": [
    {
     "data": {
      "text/plain": [
       "0.0         58550\n",
       "inf         12062\n",
       "1.0          1308\n",
       "0.5           320\n",
       "2.0           235\n",
       "            ...  \n",
       "0.0625          1\n",
       "0.571429        1\n",
       "0.007194        1\n",
       "112.0           1\n",
       "48.5            1\n",
       "Name: fatal_to_non_ratio, Length: 136, dtype: Int64"
      ]
     },
     "metadata": {},
     "output_type": "display_data"
    }
   ],
   "source": [
    "#Add a new column with the fatal to non-fatal ratio\n",
    "aviation_data['fatal_to_non_ratio'] = aviation_data['total_fatal_injuries']/(aviation_data['total_serious_injuries'] + aviation_data['total_minor_injuries'] + aviation_data['total_uninjured'])\n",
    "\n",
    "#Make sure you account for places where the denominator might be 0\n",
    "#aviation_data['fatal_to_non_ratio'].fillna(aviation_data['total_fatal_injuries'], inplace=True)\n",
    "\n",
    "#As well as places where the numerator and denominator are both 0\n",
    "#aviation_data['fatal_to_non_ratio'].fillna(0, inplace=True)\n",
    "\n",
    "display(aviation_data['fatal_to_non_ratio'].value_counts())"
   ]
  },
  {
   "cell_type": "markdown",
   "metadata": {},
   "source": [
    "## Categorize Severity and create severity_category\n",
    "We can make a new column that groups Fatal or Serious from all the other accident types\n",
    "since our data is only accidents then we don't know how many successful flights there were\n",
    "but we can use this column to indicate relative safety"
   ]
  },
  {
   "cell_type": "code",
   "execution_count": 1625,
   "metadata": {},
   "outputs": [
    {
     "data": {
      "text/plain": [
       "non-fatal      67305\n",
       "fatal          17793\n",
       "incident        2214\n",
       "minor            218\n",
       "serious          173\n",
       "unavailable       95\n",
       "Name: injury_severity_type, dtype: int64"
      ]
     },
     "metadata": {},
     "output_type": "display_data"
    },
    {
     "data": {
      "text/plain": [
       "0"
      ]
     },
     "metadata": {},
     "output_type": "display_data"
    },
    {
     "data": {
      "text/plain": [
       "Minor               70811\n",
       "Fatal or Serious    17966\n",
       "Name: severity_category, dtype: int64"
      ]
     },
     "metadata": {},
     "output_type": "display_data"
    },
    {
     "data": {
      "text/plain": [
       "0        Fatal or Serious\n",
       "1        Fatal or Serious\n",
       "2        Fatal or Serious\n",
       "3        Fatal or Serious\n",
       "4        Fatal or Serious\n",
       "               ...       \n",
       "88884               Minor\n",
       "88885               Minor\n",
       "88886               Minor\n",
       "88887               Minor\n",
       "88888               Minor\n",
       "Name: severity_category, Length: 88777, dtype: object"
      ]
     },
     "metadata": {},
     "output_type": "display_data"
    }
   ],
   "source": [
    "def categorize_severity(severity):\n",
    "    if severity in ['fatal', 'serious']:\n",
    "        return 'Fatal or Serious'\n",
    "    else:\n",
    "        return 'Minor'\n",
    "\n",
    "aviation_data['severity_category'] = aviation_data['injury_severity_type'].apply(categorize_severity)\n",
    "display(aviation_data['injury_severity_type'].value_counts())\n",
    "display(aviation_data['severity_category'].isna().sum())\n",
    "display(aviation_data['severity_category'].value_counts())\n",
    "display(aviation_data['severity_category'])"
   ]
  },
  {
   "cell_type": "markdown",
   "metadata": {},
   "source": [
    "# Questions (Business Understanding Section)"
   ]
  },
  {
   "cell_type": "markdown",
   "metadata": {},
   "source": [
    "## Question 1: What is the safest category of flight?"
   ]
  },
  {
   "cell_type": "code",
   "execution_count": 1626,
   "metadata": {},
   "outputs": [
    {
     "data": {
      "text/plain": [
       "event_id                      0\n",
       "investigation_type            0\n",
       "accident_number               0\n",
       "event_date                    0\n",
       "location                     52\n",
       "country                     225\n",
       "airport_code              40175\n",
       "airport_name              36263\n",
       "aircraft_damage            3291\n",
       "aircraft_category         11751\n",
       "registration_number        1702\n",
       "make                          0\n",
       "model                         0\n",
       "amateur_built                99\n",
       "number_of_engines          2985\n",
       "engine_type                3328\n",
       "far_description           56841\n",
       "schedule                  76245\n",
       "purpose_of_flight          4219\n",
       "air_carrier               72168\n",
       "total_fatal_injuries      11386\n",
       "total_serious_injuries    12490\n",
       "total_minor_injuries      11914\n",
       "total_uninjured            5897\n",
       "weather_condition          4439\n",
       "broad_phase_of_flight     27094\n",
       "report_status              6335\n",
       "injury_severity_type        979\n",
       "injury_severity_count     76232\n",
       "state                      6695\n",
       "make_model                    0\n",
       "total_injuries            14038\n",
       "percentage_injured        14507\n",
       "fatal_to_non_ratio        14507\n",
       "severity_category             0\n",
       "dtype: int64"
      ]
     },
     "execution_count": 1626,
     "metadata": {},
     "output_type": "execute_result"
    }
   ],
   "source": [
    "aviation_data.isna().sum()"
   ]
  },
  {
   "cell_type": "code",
   "execution_count": 1627,
   "metadata": {},
   "outputs": [
    {
     "data": {
      "text/plain": [
       "array([nan, 'air canada', 'rocky mountain helicopters, in', ...,\n",
       "       'sky west aviation inc trustee', 'gerber richard e',\n",
       "       'mc cessna 210n llc'], dtype=object)"
      ]
     },
     "execution_count": 1627,
     "metadata": {},
     "output_type": "execute_result"
    }
   ],
   "source": [
    "aviation_data['air_carrier'].unique()"
   ]
  },
  {
   "cell_type": "code",
   "execution_count": 1628,
   "metadata": {},
   "outputs": [],
   "source": [
    "#unique_air_carrier = aviation_data['air_carrier'].unique()\n",
    "#for value in unique_air_carrier:\n",
    "#    print(value)"
   ]
  },
  {
   "cell_type": "code",
   "execution_count": 1629,
   "metadata": {},
   "outputs": [
    {
     "data": {
      "text/plain": [
       "personal                     49413\n",
       "instructional                10599\n",
       "unknown                       6787\n",
       "aerial application            4710\n",
       "business                      4016\n",
       "positioning                   1645\n",
       "other work use                1264\n",
       "commercial                    1085\n",
       "ferry                          812\n",
       "aerial observation             794\n",
       "private                        793\n",
       "public aircraft                720\n",
       "executive/corporate            553\n",
       "flight test                    404\n",
       "skydiving                      182\n",
       "external load                  124\n",
       "public aircraft - federal      105\n",
       "banner tow                     101\n",
       "air race show                   99\n",
       "public aircraft - local         74\n",
       "public aircraft - state         64\n",
       "air race/show                   59\n",
       "glider tow                      53\n",
       "firefighting                    40\n",
       "private_91                      39\n",
       "air drop                        11\n",
       "asho                             6\n",
       "pubs                             4\n",
       "government                       1\n",
       "publ                             1\n",
       "Name: purpose_of_flight, dtype: int64"
      ]
     },
     "execution_count": 1629,
     "metadata": {},
     "output_type": "execute_result"
    }
   ],
   "source": [
    "aviation_data['purpose_of_flight'].value_counts()"
   ]
  },
  {
   "cell_type": "code",
   "execution_count": 1630,
   "metadata": {},
   "outputs": [
    {
     "data": {
      "text/plain": [
       "Index(['event_id', 'investigation_type', 'accident_number', 'event_date',\n",
       "       'location', 'country', 'airport_code', 'airport_name',\n",
       "       'aircraft_damage', 'aircraft_category', 'registration_number', 'make',\n",
       "       'model', 'amateur_built', 'number_of_engines', 'engine_type',\n",
       "       'far_description', 'schedule', 'purpose_of_flight', 'air_carrier',\n",
       "       'total_fatal_injuries', 'total_serious_injuries',\n",
       "       'total_minor_injuries', 'total_uninjured', 'weather_condition',\n",
       "       'broad_phase_of_flight', 'report_status', 'injury_severity_type',\n",
       "       'injury_severity_count', 'state', 'make_model', 'total_injuries',\n",
       "       'percentage_injured', 'fatal_to_non_ratio', 'severity_category'],\n",
       "      dtype='object')"
      ]
     },
     "execution_count": 1630,
     "metadata": {},
     "output_type": "execute_result"
    }
   ],
   "source": [
    "aviation_data.keys()"
   ]
  },
  {
   "cell_type": "markdown",
   "metadata": {},
   "source": [
    "# Category of Aircraft\n",
    "\n",
    "Let's begin to plot some of our data, to examine which category of *aircraft* and *air travel* are the safest. \n",
    "\n",
    "First, we should determine which category of air travel (commercial or private), is safest. Then we can examine what types of aircraft are use for these specific purposes. \n",
    "\n",
    "We'll begin by plotting the injury severity of accidents, for a few relevant 'purpose_of_travel' values. Our amount of data is distributed unevenly among different types of aircrafts, air travel, etc. Categories with significantly more data in the set could be evidence of types of airtravel that are higher risk, and therefore have a greater number of accidents. **Or**, this could simply be because of an unfounded bias in our data. \n",
    "\n",
    "To account for this, we'll plot the percentage of accidents that were 'Fatal or Serious', out of the total number of accidents that occured for each particular category of air travel and aircraft. "
   ]
  },
  {
   "cell_type": "markdown",
   "metadata": {},
   "source": [
    "To make things easier, let's first group together all of the 'personal', 'private', and 'private_91' flights, under one category: **'private'**, and the 'public aircraft', 'public aircraft - federal', 'public aircraft - state', and 'firefighting' under one category: **'government'**."
   ]
  },
  {
   "cell_type": "code",
   "execution_count": 1631,
   "metadata": {},
   "outputs": [
    {
     "data": {
      "text/plain": [
       "array(['private', 'commercial', 'business', 'instructional', 'unknown',\n",
       "       'ferry', 'executive/corporate', 'aerial observation',\n",
       "       'aerial application', 'government', None, 'skydiving',\n",
       "       'other work use', 'positioning', 'flight test', 'air race/show',\n",
       "       'air drop', 'glider tow', 'public aircraft - local',\n",
       "       'external load', 'banner tow', 'air race show', 'pubs', 'asho',\n",
       "       'publ'], dtype=object)"
      ]
     },
     "execution_count": 1631,
     "metadata": {},
     "output_type": "execute_result"
    }
   ],
   "source": [
    "#Clean the categories for 'purpose_of_flight'\n",
    "\n",
    "purpose_mapping = {\n",
    "    'personal': 'private',\n",
    "    'private': 'private',\n",
    "    'private_091': 'private',\n",
    "    'private_91':'private',\n",
    "    'public aircraft': 'government',\n",
    "    'public aircraft - federal': 'government',\n",
    "    'public aircraft - state': 'government',\n",
    "    'firefighting': 'government'\n",
    "}\n",
    "\n",
    "aviation_data['purpose_of_flight'] = aviation_data['purpose_of_flight'].replace(purpose_mapping)\n",
    "\n",
    "#Check to make sure it worked\n",
    "aviation_data['purpose_of_flight'].unique()"
   ]
  },
  {
   "cell_type": "markdown",
   "metadata": {},
   "source": [
    "Now let's get to graphing."
   ]
  },
  {
   "cell_type": "code",
   "execution_count": 1646,
   "metadata": {},
   "outputs": [
    {
     "data": {
      "text/html": [
       "<div>\n",
       "<style scoped>\n",
       "    .dataframe tbody tr th:only-of-type {\n",
       "        vertical-align: middle;\n",
       "    }\n",
       "\n",
       "    .dataframe tbody tr th {\n",
       "        vertical-align: top;\n",
       "    }\n",
       "\n",
       "    .dataframe thead th {\n",
       "        text-align: right;\n",
       "    }\n",
       "</style>\n",
       "<table border=\"1\" class=\"dataframe\">\n",
       "  <thead>\n",
       "    <tr style=\"text-align: right;\">\n",
       "      <th></th>\n",
       "      <th>purpose_of_flight</th>\n",
       "      <th>percentage</th>\n",
       "    </tr>\n",
       "  </thead>\n",
       "  <tbody>\n",
       "    <tr>\n",
       "      <th>0</th>\n",
       "      <td>business</td>\n",
       "      <td>26.593625</td>\n",
       "    </tr>\n",
       "    <tr>\n",
       "      <th>1</th>\n",
       "      <td>commercial</td>\n",
       "      <td>7.281106</td>\n",
       "    </tr>\n",
       "    <tr>\n",
       "      <th>2</th>\n",
       "      <td>government</td>\n",
       "      <td>24.623656</td>\n",
       "    </tr>\n",
       "    <tr>\n",
       "      <th>3</th>\n",
       "      <td>instructional</td>\n",
       "      <td>9.717898</td>\n",
       "    </tr>\n",
       "    <tr>\n",
       "      <th>4</th>\n",
       "      <td>private</td>\n",
       "      <td>21.184197</td>\n",
       "    </tr>\n",
       "  </tbody>\n",
       "</table>\n",
       "</div>"
      ],
      "text/plain": [
       "  purpose_of_flight  percentage\n",
       "0          business   26.593625\n",
       "1        commercial    7.281106\n",
       "2        government   24.623656\n",
       "3     instructional    9.717898\n",
       "4           private   21.184197"
      ]
     },
     "metadata": {},
     "output_type": "display_data"
    },
    {
     "data": {
      "image/png": "[encoded data removed]",
      "text/plain": [
       "<Figure size 1000x600 with 1 Axes>"
      ]
     },
     "metadata": {},
     "output_type": "display_data"
    }
   ],
   "source": [
    "#Filter the specific values in 'purpose_of_flight' that will be graphed\n",
    "purposes_to_graph = ['private', 'instructional', 'business', 'commercial', 'government']\n",
    "filtered_data_purp = aviation_data[aviation_data['purpose_of_flight'].isin(purposes_to_graph)]\n",
    "\n",
    "#Calculate the percentage of serious injury severity, by grouping the data\n",
    "#Flatten the dataframe, creating a new column 'percentage'\n",
    "severity_percentage_purp = filtered_data_purp.groupby('purpose_of_flight').apply(lambda x: (x['severity_category'].value_counts(normalize=True)*100)['Fatal or Serious']).reset_index(name='percentage')\n",
    "\n",
    "#Plot graph\n",
    "plt.figure(figsize=(10,6))\n",
    "sns.barplot(x='purpose_of_flight', y='percentage', data=severity_percentage_purp)\n",
    "plt.title('Percentage of Fatal or Serious Accidents by Purpose of Flight')\n",
    "plt.xlabel('Purpose of Flight')\n",
    "plt.ylabel('Percentage of Fatal or Serious Accidents')\n",
    "plt.xticks(rotation=45)\n",
    "plt.tight_layout()\n",
    "plt.show()"
   ]
  },
  {
   "cell_type": "code",
   "execution_count": 1652,
   "metadata": {},
   "outputs": [],
   "source": [
    "# Export to CSV for Tableau\n",
    "severity_percentage_purp.to_csv('tableau_data/graph-1.csv', index=False, sep=',')"
   ]
  },
  {
   "cell_type": "markdown",
   "metadata": {},
   "source": [
    "Interesting. Let's plot the number of severe injuries in comparison to the total number of accidents that occurred per each purpose of flight. To get a better visual."
   ]
  },
  {
   "cell_type": "code",
   "execution_count": 1513,
   "metadata": {},
   "outputs": [
    {
     "data": {
      "image/png": "[encoded data removed]",
      "text/plain": [
       "<Figure size 1000x600 with 1 Axes>"
      ]
     },
     "metadata": {},
     "output_type": "display_data"
    }
   ],
   "source": [
    "#Total number of accidents per 'purpose_of_flight'\n",
    "total_accidents_purp = filtered_data_purp.groupby('purpose_of_flight').size().reset_index(name='total_accidents_purp')\n",
    "#'Fatal or Serious' only from dataframe\n",
    "fatal_or_serious_purp = filtered_data_purp[filtered_data_purp['severity_category'] == 'Fatal or Serious']\n",
    "\n",
    "#Grouping by 'purpose_of_flight' to count the number of fatal or serious accidents\n",
    "fatal_or_serious_counts_purp = fatal_or_serious_purp.groupby('purpose_of_flight').size().reset_index(name='fatal_or_serious_purp')\n",
    "\n",
    "#Merge the two filtered dataframes on 'purpose_of_flight'\n",
    "merged_df_purp = pd.merge(total_accidents_purp, fatal_or_serious_counts_purp, on='purpose_of_flight')\n",
    "\n",
    "#Plot graph\n",
    "plt.figure(figsize=(10,6))\n",
    "#Plot the total number of accidents\n",
    "plt.bar(merged_df_purp['purpose_of_flight'], merged_df_purp['total_accidents_purp'], label='Total Accidents', color='skyblue')\n",
    "#Plot the 'Fatal or Serious' accidents on top of total accidents\n",
    "plt.bar(merged_df_purp['purpose_of_flight'], merged_df_purp['fatal_or_serious_purp'], label='Fatal or Serious', color='red')\n",
    "#Add labels and a title\n",
    "plt.title('Fatal or Serious Accidents Compared to Total Number of Accidents')\n",
    "plt.xlabel('Purpose of Flight')\n",
    "plt.ylabel('Number of Accidents')\n",
    "plt.xticks(rotation=45, ha='right')\n",
    "plt.legend()\n",
    "plt.tight_layout()\n",
    "plt.show()"
   ]
  },
  {
   "cell_type": "markdown",
   "metadata": {},
   "source": [
    "This drastically changes our perception of these numbers. Let's hone in on **commercial** and flights, since they seem to have a drastically lesser number of accidents. We need to zoom in, in order to get a better sense of the \"severity ratio\".\n",
    "\n",
    "Government air travel also appears to be low risk, but this is irrelevant for our analysis. The company to which we are pitching is not affiliated with the government, so they will not have the option to engage in this kind of air travel. \"Instructional\" air travel is irrelevant to our analysis as well. We can filter those out from now on. "
   ]
  },
  {
   "cell_type": "code",
   "execution_count": 1514,
   "metadata": {},
   "outputs": [
    {
     "data": {
      "image/png": "[encoded data removed]",
      "text/plain": [
       "<Figure size 800x600 with 1 Axes>"
      ]
     },
     "metadata": {},
     "output_type": "display_data"
    }
   ],
   "source": [
    "#Plotting the same graph but only for 'commercial' flights\n",
    "commercial_data_purp = merged_df_purp[merged_df_purp['purpose_of_flight'] == 'commercial']\n",
    "\n",
    "#Plotting graph\n",
    "plt.figure(figsize=(8,6))\n",
    "plt.bar(commercial_data_purp['purpose_of_flight'], commercial_data_purp['total_accidents_purp'], label='Total Accidents', color='skyblue')\n",
    "plt.bar(commercial_data_purp['purpose_of_flight'], commercial_data_purp['fatal_or_serious_purp'], label='Fatal or Serious', color='red')\n",
    "plt.title('Fatal or Serious Accidents Compared to Total Number of Accidents for Commercial Flights')\n",
    "plt.xlabel('Flight Category')\n",
    "plt.ylabel('Number of Accidents')\n",
    "plt.legend()\n",
    "plt.tight_layout()\n",
    "plt.show()"
   ]
  },
  {
   "cell_type": "markdown",
   "metadata": {},
   "source": [
    "Clearly, commercial flights are far lower risk: both in terms of total accidents, as well as percentage of accidents that are fatal or serious. \n",
    "\n",
    "The highest risk flights seem, by far, to be private. Let's take commercial flights and private flights and examine these further. Accounting for other risk factors such as weather, broad phase of flight, etc. that might be affecting our perception of the numbers. "
   ]
  },
  {
   "cell_type": "markdown",
   "metadata": {},
   "source": [
    "## Further Exploration: Commercial vs. Private Flights\n",
    "\n",
    "### Weather"
   ]
  },
  {
   "cell_type": "code",
   "execution_count": 1515,
   "metadata": {},
   "outputs": [
    {
     "data": {
      "text/plain": [
       "array(['unk', 'imc', 'vmc', nan], dtype=object)"
      ]
     },
     "execution_count": 1515,
     "metadata": {},
     "output_type": "execute_result"
    }
   ],
   "source": [
    "#Reminding ourselves of unique values in 'weather_condition'\n",
    "aviation_data['weather_condition'].unique()"
   ]
  },
  {
   "cell_type": "markdown",
   "metadata": {},
   "source": [
    "Let's look at how many commercial and private flights have 'weather_condition' data available. To make sure we have enough information at our disposal."
   ]
  },
  {
   "cell_type": "code",
   "execution_count": 1516,
   "metadata": {},
   "outputs": [
    {
     "name": "stdout",
     "output_type": "stream",
     "text": [
      "commercial imc count: 102\n",
      "commercial vmc count: 475\n",
      "private imc count: 3374\n",
      "private_vmc_count: 45889\n"
     ]
    }
   ],
   "source": [
    "#Filter the data for 'commercial' and 'private' flights\n",
    "commercial_private_flights = aviation_data[aviation_data['purpose_of_flight'].isin(['commercial', 'private'])]\n",
    "\n",
    "#Count occurrences of 'imc' and 'vmc' weather_condition values, for each category of flight\n",
    "commercial_imc_count = commercial_private_flights[(commercial_private_flights['purpose_of_flight'] == 'commercial') &\n",
    "                                                    (commercial_private_flights['weather_condition'] == 'imc')].shape[0]\n",
    "commercial_vmc_count = commercial_private_flights[(commercial_private_flights['purpose_of_flight'] == 'commercial') &\n",
    "                                                   (commercial_private_flights['weather_condition'] == 'vmc')].shape[0]\n",
    "private_imc_count = commercial_private_flights[(commercial_private_flights['purpose_of_flight'] == 'private') &\n",
    "                                                (commercial_private_flights['weather_condition'] == 'imc')].shape[0]\n",
    "private_vmc_count = commercial_private_flights[(commercial_private_flights['purpose_of_flight'] == 'private') &\n",
    "                                                (commercial_private_flights['weather_condition'] == 'vmc')].shape[0]\n",
    "\n",
    "print(\"commercial imc count:\", commercial_imc_count)\n",
    "print(\"commercial vmc count:\", commercial_vmc_count)\n",
    "print(\"private imc count:\", private_imc_count)\n",
    "print(\"private_vmc_count:\", private_vmc_count)"
   ]
  },
  {
   "cell_type": "markdown",
   "metadata": {},
   "source": [
    "These numbers are interesting, because for both private and commercial flights, there is a higher number of accidents documented during 'vmc' weather conditions. *IMC* indicates worse weather conditions, with visibility and cloud cover where the pilots must rely on cockpit instruments...IMC is what we consider \"worse\" weather, so it's interesting that VMC has a higher number of documented accidents.\n",
    "\n",
    "This could suggest a **problem with pilot navigation**.\n",
    "\n",
    "Let's plot these numbers with the 'Fatal or Serious' compared to total accidents ratio we were using before."
   ]
  },
  {
   "cell_type": "code",
   "execution_count": 1517,
   "metadata": {},
   "outputs": [
    {
     "data": {
      "image/png": "[encoded data removed]",
      "text/plain": [
       "<Figure size 1000x800 with 2 Axes>"
      ]
     },
     "metadata": {},
     "output_type": "display_data"
    }
   ],
   "source": [
    "#Get imc and vmc weather conditions\n",
    "weather_conditions = ['imc', 'vmc']\n",
    "\n",
    "#Using subplots this tim\n",
    "fig, axs = plt.subplots(len(weather_conditions), 1, figsize=(10,8), sharex=True)\n",
    "\n",
    "#Iterating over each weather condition\n",
    "for i, weather_condition in enumerate(weather_conditions):\n",
    "    weather_data_purp = commercial_private_flights[commercial_private_flights['weather_condition'] == weather_condition]\n",
    "    #Group by 'purpose_of_flight'\n",
    "    grouped_data_purp = weather_data_purp.groupby('purpose_of_flight').agg(\n",
    "        total_accidents_purp=('accident_number', 'count'),\n",
    "        fatal_or_serious_purp=('severity_category', lambda x: sum(x == 'Fatal or Serious'))\n",
    "    ).reset_index()\n",
    "    \n",
    "    #Set bar positions\n",
    "    x = np.arange(len(grouped_data_purp))\n",
    "    width = 0.35\n",
    "    #Plot bars for total accidents\n",
    "    axs[i].bar(x, grouped_data_purp['fatal_or_serious_purp'], width, label='Fatal or Serious', color='red')\n",
    "    #Plot bars for 'Fatal or Serious' accidents\n",
    "    axs[i].bar(x, grouped_data_purp['total_accidents_purp'], width, label='Total Accidents', color='skyblue')\n",
    "    #Labels, title, legend\n",
    "    axs[i].set_title(f'Weather Condition: {weather_condition.upper()}')\n",
    "    axs[i].set_ylabel('Number of Accidents')\n",
    "    axs[i].set_xticks(x)\n",
    "    axs[i].set_xticklabels(grouped_data_purp['purpose_of_flight'])\n",
    "    axs[i].legend()\n",
    "\n",
    "#Other labels and layout\n",
    "plt.xlabel('Purpose of Flight')\n",
    "plt.tight_layout()\n",
    "plt.show()"
   ]
  },
  {
   "cell_type": "markdown",
   "metadata": {},
   "source": [
    "### Broad Phase of Flight\n",
    "\n",
    "Let's do the same thing examining broad phase of flight, this time looking at only the number of 'fatal or serious' accidents for commercial and privatae flights."
   ]
  },
  {
   "cell_type": "code",
   "execution_count": 1518,
   "metadata": {},
   "outputs": [
    {
     "data": {
      "text/plain": [
       "array(['cruise', 'unknown', 'approach', 'climb', 'takeoff', 'landing',\n",
       "       'taxi', 'descent', 'maneuvering', 'standing', 'go-around', 'other',\n",
       "       nan], dtype=object)"
      ]
     },
     "execution_count": 1518,
     "metadata": {},
     "output_type": "execute_result"
    }
   ],
   "source": [
    "aviation_data['broad_phase_of_flight'].unique()"
   ]
  },
  {
   "cell_type": "code",
   "execution_count": 1519,
   "metadata": {},
   "outputs": [
    {
     "data": {
      "image/png": "[encoded data removed]",
      "text/plain": [
       "<Figure size 1000x600 with 1 Axes>"
      ]
     },
     "metadata": {},
     "output_type": "display_data"
    }
   ],
   "source": [
    "phase_flight = ['cruise', 'approach', 'climb', 'takeoff', 'landing', 'taxi', 'descent', 'maneuvering', 'standing', 'go-around']\n",
    "\n",
    "filtered_data_pf = commercial_private_flights[commercial_private_flights['broad_phase_of_flight'].isin(phase_flight)]\n",
    "fatal_or_serious_counts_pf = filtered_data_pf.groupby(['purpose_of_flight', 'broad_phase_of_flight'])['severity_category'].apply(lambda x: (x == 'Fatal or Serious').sum()).reset_index(name='count')\n",
    "\n",
    "plt.figure(figsize=(10,6))\n",
    "sns.barplot(x='broad_phase_of_flight', y='count', hue='purpose_of_flight', data=fatal_or_serious_counts_pf)\n",
    "plt.title('Number of Fatal or Serious Accidents by Broad Phase of Flight')\n",
    "plt.xlabel('Broad Phase of Flight')\n",
    "plt.ylabel('Number of Accidents')\n",
    "plt.xticks(rotation=45)\n",
    "plt.legend(title='Flight Category')\n",
    "plt.tight_layout()\n",
    "plt.show()"
   ]
  },
  {
   "cell_type": "markdown",
   "metadata": {},
   "source": [
    "Private flights have a drastically higher amount of accidents. Which means it's near impossible to visualize accidents on commercial flights in comparison. Let's do this same graph, but with commercial flights only."
   ]
  },
  {
   "cell_type": "code",
   "execution_count": 1520,
   "metadata": {},
   "outputs": [
    {
     "data": {
      "image/png": "[encoded data removed]",
      "text/plain": [
       "<Figure size 1000x600 with 1 Axes>"
      ]
     },
     "metadata": {},
     "output_type": "display_data"
    }
   ],
   "source": [
    "#Filtering data for only commercial flights\n",
    "commercial_flights = aviation_data[aviation_data['purpose_of_flight'] == 'commercial']\n",
    "filtered_data_pf = commercial_flights[commercial_flights['broad_phase_of_flight'].isin(phase_flight)]\n",
    "fatal_or_serious_counts_pf = filtered_data_pf.groupby('broad_phase_of_flight')['severity_category'].apply(lambda x: (x == 'Fatal or Serious').sum()).reset_index(name='count')\n",
    "\n",
    "plt.figure(figsize=(10,6))\n",
    "sns.barplot(x='broad_phase_of_flight', y='count', data=fatal_or_serious_counts_pf, color='skyblue')\n",
    "plt.title('Number of Fatal or Serious Accidents for Commercial Flights by Broad Phase of Flight')\n",
    "plt.xlabel('Broad Phase of Flight')\n",
    "plt.ylabel('Number of Accidents')\n",
    "plt.xticks(rotation=45)\n",
    "plt.tight_layout()\n",
    "plt.show()"
   ]
  },
  {
   "cell_type": "code",
   "execution_count": 1521,
   "metadata": {},
   "outputs": [
    {
     "data": {
      "text/plain": [
       "taxi        19\n",
       "standing    10\n",
       "climb        9\n",
       "landing      9\n",
       "cruise       6\n",
       "descent      4\n",
       "takeoff      3\n",
       "approach     3\n",
       "Name: broad_phase_of_flight, dtype: int64"
      ]
     },
     "execution_count": 1521,
     "metadata": {},
     "output_type": "execute_result"
    }
   ],
   "source": [
    "commercial_flights['broad_phase_of_flight'].value_counts()"
   ]
  },
  {
   "cell_type": "markdown",
   "metadata": {},
   "source": [
    "#### Outside research tells us that **landing** is actually the most accident-prone phase of flight. Clearly, there's not enough data to give us accurate depictions of these graphs. We'll keep the graphs in the notebook, in case there's an opportunity to fill in more data. Then our code will update, and these graphs above will have more information."
   ]
  },
  {
   "cell_type": "markdown",
   "metadata": {},
   "source": [
    "# Conclusion: Commercial\n",
    "\n",
    "Commercial flights are by far safer than private flights."
   ]
  },
  {
   "cell_type": "markdown",
   "metadata": {},
   "source": [
    "## Features of Aircraft: Number of Engines"
   ]
  },
  {
   "cell_type": "markdown",
   "metadata": {},
   "source": [
    "Let's examine the features an aircraft needs to be low-risk. Let's graph the number 'fatal or serious' injuries for commercial and private flights based on number of engines."
   ]
  },
  {
   "cell_type": "code",
   "execution_count": 1522,
   "metadata": {},
   "outputs": [
    {
     "data": {
      "text/plain": [
       "1    45069\n",
       "2     4593\n",
       "4       77\n",
       "3       43\n",
       "Name: number_of_engines, dtype: Int64"
      ]
     },
     "execution_count": 1522,
     "metadata": {},
     "output_type": "execute_result"
    }
   ],
   "source": [
    "commercial_private_flights['number_of_engines'].value_counts()"
   ]
  },
  {
   "cell_type": "code",
   "execution_count": 1523,
   "metadata": {},
   "outputs": [
    {
     "data": {
      "image/png": "[encoded data removed]",
      "text/plain": [
       "<Figure size 1000x600 with 1 Axes>"
      ]
     },
     "metadata": {},
     "output_type": "display_data"
    }
   ],
   "source": [
    "fatal_or_serious_counts = commercial_private_flights.groupby(['purpose_of_flight', 'number_of_engines'])['severity_category'].apply(lambda x: (x == 'Fatal or Serious').sum()).reset_index(name='count')\n",
    "\n",
    "plt.figure(figsize=(10,6))\n",
    "sns.scatterplot(x='number_of_engines', y='count', hue='purpose_of_flight', data=fatal_or_serious_counts, palette={'commercial': 'blue', 'private': 'green'})\n",
    "plt.title('Number of Fatal or Serious Accidents by Number of Engines')\n",
    "plt.xlabel('Number of Engines')\n",
    "plt.ylabel('Number of Accidents')\n",
    "plt.legend(title='Flight Category')\n",
    "plt.tight_layout()\n",
    "plt.show()"
   ]
  },
  {
   "cell_type": "markdown",
   "metadata": {},
   "source": [
    "Woah!!! Not at all enough information. Let's try the same plot, but looking at the total number of accidents."
   ]
  },
  {
   "cell_type": "code",
   "execution_count": 1524,
   "metadata": {},
   "outputs": [
    {
     "data": {
      "image/png": "[encoded data removed]",
      "text/plain": [
       "<Figure size 1000x600 with 1 Axes>"
      ]
     },
     "metadata": {},
     "output_type": "display_data"
    }
   ],
   "source": [
    "total_accidents_count = commercial_private_flights.groupby(['purpose_of_flight', 'number_of_engines']).size().reset_index(name='count')\n",
    "\n",
    "plt.figure(figsize=(10, 6))\n",
    "sns.scatterplot(x='number_of_engines', y='count', hue='purpose_of_flight', data=total_accidents_count, palette={'commercial': 'blue', 'private': 'green'})\n",
    "plt.title('Total Number of Accidents by Number of Engines')\n",
    "plt.xlabel('Number of Engines')\n",
    "plt.ylabel('Number of Accidents')\n",
    "plt.legend(title='Flight Category')\n",
    "plt.tight_layout()\n",
    "plt.show()"
   ]
  },
  {
   "cell_type": "markdown",
   "metadata": {},
   "source": [
    "Something is off with our data - either it's too concentrated, or not filtered correctly. Let's try the 'Fatal or Serious' plot again, this time with a bar graph."
   ]
  },
  {
   "cell_type": "code",
   "execution_count": 1525,
   "metadata": {},
   "outputs": [
    {
     "data": {
      "image/png": "[encoded data removed]",
      "text/plain": [
       "<Figure size 1200x600 with 1 Axes>"
      ]
     },
     "metadata": {},
     "output_type": "display_data"
    }
   ],
   "source": [
    "fatal_or_serious_counts = commercial_private_flights.groupby(['number_of_engines', 'purpose_of_flight'])['severity_category'].apply(lambda x: (x == 'Fatal or Serious').sum()).reset_index(name='count')\n",
    "\n",
    "plt.figure(figsize=(12,6))\n",
    "sns.barplot(x='number_of_engines', y='count', hue='purpose_of_flight', data=fatal_or_serious_counts)\n",
    "plt.title('Number of Fatal or Serious Accidents by Number of Engines')\n",
    "plt.xlabel('Number of Engines')\n",
    "plt.ylabel('Number of Accidents')\n",
    "plt.legend(title='Flight Category')\n",
    "plt.tight_layout()\n",
    "plt.show()"
   ]
  },
  {
   "cell_type": "markdown",
   "metadata": {},
   "source": [
    "Clearly, having at least 2 engines is lower-risk. \n",
    "\n",
    "Let's adjust our scale and have two separate graphs, so we can look at our commercial flight numbers better."
   ]
  },
  {
   "cell_type": "code",
   "execution_count": 1526,
   "metadata": {},
   "outputs": [
    {
     "data": {
      "image/png": "[encoded data removed]",
      "text/plain": [
       "<Figure size 1000x600 with 1 Axes>"
      ]
     },
     "metadata": {},
     "output_type": "display_data"
    },
    {
     "data": {
      "image/png": "[encoded data removed]",
      "text/plain": [
       "<Figure size 1000x600 with 1 Axes>"
      ]
     },
     "metadata": {},
     "output_type": "display_data"
    }
   ],
   "source": [
    "# Filter the data for commercial flights\n",
    "commercial_flights = aviation_data[aviation_data['purpose_of_flight'] == 'commercial']\n",
    "\n",
    "# Group the filtered data by 'number_of_engines' and calculate the total number of accidents and 'Fatal or Serious' accidents\n",
    "total_accidents_commercial = commercial_flights.groupby('number_of_engines').size().reset_index(name='total_accidents')\n",
    "fatal_or_serious_commercial = commercial_flights[commercial_flights['severity_category'] == 'Fatal or Serious'].groupby('number_of_engines').size().reset_index(name='fatal_or_serious')\n",
    "\n",
    "# Merge the dataframes to have the 'total_accidents' and 'fatal_or_serious' columns for commercial flights\n",
    "merged_data_commercial = pd.merge(total_accidents_commercial, fatal_or_serious_commercial, on='number_of_engines', how='outer')\n",
    "\n",
    "# Plot the bar graph for commercial flights\n",
    "plt.figure(figsize=(10, 6))\n",
    "sns.barplot(x='number_of_engines', y='total_accidents', data=merged_data_commercial, color='skyblue', label='Total Accidents')\n",
    "sns.barplot(x='number_of_engines', y='fatal_or_serious', data=merged_data_commercial, color='red', label='Fatal or Serious Accidents')\n",
    "\n",
    "plt.title('Commercial Flights: Total Accidents vs Fatal or Serious Accidents by Number of Engines')\n",
    "plt.xlabel('Number of Engines')\n",
    "plt.ylabel('Number of Accidents')\n",
    "plt.legend()\n",
    "plt.tight_layout()\n",
    "plt.show()\n",
    "\n",
    "# Filter the data for private flights\n",
    "private_flights = aviation_data[aviation_data['purpose_of_flight'] == 'private']\n",
    "\n",
    "# Group the filtered data by 'number_of_engines' and calculate the total number of accidents and 'Fatal or Serious' accidents\n",
    "total_accidents_private = private_flights.groupby('number_of_engines').size().reset_index(name='total_accidents')\n",
    "fatal_or_serious_private = private_flights[private_flights['severity_category'] == 'Fatal or Serious'].groupby('number_of_engines').size().reset_index(name='fatal_or_serious')\n",
    "\n",
    "# Merge the dataframes to have the 'total_accidents' and 'fatal_or_serious' columns for private flights\n",
    "merged_data_private = pd.merge(total_accidents_private, fatal_or_serious_private, on='number_of_engines', how='outer')\n",
    "\n",
    "# Plot the bar graph for private flights\n",
    "plt.figure(figsize=(10, 6))\n",
    "sns.barplot(x='number_of_engines', y='total_accidents', data=merged_data_private, color='lightgreen', label='Total Accidents')\n",
    "sns.barplot(x='number_of_engines', y='fatal_or_serious', data=merged_data_private, color='darkgreen', label='Fatal or Serious Accidents')\n",
    "\n",
    "plt.title('Private Flights: Total Accidents vs Fatal or Serious Accidents by Number of Engines')\n",
    "plt.xlabel('Number of Engines')\n",
    "plt.ylabel('Number of Accidents')\n",
    "plt.legend()\n",
    "plt.tight_layout()\n",
    "plt.show()"
   ]
  },
  {
   "cell_type": "markdown",
   "metadata": {},
   "source": [
    "Let's check how much data our graph is drawing from."
   ]
  },
  {
   "cell_type": "code",
   "execution_count": 1527,
   "metadata": {},
   "outputs": [
    {
     "data": {
      "text/plain": [
       "2    869\n",
       "4     65\n",
       "1     52\n",
       "3     37\n",
       "Name: number_of_engines, dtype: Int64"
      ]
     },
     "execution_count": 1527,
     "metadata": {},
     "output_type": "execute_result"
    }
   ],
   "source": [
    "commercial_flights['number_of_engines'].value_counts()"
   ]
  },
  {
   "cell_type": "code",
   "execution_count": 1528,
   "metadata": {},
   "outputs": [
    {
     "data": {
      "text/plain": [
       "1    45017\n",
       "2     3724\n",
       "4       12\n",
       "3        6\n",
       "Name: number_of_engines, dtype: Int64"
      ]
     },
     "execution_count": 1528,
     "metadata": {},
     "output_type": "execute_result"
    }
   ],
   "source": [
    "private_flights['number_of_engines'].value_counts()"
   ]
  },
  {
   "cell_type": "markdown",
   "metadata": {},
   "source": [
    "# Conclusion\n",
    "\n",
    "If we compare the two graphs above, knowing that **commercial flights are safer** than private flights...then we can conclude that the number of engines found most on commercial airplanes is the lowest-risk.\n",
    "\n",
    "From this we can deduce that having **2 engines or more** is the low-risk option when purchasing an aircraft."
   ]
  },
  {
   "cell_type": "code",
   "execution_count": null,
   "metadata": {},
   "outputs": [],
   "source": []
  },
  {
   "cell_type": "markdown",
   "metadata": {},
   "source": [
    "## Question 3: What are the safest features of an airplane?\n",
    "'amateur_built', 'number_of_engines', 'engine_type', 'far_description', 'schedule', 'purpose_of_flight'"
   ]
  },
  {
   "cell_type": "code",
   "execution_count": 1529,
   "metadata": {},
   "outputs": [],
   "source": [
    "cols_to_compare = ['amateur_built', 'number_of_engines', 'engine_type', 'far_description', 'schedule', 'purpose_of_flight']"
   ]
  },
  {
   "cell_type": "markdown",
   "metadata": {},
   "source": [
    "## Question 4: What is the safest airplane?\n",
    "Here we show what is the safest airplane"
   ]
  },
  {
   "cell_type": "code",
   "execution_count": null,
   "metadata": {},
   "outputs": [],
   "source": []
  },
  {
   "cell_type": "markdown",
   "metadata": {},
   "source": [
    "## Question 5: What is the safest location for airflight?\n",
    "Here we show what is the safest location for flying"
   ]
  },
  {
   "cell_type": "code",
   "execution_count": null,
   "metadata": {},
   "outputs": [],
   "source": []
  },
  {
   "cell_type": "markdown",
   "metadata": {},
   "source": [
    "## Question 6: What is the safest airport for airflight?\n",
    "Here we show what the safest airport is for airplanes"
   ]
  },
  {
   "cell_type": "code",
   "execution_count": null,
   "metadata": {},
   "outputs": [],
   "source": []
  },
  {
   "cell_type": "markdown",
   "metadata": {},
   "source": [
    "# 3 Questions \n",
    "(missing data with injury counts for all)\n",
    "\n",
    "1) What is the safest category of flight? (private or commercial) \n",
    "\n",
    "2) What are the safest features of an aircraft? (engine type and number) (more missing data) \n",
    "\n",
    "3) What is the safest make/manufacturer to buy from?  Bonus what is the safest model (no missing data)"
   ]
  },
  {
   "cell_type": "markdown",
   "metadata": {},
   "source": []
  }
 ],
 "metadata": {
  "kernelspec": {
   "display_name": "Python 3 (ipykernel)",
   "language": "python",
   "name": "python3"
  },
  "language_info": {
   "codemirror_mode": {
    "name": "ipython",
    "version": 3
   },
   "file_extension": ".py",
   "mimetype": "text/x-python",
   "name": "python",
   "nbconvert_exporter": "python",
   "pygments_lexer": "ipython3",
   "version": "3.10.14"
  }
 },
 "nbformat": 4,
 "nbformat_minor": 4
}
